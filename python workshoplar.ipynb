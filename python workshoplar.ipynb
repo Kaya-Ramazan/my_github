{
 "cells": [
  {
   "cell_type": "markdown",
   "metadata": {},
   "source": [
    "### Problem 1\n",
    "Kullanıcı tarafından girilen üç sayıyı çarpan bir program yazın. Çıktıyı yazdırın. "
   ]
  },
  {
   "cell_type": "code",
   "execution_count": 3,
   "metadata": {},
   "outputs": [
    {
     "name": "stdout",
     "output_type": "stream",
     "text": [
      "Multiplication\n",
      "1 Sayi :  454\n",
      "2 Sayi :  464\n",
      "3 Sayi :  445\n",
      "Multiplication : 93741920.0\n"
     ]
    }
   ],
   "source": [
    "print(\"Multiplication\")\n",
    "Sayi1 = (input(\"1 Sayi :  \"))\n",
    "Sayi2 = (input(\"2 Sayi :  \"))\n",
    "Sayi3 = (input(\"3 Sayi :  \"))\n",
    "\n",
    "Multiplication = float(Sayi1) * float(Sayi2) * float(Sayi3)\n",
    "print(\"Multiplication : {}\".format(Multiplication))\n"
   ]
  },
  {
   "cell_type": "markdown",
   "metadata": {},
   "source": []
  },
  {
   "cell_type": "markdown",
   "metadata": {},
   "source": [
    "###  baska bir cözumu "
   ]
  },
  {
   "cell_type": "code",
   "execution_count": 2,
   "metadata": {},
   "outputs": [
    {
     "name": "stdout",
     "output_type": "stream",
     "text": [
      "Enter first number : 15\n",
      "Enter second number : 45\n",
      "Enter third number : 54\n",
      "Total_number = 36450.0\n"
     ]
    }
   ],
   "source": [
    "number1 = float(input(\"Enter first number : \"))\n",
    "number2 = float(input(\"Enter second number : \"))\n",
    "number3 = float(input(\"Enter third number : \"))\n",
    "\n",
    "total = (number1 * number2 * number3)\n",
    "\n",
    "print(\"Total_number = {}\".format(total))"
   ]
  },
  {
   "cell_type": "code",
   "execution_count": null,
   "metadata": {},
   "outputs": [],
   "source": []
  },
  {
   "cell_type": "code",
   "execution_count": null,
   "metadata": {},
   "outputs": [],
   "source": []
  },
  {
   "cell_type": "code",
   "execution_count": null,
   "metadata": {},
   "outputs": [],
   "source": []
  },
  {
   "cell_type": "markdown",
   "metadata": {},
   "source": [
    "###  Problem 2\n",
    "Kullanıcı tarafından girilen boy ve kilodan vücut kitle indeksini hesaplayan bir program yazın.\n",
    "\n",
    "Vücut kitle indeksi : Weight / Height(m) x Height(m)"
   ]
  },
  {
   "cell_type": "code",
   "execution_count": null,
   "metadata": {},
   "outputs": [
    {
     "name": "stdout",
     "output_type": "stream",
     "text": [
      "VÜCUT KİTLE ENDEKSİ HESAPLAMA PROGRAMI\n"
     ]
    }
   ],
   "source": [
    "print(\"VÜCUT KİTLE ENDEKSİ HESAPLAMA PROGRAMI\")\n",
    "boy = float(input(\"Boy (m):\"))\n",
    "kilo = int(input(\"Kilo (kg):\"))\n",
    " \n",
    "endeks  = kilo/(boy*boy)\n",
    " \n",
    "if endeks <18:\n",
    "    print(\"\\n zayıf VKİ:{}\".format(endeks))\n",
    "elif endeks >= 18 and endeks <25 :\n",
    "    print(\"\\n normal VKİ:{}\".format(endeks))\n",
    "elif endeks >= 25 and endeks <30:\n",
    "    print(\"\\n kilolu VKİ:{}\".format(endeks))\n",
    "elif endeks >= 30 and endeks <35:\n",
    "    print(\"\\n obez VKİ:{}\".format(endeks))\n",
    "else:\n",
    "    print(\"\\n ciddi obez VKİ:{}\".format(endeks)) "
   ]
  },
  {
   "cell_type": "code",
   "execution_count": null,
   "metadata": {},
   "outputs": [],
   "source": []
  },
  {
   "cell_type": "code",
   "execution_count": null,
   "metadata": {},
   "outputs": [],
   "source": []
  },
  {
   "cell_type": "markdown",
   "metadata": {},
   "source": [
    "### Sorun 3\n",
    "200 usdollar'ınızla, her biri 11 dolara kaç parça malzeme alabilirsiniz? Satın aldıktan sonra ne kadar paranız kaldı?"
   ]
  },
  {
   "cell_type": "code",
   "execution_count": null,
   "metadata": {},
   "outputs": [
    {
     "name": "stdout",
     "output_type": "stream",
     "text": [
      "Multiplication\n"
     ]
    }
   ],
   "source": [
    "print(\"Multiplication\")\n",
    "Sayi1 = (input(\"1 Sayi :  \"))\n",
    "Sayi2 = (input(\"2 Sayi :  \"))\n",
    "Sayi3 = (input(\"3 Sayi :  \"))\n",
    "\n",
    "Multiplication = float(Sayi1) * float(Sayi2) * float(Sayi3)\n",
    "print(\"Multiplication : {}\".format(Multiplication))\n"
   ]
  },
  {
   "cell_type": "code",
   "execution_count": null,
   "metadata": {},
   "outputs": [],
   "source": []
  },
  {
   "cell_type": "code",
   "execution_count": null,
   "metadata": {},
   "outputs": [],
   "source": []
  },
  {
   "cell_type": "code",
   "execution_count": null,
   "metadata": {},
   "outputs": [],
   "source": []
  },
  {
   "cell_type": "markdown",
   "metadata": {},
   "source": [
    "### Sorun 4\n",
    "Kullanıcıdan iki sayı isteyin ve bu sayıları değişkenlere atayın ve bu değişkenlerin değerlerini birbirleriyle değiştirin."
   ]
  },
  {
   "cell_type": "code",
   "execution_count": 4,
   "metadata": {},
   "outputs": [
    {
     "name": "stdout",
     "output_type": "stream",
     "text": [
      "1 Sayi :  7\n",
      "2 Sayi :  6\n"
     ]
    }
   ],
   "source": [
    "Sayi1 = float(input(\"1 Sayi :  \"))\n",
    "Sayi2 = float(input(\"2 Sayi :  \"))\n",
    "\n",
    "x = Sayi1\n",
    "y = Sayi2 \n",
    "\n",
    "temp = x\n",
    "x = y\n",
    "y = temp"
   ]
  },
  {
   "cell_type": "code",
   "execution_count": null,
   "metadata": {},
   "outputs": [],
   "source": []
  },
  {
   "cell_type": "code",
   "execution_count": 1,
   "metadata": {},
   "outputs": [
    {
     "name": "stdout",
     "output_type": "stream",
     "text": [
      "1 Sayi :  45\n",
      "2 Sayi :  65\n",
      "X = 65.0\n",
      "y = 45.0\n"
     ]
    }
   ],
   "source": [
    "Sayi1 = float(input(\"1 Sayi :  \"))\n",
    "Sayi2 = float(input(\"2 Sayi :  \"))\n",
    "x = Sayi1\n",
    "y = Sayi2\n",
    "temp = x\n",
    "x = y\n",
    "y = temp\n",
    "print(\"X = \" + str(x))\n",
    "print(\"y = \" + str(y))"
   ]
  },
  {
   "cell_type": "code",
   "execution_count": null,
   "metadata": {},
   "outputs": [],
   "source": []
  },
  {
   "cell_type": "code",
   "execution_count": null,
   "metadata": {},
   "outputs": [],
   "source": []
  },
  {
   "cell_type": "code",
   "execution_count": 12,
   "metadata": {},
   "outputs": [
    {
     "name": "stdout",
     "output_type": "stream",
     "text": [
      "write first number you want: 7\n",
      "write second number you want:8\n",
      "8.0 7.0\n"
     ]
    }
   ],
   "source": [
    "number_one = float(input('write first number you want: '))\n",
    "number_two = float(input('write second number you want:'))\n",
    "\n",
    "number_one, number_two = number_two, number_one\n",
    "print(number_one, number_two)"
   ]
  },
  {
   "cell_type": "code",
   "execution_count": null,
   "metadata": {},
   "outputs": [],
   "source": []
  },
  {
   "cell_type": "markdown",
   "metadata": {},
   "source": [
    "### Sorun 5\n",
    "Çözmek için bir Python programı yazın (x - y) * (x + y)."
   ]
  },
  {
   "cell_type": "code",
   "execution_count": 3,
   "metadata": {},
   "outputs": [
    {
     "name": "stdout",
     "output_type": "stream",
     "text": [
      "56\n"
     ]
    }
   ],
   "source": [
    "x=9\n",
    "y=5\n",
    "\n",
    "result = (x-y) * (x+y)\n",
    "\n",
    "print(result)"
   ]
  },
  {
   "cell_type": "code",
   "execution_count": null,
   "metadata": {},
   "outputs": [],
   "source": []
  },
  {
   "cell_type": "code",
   "execution_count": 13,
   "metadata": {},
   "outputs": [
    {
     "name": "stdout",
     "output_type": "stream",
     "text": [
      "bir sayi gir=5\n",
      "sayi gir=4\n",
      "9\n"
     ]
    }
   ],
   "source": [
    "x= int(input(\"bir sayi gir=\"))\n",
    "y= int(input(\"sayi gir=\"))\n",
    "print(int ((x + y) * (x- y)))"
   ]
  },
  {
   "cell_type": "code",
   "execution_count": null,
   "metadata": {},
   "outputs": [],
   "source": []
  },
  {
   "cell_type": "markdown",
   "metadata": {},
   "source": [
    "### Sorun 6\n",
    "Kullanıcıdan sözcük, ayırıcı ve yineleme değerleri alın ve sözcüğü verilen değerlere göre ekrandaki değer kadar yazdırın.repetition\n",
    "\n",
    "Ex: word = ali, sep = /, repetition = 3 ----> ali/ali/ali"
   ]
  },
  {
   "cell_type": "code",
   "execution_count": 4,
   "metadata": {},
   "outputs": [
    {
     "name": "stdout",
     "output_type": "stream",
     "text": [
      "word giriniz :Akif\n",
      "seperator giriniz :*\n",
      "tekrar sayisini giriniz :5\n",
      "sonuc : Akif*Akif*Akif*Akif*Akif*\n"
     ]
    }
   ],
   "source": [
    "word=input(\"word giriniz :\")\n",
    "seperator=input(\"seperator giriniz :\")\n",
    "tekrar_value=int(input(\"tekrar sayisini giriniz :\"))\n",
    "\n",
    "print(\"sonuc :\", (word + seperator)*tekrar_value)"
   ]
  },
  {
   "cell_type": "code",
   "execution_count": null,
   "metadata": {},
   "outputs": [],
   "source": []
  },
  {
   "cell_type": "markdown",
   "metadata": {},
   "source": [
    "### Kodu çalıştırmayın, zihninizde anlamaya çalışın.\n",
    "\n",
    "Aşağıdaki sözdiziminin çıktısı ne olacak:\n",
    "\n",
    "print(True and False and (not True and False) and not (True or False))"
   ]
  },
  {
   "cell_type": "code",
   "execution_count": 5,
   "metadata": {},
   "outputs": [
    {
     "name": "stdout",
     "output_type": "stream",
     "text": [
      "False\n"
     ]
    }
   ],
   "source": [
    "print(True and False and (not True and False) and not (True or False))"
   ]
  },
  {
   "cell_type": "code",
   "execution_count": null,
   "metadata": {},
   "outputs": [],
   "source": []
  },
  {
   "cell_type": "markdown",
   "metadata": {},
   "source": [
    "### Sorun 8\n",
    "Kodu çalıştırmayın, zihninizde anlamaya çalışın.\n",
    "\n",
    "Aşağıdaki sözdiziminin çıktısı ne olacak:"
   ]
  },
  {
   "cell_type": "code",
   "execution_count": 6,
   "metadata": {},
   "outputs": [
    {
     "name": "stdout",
     "output_type": "stream",
     "text": [
      "False\n"
     ]
    }
   ],
   "source": [
    "print(True and False and not \"False\" and None and (\"None\" or None))"
   ]
  },
  {
   "cell_type": "code",
   "execution_count": null,
   "metadata": {},
   "outputs": [],
   "source": []
  },
  {
   "cell_type": "markdown",
   "metadata": {},
   "source": [
    "### Sorun 9\n",
    "Kodu çalıştırmayın, zihninizde anlamaya çalışın.\n",
    "\n",
    "Aşağıdaki sözdiziminin çıktısı ne olacak:"
   ]
  },
  {
   "cell_type": "code",
   "execution_count": 10,
   "metadata": {},
   "outputs": [
    {
     "name": "stdout",
     "output_type": "stream",
     "text": [
      "0\n"
     ]
    }
   ],
   "source": [
    "print(\"clarusway\" and 0 and not \"\" and False and (\" \" or None))"
   ]
  },
  {
   "cell_type": "code",
   "execution_count": null,
   "metadata": {},
   "outputs": [],
   "source": []
  },
  {
   "cell_type": "markdown",
   "metadata": {},
   "source": [
    "### Assigment 2 Task-1:\n",
    "\n",
    "Write a short Python program that asks the user to enter Celsius temperature (it can be a decimal number), converts the entered temperature into Fahrenheit degree and prints the result."
   ]
  },
  {
   "cell_type": "code",
   "execution_count": 3,
   "metadata": {},
   "outputs": [
    {
     "name": "stdout",
     "output_type": "stream",
     "text": [
      "Temperature Converter\n",
      "Enter The Temperature (C):38\n",
      "Fahrenheit = 100.4\n"
     ]
    }
   ],
   "source": [
    "print(\"Temperature Converter\")\n",
    "\n",
    "x = float(input(\"Enter The Temperature (C):\"))\n",
    "        \n",
    "Fahrenheit=float(x * 1.8) + 32\n",
    "\n",
    "print(\"Fahrenheit = {}\".format(Fahrenheit))"
   ]
  },
  {
   "cell_type": "code",
   "execution_count": null,
   "metadata": {},
   "outputs": [],
   "source": []
  },
  {
   "cell_type": "markdown",
   "metadata": {},
   "source": [
    "### Task-2:\n",
    "Write a short Python program that asks the user to enter a distance (it can be a decimal number) in kilometers, converts the entered distance into miles and prints the result."
   ]
  },
  {
   "cell_type": "code",
   "execution_count": 4,
   "metadata": {},
   "outputs": [
    {
     "name": "stdout",
     "output_type": "stream",
     "text": [
      "Kilometers to Miles conversion\n",
      "Enter A Distance: (km)150\n",
      "Mil Value = 93.2055 \n"
     ]
    }
   ],
   "source": [
    "print(\"Kilometers to Miles conversion\")\n",
    "\n",
    "x = float(input(\"Enter A Distance: (km)\"))\n",
    "\n",
    "Mil_Value = float(x * 0.62137)\n",
    "\n",
    "print(\"Mil Value = {} \".format(Mil_Value))"
   ]
  },
  {
   "cell_type": "code",
   "execution_count": null,
   "metadata": {},
   "outputs": [],
   "source": []
  },
  {
   "cell_type": "code",
   "execution_count": null,
   "metadata": {},
   "outputs": [],
   "source": []
  },
  {
   "cell_type": "code",
   "execution_count": null,
   "metadata": {},
   "outputs": [],
   "source": []
  },
  {
   "cell_type": "code",
   "execution_count": null,
   "metadata": {},
   "outputs": [],
   "source": []
  },
  {
   "cell_type": "code",
   "execution_count": null,
   "metadata": {},
   "outputs": [],
   "source": []
  },
  {
   "cell_type": "code",
   "execution_count": null,
   "metadata": {},
   "outputs": [],
   "source": []
  },
  {
   "cell_type": "code",
   "execution_count": null,
   "metadata": {},
   "outputs": [],
   "source": []
  },
  {
   "cell_type": "code",
   "execution_count": null,
   "metadata": {},
   "outputs": [],
   "source": []
  },
  {
   "cell_type": "code",
   "execution_count": null,
   "metadata": {},
   "outputs": [],
   "source": []
  },
  {
   "cell_type": "code",
   "execution_count": null,
   "metadata": {},
   "outputs": [],
   "source": []
  }
 ],
 "metadata": {
  "kernelspec": {
   "display_name": "Python 3",
   "language": "python",
   "name": "python3"
  },
  "language_info": {
   "codemirror_mode": {
    "name": "ipython",
    "version": 3
   },
   "file_extension": ".py",
   "mimetype": "text/x-python",
   "name": "python",
   "nbconvert_exporter": "python",
   "pygments_lexer": "ipython3",
   "version": "3.8.5"
  }
 },
 "nbformat": 4,
 "nbformat_minor": 4
}
