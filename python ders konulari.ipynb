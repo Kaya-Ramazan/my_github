{
 "cells": [
  {
   "cell_type": "code",
   "execution_count": 1,
   "metadata": {},
   "outputs": [
    {
     "name": "stdout",
     "output_type": "stream",
     "text": [
      "being a good person\n"
     ]
    }
   ],
   "source": [
    "print(\"being a good person\")"
   ]
  },
  {
   "cell_type": "code",
   "execution_count": 2,
   "metadata": {},
   "outputs": [
    {
     "name": "stdout",
     "output_type": "stream",
     "text": [
      "i will change my life\n"
     ]
    }
   ],
   "source": [
    "print(\"i will change my life\")"
   ]
  },
  {
   "cell_type": "code",
   "execution_count": 3,
   "metadata": {},
   "outputs": [
    {
     "name": "stdout",
     "output_type": "stream",
     "text": [
      "572\n"
     ]
    }
   ],
   "source": [
    "print(572)"
   ]
  },
  {
   "cell_type": "code",
   "execution_count": 4,
   "metadata": {},
   "outputs": [
    {
     "data": {
      "text/plain": [
       "572"
      ]
     },
     "execution_count": 4,
     "metadata": {},
     "output_type": "execute_result"
    }
   ],
   "source": [
    "572"
   ]
  },
  {
   "cell_type": "code",
   "execution_count": 5,
   "metadata": {},
   "outputs": [
    {
     "name": "stdout",
     "output_type": "stream",
     "text": [
      "3.14\n"
     ]
    }
   ],
   "source": [
    "print(3.14)"
   ]
  },
  {
   "cell_type": "code",
   "execution_count": 6,
   "metadata": {},
   "outputs": [
    {
     "data": {
      "text/plain": [
       "(3, 14)"
      ]
     },
     "execution_count": 6,
     "metadata": {},
     "output_type": "execute_result"
    }
   ],
   "source": [
    "3,14"
   ]
  },
  {
   "cell_type": "code",
   "execution_count": 7,
   "metadata": {},
   "outputs": [
    {
     "name": "stdout",
     "output_type": "stream",
     "text": [
      "3 14\n"
     ]
    }
   ],
   "source": [
    "print(3,14)"
   ]
  },
  {
   "cell_type": "code",
   "execution_count": 8,
   "metadata": {},
   "outputs": [
    {
     "data": {
      "text/plain": [
       "(5, 75)"
      ]
     },
     "execution_count": 8,
     "metadata": {},
     "output_type": "execute_result"
    }
   ],
   "source": [
    "5,75"
   ]
  },
  {
   "cell_type": "code",
   "execution_count": 11,
   "metadata": {},
   "outputs": [
    {
     "name": "stdout",
     "output_type": "stream",
     "text": [
      "a\n"
     ]
    }
   ],
   "source": [
    "a= 3.14\n",
    "print(\"a\")"
   ]
  },
  {
   "cell_type": "code",
   "execution_count": 12,
   "metadata": {},
   "outputs": [
    {
     "data": {
      "text/plain": [
       "float"
      ]
     },
     "execution_count": 12,
     "metadata": {},
     "output_type": "execute_result"
    }
   ],
   "source": [
    "type(a)"
   ]
  },
  {
   "cell_type": "code",
   "execution_count": 13,
   "metadata": {},
   "outputs": [
    {
     "name": "stdout",
     "output_type": "stream",
     "text": [
      "5 75\n"
     ]
    }
   ],
   "source": [
    "print(5,75)"
   ]
  },
  {
   "cell_type": "code",
   "execution_count": 14,
   "metadata": {
    "scrolled": true
   },
   "outputs": [
    {
     "ename": "TypeError",
     "evalue": "type() takes 1 or 3 arguments",
     "output_type": "error",
     "traceback": [
      "\u001b[1;31m---------------------------------------------------------------------------\u001b[0m",
      "\u001b[1;31mTypeError\u001b[0m                                 Traceback (most recent call last)",
      "\u001b[1;32m<ipython-input-14-e3abb7033768>\u001b[0m in \u001b[0;36m<module>\u001b[1;34m\u001b[0m\n\u001b[1;32m----> 1\u001b[1;33m \u001b[0mtype\u001b[0m\u001b[1;33m(\u001b[0m\u001b[1;36m5\u001b[0m\u001b[1;33m,\u001b[0m\u001b[1;36m75\u001b[0m\u001b[1;33m)\u001b[0m\u001b[1;33m\u001b[0m\u001b[1;33m\u001b[0m\u001b[0m\n\u001b[0m",
      "\u001b[1;31mTypeError\u001b[0m: type() takes 1 or 3 arguments"
     ]
    }
   ],
   "source": [
    "type(5,75)"
   ]
  },
  {
   "cell_type": "code",
   "execution_count": 16,
   "metadata": {},
   "outputs": [
    {
     "name": "stdout",
     "output_type": "stream",
     "text": [
      "first line\n",
      "\n",
      "third line\n"
     ]
    }
   ],
   "source": [
    "print(\"first line\")\n",
    "print()  # secondline is empty\n",
    "print(\"third line\")"
   ]
  },
  {
   "cell_type": "code",
   "execution_count": 1,
   "metadata": {},
   "outputs": [
    {
     "ename": "NameError",
     "evalue": "name 'function' is not defined",
     "output_type": "error",
     "traceback": [
      "\u001b[1;31m---------------------------------------------------------------------------\u001b[0m",
      "\u001b[1;31mNameError\u001b[0m                                 Traceback (most recent call last)",
      "\u001b[1;32m<ipython-input-1-a18e1661630e>\u001b[0m in \u001b[0;36m<module>\u001b[1;34m\u001b[0m\n\u001b[1;32m----> 1\u001b[1;33m \u001b[0mprint\u001b[0m\u001b[1;33m(\u001b[0m\u001b[0mfunction\u001b[0m\u001b[1;33m.\u001b[0m\u001b[0m__doc__\u001b[0m\u001b[1;33m)\u001b[0m\u001b[1;33m\u001b[0m\u001b[1;33m\u001b[0m\u001b[0m\n\u001b[0m",
      "\u001b[1;31mNameError\u001b[0m: name 'function' is not defined"
     ]
    }
   ],
   "source": [
    "print(function.__doc__)"
   ]
  },
  {
   "cell_type": "code",
   "execution_count": 4,
   "metadata": {},
   "outputs": [
    {
     "name": "stdout",
     "output_type": "stream",
     "text": [
      "kayakadir38067@gmail.com\n"
     ]
    }
   ],
   "source": [
    "e_mail = \"kayakadir38067@gmail.com\"\n",
    "print(e_mail)"
   ]
  },
  {
   "cell_type": "code",
   "execution_count": 8,
   "metadata": {},
   "outputs": [
    {
     "name": "stdout",
     "output_type": "stream",
     "text": [
      "I wan to learn string 39 9.60\n"
     ]
    }
   ],
   "source": [
    "text1 = \"I wan to learn string\"\n",
    "\n",
    "text2 = \"39\"\n",
    "\n",
    "text3 = \"9.60\"\n",
    "\n",
    "print(text1,text2,text3)"
   ]
  },
  {
   "cell_type": "code",
   "execution_count": 12,
   "metadata": {},
   "outputs": [
    {
     "ename": "TypeError",
     "evalue": "type() takes 1 or 3 arguments",
     "output_type": "error",
     "traceback": [
      "\u001b[1;31m---------------------------------------------------------------------------\u001b[0m",
      "\u001b[1;31mTypeError\u001b[0m                                 Traceback (most recent call last)",
      "\u001b[1;32m<ipython-input-12-7dc69d5a8d10>\u001b[0m in \u001b[0;36m<module>\u001b[1;34m\u001b[0m\n\u001b[1;32m----> 1\u001b[1;33m \u001b[0mtype\u001b[0m\u001b[1;33m(\u001b[0m\u001b[0mtext1\u001b[0m\u001b[1;33m,\u001b[0m\u001b[0mtext2\u001b[0m\u001b[1;33m)\u001b[0m\u001b[1;33m\u001b[0m\u001b[1;33m\u001b[0m\u001b[0m\n\u001b[0m",
      "\u001b[1;31mTypeError\u001b[0m: type() takes 1 or 3 arguments"
     ]
    }
   ],
   "source": [
    "type(text1,)"
   ]
  },
  {
   "cell_type": "code",
   "execution_count": 16,
   "metadata": {},
   "outputs": [
    {
     "ename": "TypeError",
     "evalue": "type.__new__() argument 2 must be tuple, not str",
     "output_type": "error",
     "traceback": [
      "\u001b[1;31m---------------------------------------------------------------------------\u001b[0m",
      "\u001b[1;31mTypeError\u001b[0m                                 Traceback (most recent call last)",
      "\u001b[1;32m<ipython-input-16-4660476a6c3b>\u001b[0m in \u001b[0;36m<module>\u001b[1;34m\u001b[0m\n\u001b[0;32m      1\u001b[0m \u001b[0mtext1\u001b[0m\u001b[1;33m,\u001b[0m\u001b[0mtext2\u001b[0m\u001b[1;33m,\u001b[0m\u001b[0mtext3\u001b[0m \u001b[1;33m=\u001b[0m \u001b[1;34m\"I wan to learn string\"\u001b[0m\u001b[1;33m,\u001b[0m\u001b[1;34m\"39\"\u001b[0m\u001b[1;33m,\u001b[0m\u001b[1;34m\"9.60\"\u001b[0m\u001b[1;33m\u001b[0m\u001b[1;33m\u001b[0m\u001b[0m\n\u001b[0;32m      2\u001b[0m \u001b[1;33m\u001b[0m\u001b[0m\n\u001b[1;32m----> 3\u001b[1;33m \u001b[0mtype\u001b[0m\u001b[1;33m(\u001b[0m\u001b[0mtext1\u001b[0m\u001b[1;33m,\u001b[0m\u001b[0mtext2\u001b[0m\u001b[1;33m,\u001b[0m\u001b[0mtext3\u001b[0m\u001b[1;33m)\u001b[0m\u001b[1;33m\u001b[0m\u001b[1;33m\u001b[0m\u001b[0m\n\u001b[0m\u001b[0;32m      4\u001b[0m \u001b[1;33m\u001b[0m\u001b[0m\n",
      "\u001b[1;31mTypeError\u001b[0m: type.__new__() argument 2 must be tuple, not str"
     ]
    }
   ],
   "source": [
    "text1,text2,text3 = \"I wan to learn string\",\"39\",\"9.60\"\n",
    "\n",
    "type(text1,text2,text3)\n",
    "\n"
   ]
  },
  {
   "cell_type": "code",
   "execution_count": 17,
   "metadata": {},
   "outputs": [
    {
     "data": {
      "text/plain": [
       "str"
      ]
     },
     "execution_count": 17,
     "metadata": {},
     "output_type": "execute_result"
    }
   ],
   "source": [
    "type(text1)"
   ]
  },
  {
   "cell_type": "code",
   "execution_count": 19,
   "metadata": {},
   "outputs": [
    {
     "data": {
      "text/plain": [
       "str"
      ]
     },
     "execution_count": 19,
     "metadata": {},
     "output_type": "execute_result"
    }
   ],
   "source": [
    "type(text2)"
   ]
  },
  {
   "cell_type": "code",
   "execution_count": 20,
   "metadata": {},
   "outputs": [
    {
     "name": "stdout",
     "output_type": "stream",
     "text": [
      "<class 'str'>\n"
     ]
    }
   ],
   "source": [
    "print(type(text1))"
   ]
  },
  {
   "cell_type": "code",
   "execution_count": 21,
   "metadata": {},
   "outputs": [
    {
     "name": "stdout",
     "output_type": "stream",
     "text": [
      "<class 'str'>\n"
     ]
    }
   ],
   "source": [
    "print(type(text2))"
   ]
  },
  {
   "cell_type": "code",
   "execution_count": 22,
   "metadata": {},
   "outputs": [
    {
     "name": "stdout",
     "output_type": "stream",
     "text": [
      "<class 'bool'>\n"
     ]
    }
   ],
   "source": [
    "text = True\n",
    "print(type(text))"
   ]
  },
  {
   "cell_type": "code",
   "execution_count": 23,
   "metadata": {},
   "outputs": [
    {
     "name": "stdout",
     "output_type": "stream",
     "text": [
      "<class 'bool'>\n"
     ]
    }
   ],
   "source": [
    "text5 = False\n",
    "print(type(text5))"
   ]
  },
  {
   "cell_type": "code",
   "execution_count": 24,
   "metadata": {},
   "outputs": [
    {
     "name": "stdout",
     "output_type": "stream",
     "text": [
      "<class 'float'>\n"
     ]
    }
   ],
   "source": [
    "a = 5.75\n",
    "print(type(a))"
   ]
  },
  {
   "cell_type": "code",
   "execution_count": 29,
   "metadata": {},
   "outputs": [
    {
     "name": "stdout",
     "output_type": "stream",
     "text": [
      "5 \n",
      "\n",
      "<class 'int'>\n"
     ]
    }
   ],
   "source": [
    "b = int(a)\n",
    "print(b, \"\\n\")\n",
    "print(type(b))"
   ]
  },
  {
   "cell_type": "code",
   "execution_count": 2,
   "metadata": {},
   "outputs": [
    {
     "name": "stdout",
     "output_type": "stream",
     "text": [
      "84 \n",
      "\n",
      "<class 'int'>\n"
     ]
    }
   ],
   "source": [
    "Ramazan_in_Kilosu = 84.5\n",
    "\n",
    "X = int(Ramazan_in_Kilosu)\n",
    "print(X, \"\\n\")\n",
    "print(type(X))"
   ]
  },
  {
   "cell_type": "code",
   "execution_count": 6,
   "metadata": {},
   "outputs": [
    {
     "name": "stdout",
     "output_type": "stream",
     "text": [
      "<class 'float'>\n",
      "15.5 \n",
      "\n",
      "<class 'str'>\n"
     ]
    },
    {
     "data": {
      "text/plain": [
       "'15.5'"
      ]
     },
     "execution_count": 6,
     "metadata": {},
     "output_type": "execute_result"
    }
   ],
   "source": [
    "Meral_ile_evleneli = 15.5\n",
    "print(type(Meral_ile_evleneli))\n",
    "\n",
    "y = str(Meral_ile_evleneli)\n",
    "print(y, \"\\n\")\n",
    "print(type(y))\n",
    "\n",
    "y"
   ]
  },
  {
   "cell_type": "code",
   "execution_count": 7,
   "metadata": {},
   "outputs": [
    {
     "name": "stdout",
     "output_type": "stream",
     "text": [
      "35-----36-----38-----39\n"
     ]
    }
   ],
   "source": [
    "x1,x2,x3,x4 = 35,36,38,39\n",
    "\n",
    "print(x1,x2,x3,x4, sep=\"-----\")"
   ]
  },
  {
   "cell_type": "code",
   "execution_count": 8,
   "metadata": {},
   "outputs": [
    {
     "name": "stdout",
     "output_type": "stream",
     "text": [
      "50.5\n"
     ]
    }
   ],
   "source": [
    "print(45+5.5)"
   ]
  },
  {
   "cell_type": "code",
   "execution_count": 9,
   "metadata": {},
   "outputs": [
    {
     "name": "stdout",
     "output_type": "stream",
     "text": [
      "61.0\n"
     ]
    }
   ],
   "source": [
    "print(55.5+5.5)"
   ]
  },
  {
   "cell_type": "code",
   "execution_count": 10,
   "metadata": {},
   "outputs": [
    {
     "name": "stdout",
     "output_type": "stream",
     "text": [
      "33.0\n"
     ]
    }
   ],
   "source": [
    "print(99/3)"
   ]
  },
  {
   "cell_type": "code",
   "execution_count": 11,
   "metadata": {},
   "outputs": [
    {
     "name": "stdout",
     "output_type": "stream",
     "text": [
      "11.0\n"
     ]
    }
   ],
   "source": [
    "print(66/6)"
   ]
  },
  {
   "cell_type": "code",
   "execution_count": 12,
   "metadata": {},
   "outputs": [
    {
     "name": "stdout",
     "output_type": "stream",
     "text": [
      "2.0\n"
     ]
    }
   ],
   "source": [
    "print(8/4)"
   ]
  },
  {
   "cell_type": "code",
   "execution_count": 13,
   "metadata": {},
   "outputs": [
    {
     "name": "stdout",
     "output_type": "stream",
     "text": [
      "1\n"
     ]
    }
   ],
   "source": [
    "print(8 // 5)"
   ]
  },
  {
   "cell_type": "code",
   "execution_count": 14,
   "metadata": {},
   "outputs": [
    {
     "name": "stdout",
     "output_type": "stream",
     "text": [
      "0\n"
     ]
    }
   ],
   "source": [
    "print(99 % 9)"
   ]
  },
  {
   "cell_type": "code",
   "execution_count": 17,
   "metadata": {},
   "outputs": [
    {
     "name": "stdout",
     "output_type": "stream",
     "text": [
      "9\n"
     ]
    }
   ],
   "source": [
    "print(3 ** 2)"
   ]
  },
  {
   "cell_type": "code",
   "execution_count": 18,
   "metadata": {},
   "outputs": [
    {
     "name": "stdout",
     "output_type": "stream",
     "text": [
      "I love 4 seazons\n"
     ]
    }
   ],
   "source": [
    "print(\"I love\", 4, \"seazons\" )"
   ]
  },
  {
   "cell_type": "code",
   "execution_count": 20,
   "metadata": {},
   "outputs": [
    {
     "name": "stdout",
     "output_type": "stream",
     "text": [
      "i\n",
      "love\n",
      "you\n"
     ]
    }
   ],
   "source": [
    "print(\"i\")\n",
    "print(\"love\")\n",
    "print(\"you\")"
   ]
  },
  {
   "cell_type": "code",
   "execution_count": 21,
   "metadata": {},
   "outputs": [
    {
     "name": "stdout",
     "output_type": "stream",
     "text": [
      "i love you "
     ]
    }
   ],
   "source": [
    "print(\"i\", end = \" \")\n",
    "print(\"love\", end = \" \")\n",
    "print(\"you\", end = \" \")"
   ]
  },
  {
   "cell_type": "code",
   "execution_count": 22,
   "metadata": {},
   "outputs": [
    {
     "name": "stdout",
     "output_type": "stream",
     "text": [
      "i love you---- "
     ]
    }
   ],
   "source": [
    "print(\"i\", \"love\", \"you\", end = \"---- \")"
   ]
  },
  {
   "cell_type": "code",
   "execution_count": 23,
   "metadata": {},
   "outputs": [
    {
     "name": "stdout",
     "output_type": "stream",
     "text": [
      "i---- love---- you\n"
     ]
    }
   ],
   "source": [
    "print(\"i\", \"love\", \"you\", sep = \"---- \")"
   ]
  },
  {
   "cell_type": "code",
   "execution_count": 24,
   "metadata": {},
   "outputs": [
    {
     "name": "stdout",
     "output_type": "stream",
     "text": [
      "i love you\n"
     ]
    }
   ],
   "source": [
    "print(\"i\", \"love\", \"you\")"
   ]
  },
  {
   "cell_type": "code",
   "execution_count": 25,
   "metadata": {},
   "outputs": [
    {
     "name": "stdout",
     "output_type": "stream",
     "text": [
      "one\ttwo\tthree\n"
     ]
    }
   ],
   "source": [
    "print(\"one\", \"two\", \"three\", sep=\"\\t\")"
   ]
  },
  {
   "cell_type": "code",
   "execution_count": 26,
   "metadata": {},
   "outputs": [
    {
     "name": "stdout",
     "output_type": "stream",
     "text": [
      "one\n",
      "two\n",
      "three\n"
     ]
    }
   ],
   "source": [
    "print(\"one\", \"two\", \"three\", sep=\"\\n\")"
   ]
  },
  {
   "cell_type": "code",
   "execution_count": 27,
   "metadata": {},
   "outputs": [
    {
     "name": "stdout",
     "output_type": "stream",
     "text": [
      "one\btwo\bthree\n"
     ]
    }
   ],
   "source": [
    "print(\"one\", \"two\", \"three\", sep=\"\\b\")"
   ]
  },
  {
   "cell_type": "code",
   "execution_count": 29,
   "metadata": {},
   "outputs": [
    {
     "ename": "NameError",
     "evalue": "name 'text1' is not defined",
     "output_type": "error",
     "traceback": [
      "\u001b[1;31m---------------------------------------------------------------------------\u001b[0m",
      "\u001b[1;31mNameError\u001b[0m                                 Traceback (most recent call last)",
      "\u001b[1;32m<ipython-input-29-b73309b3b917>\u001b[0m in \u001b[0;36m<module>\u001b[1;34m\u001b[0m\n\u001b[1;32m----> 1\u001b[1;33m \u001b[0mprint\u001b[0m\u001b[1;33m(\u001b[0m\u001b[0mtext1\u001b[0m \u001b[1;33m+\u001b[0m \u001b[1;34m\"\\'s very\"\u001b[0m \u001b[1;33m+\u001b[0m \u001b[0mtext2\u001b[0m\u001b[1;33m)\u001b[0m\u001b[1;33m\u001b[0m\u001b[1;33m\u001b[0m\u001b[0m\n\u001b[0m",
      "\u001b[1;31mNameError\u001b[0m: name 'text1' is not defined"
     ]
    }
   ],
   "source": [
    "print(text1 + \"\\'s very\" + text2)"
   ]
  },
  {
   "cell_type": "code",
   "execution_count": 32,
   "metadata": {},
   "outputs": [
    {
     "name": "stdout",
     "output_type": "stream",
     "text": [
      "False\n"
     ]
    }
   ],
   "source": [
    "logic = True and True and True and True and False\n",
    "print(logic)"
   ]
  },
  {
   "cell_type": "code",
   "execution_count": 34,
   "metadata": {},
   "outputs": [
    {
     "data": {
      "text/plain": [
       "False"
      ]
     },
     "execution_count": 34,
     "metadata": {},
     "output_type": "execute_result"
    }
   ],
   "source": [
    "logic = False and True and True and True and True\n",
    "logic"
   ]
  },
  {
   "cell_type": "code",
   "execution_count": 35,
   "metadata": {},
   "outputs": [
    {
     "name": "stdout",
     "output_type": "stream",
     "text": [
      "<class 'NoneType'>\n"
     ]
    }
   ],
   "source": [
    "x = None\n",
    "print(type(x))"
   ]
  },
  {
   "cell_type": "code",
   "execution_count": 36,
   "metadata": {},
   "outputs": [
    {
     "data": {
      "text/plain": [
       "3"
      ]
     },
     "execution_count": 36,
     "metadata": {},
     "output_type": "execute_result"
    }
   ],
   "source": [
    "2 and 3"
   ]
  },
  {
   "cell_type": "code",
   "execution_count": 38,
   "metadata": {},
   "outputs": [
    {
     "data": {
      "text/plain": [
       "0"
      ]
     },
     "execution_count": 38,
     "metadata": {},
     "output_type": "execute_result"
    }
   ],
   "source": [
    "5 and 6 and 8 and 0 and 1"
   ]
  },
  {
   "cell_type": "code",
   "execution_count": 40,
   "metadata": {},
   "outputs": [
    {
     "data": {
      "text/plain": [
       "1"
      ]
     },
     "execution_count": 40,
     "metadata": {},
     "output_type": "execute_result"
    }
   ],
   "source": [
    "5 and 6 and 8 and 0.5 and 1"
   ]
  },
  {
   "cell_type": "code",
   "execution_count": 41,
   "metadata": {},
   "outputs": [
    {
     "name": "stdout",
     "output_type": "stream",
     "text": [
      "8\n"
     ]
    }
   ],
   "source": [
    "print(1 and 3 and 0.5 and 8)"
   ]
  },
  {
   "cell_type": "code",
   "execution_count": 42,
   "metadata": {},
   "outputs": [
    {
     "data": {
      "text/plain": [
       "0"
      ]
     },
     "execution_count": 42,
     "metadata": {},
     "output_type": "execute_result"
    }
   ],
   "source": [
    "0.5 and 0 and 0.1"
   ]
  },
  {
   "cell_type": "code",
   "execution_count": 43,
   "metadata": {},
   "outputs": [
    {
     "data": {
      "text/plain": [
       "0.1"
      ]
     },
     "execution_count": 43,
     "metadata": {},
     "output_type": "execute_result"
    }
   ],
   "source": [
    "0.5 and 5 and 0.1"
   ]
  },
  {
   "cell_type": "code",
   "execution_count": 44,
   "metadata": {},
   "outputs": [
    {
     "data": {
      "text/plain": [
       "8"
      ]
     },
     "execution_count": 44,
     "metadata": {},
     "output_type": "execute_result"
    }
   ],
   "source": [
    "0.5 and 5 and 8"
   ]
  },
  {
   "cell_type": "code",
   "execution_count": 45,
   "metadata": {},
   "outputs": [
    {
     "data": {
      "text/plain": [
       "8"
      ]
     },
     "execution_count": 45,
     "metadata": {},
     "output_type": "execute_result"
    }
   ],
   "source": [
    "2.5 and 5 and 8"
   ]
  },
  {
   "cell_type": "code",
   "execution_count": 46,
   "metadata": {},
   "outputs": [
    {
     "data": {
      "text/plain": [
       "0"
      ]
     },
     "execution_count": 46,
     "metadata": {},
     "output_type": "execute_result"
    }
   ],
   "source": [
    "1 and 0"
   ]
  },
  {
   "cell_type": "code",
   "execution_count": 48,
   "metadata": {},
   "outputs": [
    {
     "data": {
      "text/plain": [
       "85"
      ]
     },
     "execution_count": 48,
     "metadata": {},
     "output_type": "execute_result"
    }
   ],
   "source": [
    "85 or 95 or 5 or 0"
   ]
  },
  {
   "cell_type": "code",
   "execution_count": 49,
   "metadata": {},
   "outputs": [
    {
     "data": {
      "text/plain": [
       "1.2"
      ]
     },
     "execution_count": 49,
     "metadata": {},
     "output_type": "execute_result"
    }
   ],
   "source": [
    "0 or 1.2 or 85 or 95 or 5 or 0"
   ]
  },
  {
   "cell_type": "code",
   "execution_count": 50,
   "metadata": {},
   "outputs": [
    {
     "data": {
      "text/plain": [
       "float"
      ]
     },
     "execution_count": 50,
     "metadata": {},
     "output_type": "execute_result"
    }
   ],
   "source": [
    "type(1.2)"
   ]
  },
  {
   "cell_type": "code",
   "execution_count": 52,
   "metadata": {},
   "outputs": [
    {
     "data": {
      "text/plain": [
       "1"
      ]
     },
     "execution_count": 52,
     "metadata": {},
     "output_type": "execute_result"
    }
   ],
   "source": [
    "0.0 or 1"
   ]
  },
  {
   "cell_type": "code",
   "execution_count": 53,
   "metadata": {},
   "outputs": [
    {
     "data": {
      "text/plain": [
       "1"
      ]
     },
     "execution_count": 53,
     "metadata": {},
     "output_type": "execute_result"
    }
   ],
   "source": [
    "None or 1"
   ]
  },
  {
   "cell_type": "code",
   "execution_count": 54,
   "metadata": {},
   "outputs": [
    {
     "data": {
      "text/plain": [
       "[]"
      ]
     },
     "execution_count": 54,
     "metadata": {},
     "output_type": "execute_result"
    }
   ],
   "source": [
    "[ ] and [] and {} "
   ]
  },
  {
   "cell_type": "code",
   "execution_count": 55,
   "metadata": {},
   "outputs": [
    {
     "data": {
      "text/plain": [
       "{}"
      ]
     },
     "execution_count": 55,
     "metadata": {},
     "output_type": "execute_result"
    }
   ],
   "source": [
    "[ ] or [] or {} "
   ]
  },
  {
   "cell_type": "code",
   "execution_count": 4,
   "metadata": {},
   "outputs": [
    {
     "name": "stdout",
     "output_type": "stream",
     "text": [
      "Kaya Kaya Kaya \n"
     ]
    }
   ],
   "source": [
    "print(3 * \"Kaya \")"
   ]
  },
  {
   "cell_type": "code",
   "execution_count": null,
   "metadata": {},
   "outputs": [],
   "source": [
    "fruit = \"Banana\"\n",
    "print"
   ]
  },
  {
   "cell_type": "code",
   "execution_count": 4,
   "metadata": {},
   "outputs": [
    {
     "name": "stdout",
     "output_type": "stream",
     "text": [
      "i have 4 choldren and 5.00 brodhers\n"
     ]
    }
   ],
   "source": [
    "phrase = \"i have %d %s and %.2f brodhers\" % (4, \"choldren\",5)\n",
    "print(phrase)"
   ]
  },
  {
   "cell_type": "code",
   "execution_count": 8,
   "metadata": {},
   "outputs": [
    {
     "name": "stdout",
     "output_type": "stream",
     "text": [
      "I love every\n"
     ]
    }
   ],
   "source": [
    "sentence =\"I love every body\"\n",
    "print(\"%.12s\" % sentence)  # we get first 12 chracters of the string "
   ]
  },
  {
   "cell_type": "code",
   "execution_count": 9,
   "metadata": {},
   "outputs": [
    {
     "name": "stdout",
     "output_type": "stream",
     "text": [
      "Belkizog\n"
     ]
    }
   ],
   "source": [
    "my_family =\"Belkizogullari is my family\"\n",
    "print(\"%.8s\" %my_family )  "
   ]
  },
  {
   "cell_type": "code",
   "execution_count": 11,
   "metadata": {},
   "outputs": [
    {
     "name": "stdout",
     "output_type": "stream",
     "text": [
      "33 pounds of bananas left\n"
     ]
    }
   ],
   "source": [
    "print(\"%(amount)d pounds of %(fruit)s left\" % {\"amount\" : 33, \"fruit\" : \"bananas\"})"
   ]
  },
  {
   "cell_type": "code",
   "execution_count": 14,
   "metadata": {},
   "outputs": [
    {
     "ename": "SyntaxError",
     "evalue": "invalid syntax (<ipython-input-14-c0a95a93c4ff>, line 1)",
     "output_type": "error",
     "traceback": [
      "\u001b[1;36m  File \u001b[1;32m\"<ipython-input-14-c0a95a93c4ff>\"\u001b[1;36m, line \u001b[1;32m1\u001b[0m\n\u001b[1;33m    print(('%.5s' % x) if x : \"HelloWorld!\")\u001b[0m\n\u001b[1;37m                            ^\u001b[0m\n\u001b[1;31mSyntaxError\u001b[0m\u001b[1;31m:\u001b[0m invalid syntax\n"
     ]
    }
   ],
   "source": [
    "print(('%.5s' % x) if x : \"HelloWorld!\")"
   ]
  },
  {
   "cell_type": "code",
   "execution_count": 16,
   "metadata": {},
   "outputs": [
    {
     "name": "stdout",
     "output_type": "stream",
     "text": [
      "The amount of apple we bought is 12 pounds\n"
     ]
    }
   ],
   "source": [
    "fruit = \"apple\"\n",
    "vegetabele = \"Tomato\"\n",
    "amount = 12\n",
    "print(\"The amount of {} we bought is {} pounds\".format(fruit,amount))"
   ]
  },
  {
   "cell_type": "code",
   "execution_count": 17,
   "metadata": {},
   "outputs": [
    {
     "name": "stdout",
     "output_type": "stream",
     "text": [
      "California is the most crowded state of the USA\n"
     ]
    }
   ],
   "source": [
    "print('{state} is the most {adjective} state of the {country}'.format(state='California', country='USA', adjective='crowded'))\n"
   ]
  },
  {
   "cell_type": "code",
   "execution_count": 18,
   "metadata": {},
   "outputs": [
    {
     "name": "stdout",
     "output_type": "stream",
     "text": [
      "California is the most crowded state of the USA\n"
     ]
    }
   ],
   "source": [
    "print('{0} is the most {adjective} state of the {country}'.format('California', country='USA', adjective='crowded'))\n"
   ]
  },
  {
   "cell_type": "code",
   "execution_count": 19,
   "metadata": {},
   "outputs": [
    {
     "name": "stdout",
     "output_type": "stream",
     "text": [
      "I will have found a job in 6 months\n"
     ]
    }
   ],
   "source": [
    "print(\"{6} {0} {5} {3} {4} {1} {2}\".format('have', 6, 'months', 'a job', 'in', 'found', 'I will'))\n"
   ]
  },
  {
   "cell_type": "code",
   "execution_count": 22,
   "metadata": {},
   "outputs": [
    {
     "name": "stdout",
     "output_type": "stream",
     "text": [
      "Ben Kizlarim bengisu,nihal ve ogullarim Akif,Orhan ile cok basarili 2 ise imza attik\n"
     ]
    }
   ],
   "source": [
    "kizlar = \"bengisu,nihal\"\n",
    "Erkekler = \"Akif,Orhan\"\n",
    "amount = 2\n",
    "output = f\"Ben Kizlarim {kizlar} ve ogullarim {Erkekler} ile cok basarili {amount} ise imza attik\"\n",
    "\n",
    "print(output)"
   ]
  },
  {
   "cell_type": "code",
   "execution_count": 23,
   "metadata": {},
   "outputs": [
    {
     "name": "stdout",
     "output_type": "stream",
     "text": [
      "Hi Joseph. You are one of the teachers in the Data Science section.\n"
     ]
    }
   ],
   "source": [
    "name = \"Joseph\"\n",
    "job = \"teachers\"\n",
    "domain = \"Data Science\"\n",
    "message = (\n",
    "     f\"Hi {name}. \"\n",
    "     f\"You are one of the {job} \"\n",
    "     f\"in the {domain} section.\"\n",
    ")\n",
    "print(message)"
   ]
  },
  {
   "cell_type": "code",
   "execution_count": 25,
   "metadata": {},
   "outputs": [
    {
     "ename": "TypeError",
     "evalue": "bad operand type for unary +: 'str'",
     "output_type": "error",
     "traceback": [
      "\u001b[1;31m---------------------------------------------------------------------------\u001b[0m",
      "\u001b[1;31mTypeError\u001b[0m                                 Traceback (most recent call last)",
      "\u001b[1;32m<ipython-input-25-9dd4a1fe35b8>\u001b[0m in \u001b[0;36m<module>\u001b[1;34m\u001b[0m\n\u001b[0;32m      2\u001b[0m \u001b[0mlast_name\u001b[0m \u001b[1;33m=\u001b[0m \u001b[1;34m\"kaya\"\u001b[0m\u001b[1;33m\u001b[0m\u001b[1;33m\u001b[0m\u001b[0m\n\u001b[0;32m      3\u001b[0m \u001b[1;33m\u001b[0m\u001b[0m\n\u001b[1;32m----> 4\u001b[1;33m \u001b[0moutput\u001b[0m \u001b[1;33m=\u001b[0m \u001b[1;34m\"Hello\"\u001b[0m \u001b[1;33m,\u001b[0m \u001b[1;33m+\u001b[0m \u001b[0mfirst_name\u001b[0m \u001b[1;33m+\u001b[0m \u001b[1;34m\" \"\u001b[0m \u001b[1;33m+\u001b[0m \u001b[1;34m\"last_name\"\u001b[0m\u001b[1;33m\u001b[0m\u001b[1;33m\u001b[0m\u001b[0m\n\u001b[0m\u001b[0;32m      5\u001b[0m \u001b[0mprint\u001b[0m\u001b[1;33m(\u001b[0m\u001b[0moutput\u001b[0m\u001b[1;33m)\u001b[0m\u001b[1;33m\u001b[0m\u001b[1;33m\u001b[0m\u001b[0m\n",
      "\u001b[1;31mTypeError\u001b[0m: bad operand type for unary +: 'str'"
     ]
    }
   ],
   "source": [
    "first_name = \"Ramazan\"\n",
    "last_name = \"kaya\"\n",
    "\n",
    "output = \"Hello\" , + first_name + \" \" + \"last_name\"\n",
    "print(output)"
   ]
  },
  {
   "cell_type": "code",
   "execution_count": 2,
   "metadata": {},
   "outputs": [
    {
     "name": "stdout",
     "output_type": "stream",
     "text": [
      "False\n"
     ]
    }
   ],
   "source": [
    "bool_var = False and not True\n",
    "print(bool_var)"
   ]
  },
  {
   "cell_type": "code",
   "execution_count": 3,
   "metadata": {},
   "outputs": [
    {
     "name": "stdout",
     "output_type": "stream",
     "text": [
      "3\n"
     ]
    }
   ],
   "source": [
    "print(2 and 3)"
   ]
  },
  {
   "cell_type": "code",
   "execution_count": 4,
   "metadata": {},
   "outputs": [
    {
     "name": "stdout",
     "output_type": "stream",
     "text": [
      "0\n"
     ]
    }
   ],
   "source": [
    "print(0 and 1)"
   ]
  },
  {
   "cell_type": "code",
   "execution_count": 5,
   "metadata": {},
   "outputs": [
    {
     "data": {
      "text/plain": [
       "1"
      ]
     },
     "execution_count": 5,
     "metadata": {},
     "output_type": "execute_result"
    }
   ],
   "source": [
    "3 and 2 and 1"
   ]
  },
  {
   "cell_type": "code",
   "execution_count": 6,
   "metadata": {},
   "outputs": [
    {
     "data": {
      "text/plain": [
       "True"
      ]
     },
     "execution_count": 6,
     "metadata": {},
     "output_type": "execute_result"
    }
   ],
   "source": [
    "bool(1)"
   ]
  },
  {
   "cell_type": "markdown",
   "metadata": {},
   "source": [
    "### bu sekilde bool un icerisinde bulunan degeri ögrenebiliriz icerisinde deger bulunan stringler de True degerindedir"
   ]
  },
  {
   "cell_type": "code",
   "execution_count": 7,
   "metadata": {},
   "outputs": [
    {
     "data": {
      "text/plain": [
       "True"
      ]
     },
     "execution_count": 7,
     "metadata": {},
     "output_type": "execute_result"
    }
   ],
   "source": [
    "bool(\"0\")"
   ]
  },
  {
   "cell_type": "code",
   "execution_count": 8,
   "metadata": {},
   "outputs": [
    {
     "data": {
      "text/plain": [
       "True"
      ]
     },
     "execution_count": 8,
     "metadata": {},
     "output_type": "execute_result"
    }
   ],
   "source": [
    "bool(\" \")"
   ]
  },
  {
   "cell_type": "code",
   "execution_count": 9,
   "metadata": {},
   "outputs": [
    {
     "data": {
      "text/plain": [
       "False"
      ]
     },
     "execution_count": 9,
     "metadata": {},
     "output_type": "execute_result"
    }
   ],
   "source": [
    "bool(0)"
   ]
  },
  {
   "cell_type": "code",
   "execution_count": 10,
   "metadata": {},
   "outputs": [
    {
     "data": {
      "text/plain": [
       "False"
      ]
     },
     "execution_count": 10,
     "metadata": {},
     "output_type": "execute_result"
    }
   ],
   "source": [
    "bool(0.0)"
   ]
  },
  {
   "cell_type": "code",
   "execution_count": 11,
   "metadata": {},
   "outputs": [
    {
     "data": {
      "text/plain": [
       "True"
      ]
     },
     "execution_count": 11,
     "metadata": {},
     "output_type": "execute_result"
    }
   ],
   "source": [
    "bool(0.1)"
   ]
  },
  {
   "cell_type": "code",
   "execution_count": 12,
   "metadata": {},
   "outputs": [
    {
     "name": "stdout",
     "output_type": "stream",
     "text": [
      "hello world\n",
      "[]\n",
      "None\n"
     ]
    }
   ],
   "source": [
    "print(2 and \"hello world\")\n",
    "print([] and \"be happy!\")\n",
    "print(None and ())"
   ]
  },
  {
   "cell_type": "code",
   "execution_count": 13,
   "metadata": {},
   "outputs": [
    {
     "data": {
      "text/plain": [
       "2"
      ]
     },
     "execution_count": 13,
     "metadata": {},
     "output_type": "execute_result"
    }
   ],
   "source": [
    "2 or 3"
   ]
  },
  {
   "cell_type": "code",
   "execution_count": 14,
   "metadata": {},
   "outputs": [
    {
     "data": {
      "text/plain": [
       "1"
      ]
     },
     "execution_count": 14,
     "metadata": {},
     "output_type": "execute_result"
    }
   ],
   "source": [
    "None or 1"
   ]
  },
  {
   "cell_type": "code",
   "execution_count": 15,
   "metadata": {},
   "outputs": [
    {
     "data": {
      "text/plain": [
       "'False'"
      ]
     },
     "execution_count": 15,
     "metadata": {},
     "output_type": "execute_result"
    }
   ],
   "source": [
    "none = \"False\"\n",
    "\n",
    "none or 1"
   ]
  },
  {
   "cell_type": "code",
   "execution_count": 16,
   "metadata": {},
   "outputs": [
    {
     "name": "stdout",
     "output_type": "stream",
     "text": [
      "hello world\n",
      "[]\n",
      "None\n",
      "0\n",
      "{0}\n"
     ]
    }
   ],
   "source": [
    "print(2 and \"hello world\")\n",
    "print([] and \"be happy!\")\n",
    "print(None and ())\n",
    "print({} or 0)\n",
    "print({0} or False)"
   ]
  },
  {
   "cell_type": "code",
   "execution_count": 6,
   "metadata": {},
   "outputs": [
    {
     "data": {
      "text/plain": [
       "True"
      ]
     },
     "execution_count": 6,
     "metadata": {},
     "output_type": "execute_result"
    }
   ],
   "source": [
    "True or False and \"False\" and not \"False\" and 0"
   ]
  },
  {
   "cell_type": "markdown",
   "metadata": {},
   "source": [
    "### not un onune gelen bir sey olursa neticesi True veya False olur"
   ]
  },
  {
   "cell_type": "code",
   "execution_count": 1,
   "metadata": {},
   "outputs": [
    {
     "ename": "SyntaxError",
     "evalue": "invalid syntax (<ipython-input-1-b255f485821d>, line 1)",
     "output_type": "error",
     "traceback": [
      "\u001b[1;36m  File \u001b[1;32m\"<ipython-input-1-b255f485821d>\"\u001b[1;36m, line \u001b[1;32m1\u001b[0m\n\u001b[1;33m    not (\"None\" or None) and False or (\"and\" not ())\u001b[0m\n\u001b[1;37m                                                 ^\u001b[0m\n\u001b[1;31mSyntaxError\u001b[0m\u001b[1;31m:\u001b[0m invalid syntax\n"
     ]
    }
   ],
   "source": [
    "not (\"None\" or None) and False or (\"and\" not ())"
   ]
  },
  {
   "cell_type": "code",
   "execution_count": 2,
   "metadata": {},
   "outputs": [
    {
     "data": {
      "text/plain": [
       "False"
      ]
     },
     "execution_count": 2,
     "metadata": {},
     "output_type": "execute_result"
    }
   ],
   "source": [
    "bnot \"None\""
   ]
  },
  {
   "cell_type": "code",
   "execution_count": 3,
   "metadata": {},
   "outputs": [
    {
     "data": {
      "text/plain": [
       "True"
      ]
     },
     "execution_count": 3,
     "metadata": {},
     "output_type": "execute_result"
    }
   ],
   "source": [
    "not 0"
   ]
  },
  {
   "cell_type": "code",
   "execution_count": 4,
   "metadata": {},
   "outputs": [
    {
     "data": {
      "text/plain": [
       "False"
      ]
     },
     "execution_count": 4,
     "metadata": {},
     "output_type": "execute_result"
    }
   ],
   "source": [
    "not True"
   ]
  },
  {
   "cell_type": "code",
   "execution_count": 5,
   "metadata": {},
   "outputs": [
    {
     "data": {
      "text/plain": [
       "True"
      ]
     },
     "execution_count": 5,
     "metadata": {},
     "output_type": "execute_result"
    }
   ],
   "source": [
    "not ()"
   ]
  },
  {
   "cell_type": "code",
   "execution_count": 6,
   "metadata": {},
   "outputs": [
    {
     "data": {
      "text/plain": [
       "True"
      ]
     },
     "execution_count": 6,
     "metadata": {},
     "output_type": "execute_result"
    }
   ],
   "source": [
    "not \"\""
   ]
  },
  {
   "cell_type": "code",
   "execution_count": 8,
   "metadata": {},
   "outputs": [
    {
     "data": {
      "text/plain": [
       "False"
      ]
     },
     "execution_count": 8,
     "metadata": {},
     "output_type": "execute_result"
    }
   ],
   "source": [
    "not \" \""
   ]
  },
  {
   "cell_type": "markdown",
   "metadata": {},
   "source": [
    "###  ingredients of Stuffe Kadayif , a Turkish desert:  Kadayif Dolmasi Hazirlanisi\n",
    "\n",
    " Kadayif\n",
    " KernelS( Walnut,Hazelnut,Peanut)\n",
    " Sherbet(Waterve Sugar)\n",
    " Egg\n",
    " \n",
    " \n",
    " and operatöru secilmesinin sebebi bir tanesi bile olmaz ise kadayif pismez hepsi olmaz sa olmazdir bu nedenle and operatöru kullanir AND BIR TANE BILE fALSE VARSA ONU ALDIGI ICIN mustlar bunlardan biri olmaz is eolmaz\n",
    " \n",
    " \n",
    " örnegin Serbet(su ve Seker)   burda and kullniriz cunku biri olmasa False temsil eder and ilk gördugu False degerini alir ve serbetimiz kaynamaza Mustlardir olmasza olmazimizdir\n",
    " \n",
    " ancak ic(findik distik ceviz) bunlardan bir tanesi olmasi yetecegi icin or kullanilir"
   ]
  },
  {
   "cell_type": "code",
   "execution_count": null,
   "metadata": {},
   "outputs": [],
   "source": [
    "kadayif = None     \n",
    "\n",
    "#ic malzeme   bir taNESI OLMASI YETERLI\n",
    "findik = None\n",
    "fistik = None\n",
    "ceviz = None\n",
    "\n",
    "#serbet\n",
    "su = None\n",
    "seker = None\n",
    "\n",
    "yumurta = None"
   ]
  },
  {
   "cell_type": "code",
   "execution_count": null,
   "metadata": {},
   "outputs": [],
   "source": [
    "yedim = kadayif and serbet and ic malzeme and yumurta"
   ]
  },
  {
   "cell_type": "code",
   "execution_count": null,
   "metadata": {},
   "outputs": [],
   "source": [
    "yedim = kadayif and (su and serbet) and ic malzeme and yumurta"
   ]
  },
  {
   "cell_type": "code",
   "execution_count": 12,
   "metadata": {},
   "outputs": [
    {
     "name": "stdout",
     "output_type": "stream",
     "text": [
      "False\n"
     ]
    }
   ],
   "source": [
    "kadayif = True     \n",
    "\n",
    "# ic malzeme   bir taNESI OLMASI YETERLI\n",
    "findik = True\n",
    "fistik = True\n",
    "ceviz = False\n",
    "\n",
    "#serbet\n",
    "su = True\n",
    "seker = False\n",
    "\n",
    "yumurta = True\n",
    "\n",
    "yedim = kadayif and (su and seker) and (findik or fistik or ceviz) and yumurta\n",
    "\n",
    "print(yedim)"
   ]
  },
  {
   "cell_type": "code",
   "execution_count": 13,
   "metadata": {},
   "outputs": [
    {
     "name": "stdout",
     "output_type": "stream",
     "text": [
      "True\n"
     ]
    }
   ],
   "source": [
    "kadayif = True     \n",
    "\n",
    "# ic malzeme   bir taNESI OLMASI YETERLI\n",
    "findik = True\n",
    "fistik = True\n",
    "ceviz = False\n",
    "\n",
    "#serbet\n",
    "su = True\n",
    "seker = True\n",
    "\n",
    "yumurta = True\n",
    "\n",
    "yedim = kadayif and (su and seker) and (findik or fistik or ceviz) and yumurta\n",
    "\n",
    "print(yedim)"
   ]
  },
  {
   "cell_type": "code",
   "execution_count": 14,
   "metadata": {},
   "outputs": [
    {
     "data": {
      "text/plain": [
       "'Clarus Way'"
      ]
     },
     "execution_count": 14,
     "metadata": {},
     "output_type": "execute_result"
    }
   ],
   "source": [
    "\"Clarus Way\""
   ]
  },
  {
   "cell_type": "markdown",
   "metadata": {},
   "source": [
    "### indexlemek her bir elemanina ulasmak string indexlendigind string bir deger veriyor bir elemana ulasmak buna indexlemek denir belirli bir aralik birden fazla elemana ulasmak ise sileysing oluyor\n",
    "\n"
   ]
  },
  {
   "cell_type": "code",
   "execution_count": 15,
   "metadata": {},
   "outputs": [
    {
     "data": {
      "text/plain": [
       "'s'"
      ]
     },
     "execution_count": 15,
     "metadata": {},
     "output_type": "execute_result"
    }
   ],
   "source": [
    "\"Clarus Way\"[5]"
   ]
  },
  {
   "cell_type": "code",
   "execution_count": 16,
   "metadata": {},
   "outputs": [
    {
     "data": {
      "text/plain": [
       "'a'"
      ]
     },
     "execution_count": 16,
     "metadata": {},
     "output_type": "execute_result"
    }
   ],
   "source": [
    "a = \"Clarus Way\"\n",
    "a[8]"
   ]
  },
  {
   "cell_type": "code",
   "execution_count": 17,
   "metadata": {},
   "outputs": [
    {
     "data": {
      "text/plain": [
       "'y'"
      ]
     },
     "execution_count": 17,
     "metadata": {},
     "output_type": "execute_result"
    }
   ],
   "source": [
    "a[-1]"
   ]
  },
  {
   "cell_type": "code",
   "execution_count": 18,
   "metadata": {},
   "outputs": [
    {
     "data": {
      "text/plain": [
       "'W'"
      ]
     },
     "execution_count": 18,
     "metadata": {},
     "output_type": "execute_result"
    }
   ],
   "source": [
    "a[-3]"
   ]
  },
  {
   "cell_type": "code",
   "execution_count": 19,
   "metadata": {},
   "outputs": [
    {
     "data": {
      "text/plain": [
       "str"
      ]
     },
     "execution_count": 19,
     "metadata": {},
     "output_type": "execute_result"
    }
   ],
   "source": [
    "type(a)"
   ]
  },
  {
   "cell_type": "code",
   "execution_count": 23,
   "metadata": {},
   "outputs": [
    {
     "data": {
      "text/plain": [
       "'5'"
      ]
     },
     "execution_count": 23,
     "metadata": {},
     "output_type": "execute_result"
    }
   ],
   "source": [
    "a = \"Clarus Way 56\"\n",
    "\"Clarus Way 56\"[11]\n"
   ]
  },
  {
   "cell_type": "code",
   "execution_count": 25,
   "metadata": {},
   "outputs": [
    {
     "data": {
      "text/plain": [
       "str"
      ]
     },
     "execution_count": 25,
     "metadata": {},
     "output_type": "execute_result"
    }
   ],
   "source": [
    "type(a[6])"
   ]
  },
  {
   "cell_type": "markdown",
   "metadata": {},
   "source": [
    "###[start: stop   : step)"
   ]
  },
  {
   "cell_type": "code",
   "execution_count": 27,
   "metadata": {},
   "outputs": [
    {
     "data": {
      "text/plain": [
       "'-W'"
      ]
     },
     "execution_count": 27,
     "metadata": {},
     "output_type": "execute_result"
    }
   ],
   "source": [
    "\"Clarus-Way. \"[6:8]"
   ]
  },
  {
   "cell_type": "code",
   "execution_count": 28,
   "metadata": {},
   "outputs": [
    {
     "name": "stdout",
     "output_type": "stream",
     "text": [
      "Word                  :  orange\n",
      "first letter          :  o\n",
      "second letter         :  r\n",
      "3rd to 5th letters    :  ang\n",
      "Letter all after 3rd  :  ange\n"
     ]
    }
   ],
   "source": [
    "fruit = \"orange\"\n",
    "\n",
    "print(\"Word                  : \", fruit)\n",
    "print(\"first letter          : \", fruit[0])\n",
    "print(\"second letter         : \", fruit[1])\n",
    "print(\"3rd to 5th letters    : \", fruit[2:5])\n",
    "print(\"Letter all after 3rd  : \", fruit[2:])\n"
   ]
  },
  {
   "cell_type": "code",
   "execution_count": 29,
   "metadata": {},
   "outputs": [
    {
     "name": "stdout",
     "output_type": "stream",
     "text": [
      "bir sayi gir : 55\n"
     ]
    }
   ],
   "source": [
    "sayi = input(\"bir sayi gir : \")"
   ]
  },
  {
   "cell_type": "code",
   "execution_count": 30,
   "metadata": {},
   "outputs": [
    {
     "data": {
      "text/plain": [
       "str"
      ]
     },
     "execution_count": 30,
     "metadata": {},
     "output_type": "execute_result"
    }
   ],
   "source": [
    "type(sayi)\n"
   ]
  },
  {
   "cell_type": "markdown",
   "metadata": {},
   "source": [
    "## input fonksiyonu klavyedenkullanicinin girdigi ne olursa olsun isaret rakam ne alirsa str ing formatinda aliyor  asagidaki örnekte str olarak gördu ve sayilari yan yana yazdi"
   ]
  },
  {
   "cell_type": "code",
   "execution_count": 32,
   "metadata": {},
   "outputs": [
    {
     "name": "stdout",
     "output_type": "stream",
     "text": [
      "ilk sayiyi giriniz :45\n",
      "ikinci sayiyi giriniz :65\n",
      "iki sayinin toplami : 4565\n"
     ]
    }
   ],
   "source": [
    "a = input(\"ilk sayiyi giriniz :\")\n",
    "b = input(\"ikinci sayiyi giriniz :\") \n",
    "print(\"iki sayinin toplami :\" , a + b)"
   ]
  },
  {
   "cell_type": "code",
   "execution_count": 33,
   "metadata": {},
   "outputs": [
    {
     "data": {
      "text/plain": [
       "110"
      ]
     },
     "execution_count": 33,
     "metadata": {},
     "output_type": "execute_result"
    }
   ],
   "source": [
    "45+65\n"
   ]
  },
  {
   "cell_type": "code",
   "execution_count": 35,
   "metadata": {},
   "outputs": [
    {
     "name": "stdout",
     "output_type": "stream",
     "text": [
      "Are you a cigarette addict older than 75 years old : True\n",
      "Do you have a severe chronic disease? : True\n",
      "Is your immune system too weak : True\n",
      "True\n"
     ]
    }
   ],
   "source": [
    "age = input(\"Are you a cigarette addict older than 75 years old : \")\n",
    "chronic = input(\"Do you have a severe chronic disease? : \")\n",
    "immune = input(\"Is your immune system too weak : \")\n",
    "\n",
    "risk = age and chronic and immune\n",
    "print(risk)"
   ]
  },
  {
   "cell_type": "code",
   "execution_count": 36,
   "metadata": {},
   "outputs": [
    {
     "name": "stdout",
     "output_type": "stream",
     "text": [
      "Are you a cigarette addict older than 75 years old : False\n",
      "Do you have a severe chronic disease? : True\n",
      "Is your immune system too weak : False\n",
      "False\n"
     ]
    }
   ],
   "source": [
    "age = input(\"Are you a cigarette addict older than 75 years old : \")\n",
    "chronic = input(\"Do you have a severe chronic disease? : \")\n",
    "immune = input(\"Is your immune system too weak : \")\n",
    "\n",
    "risk = age and chronic and immune\n",
    "print(risk)"
   ]
  },
  {
   "cell_type": "code",
   "execution_count": 1,
   "metadata": {},
   "outputs": [
    {
     "name": "stdout",
     "output_type": "stream",
     "text": [
      "Are you a cigarette addict older than 75 years old : True\n",
      "Do you have a severe chronic disease? : False\n",
      "Is your immune system too weak : False\n",
      "True\n"
     ]
    }
   ],
   "source": [
    "age = bool(input(\"Are you a cigarette addict older than 75 years old : \"))  # You are \\n\n",
    "older than 75 years old, also you addict cigarette\n",
    "\n",
    "chronic = bool(input(\"Do you have a severe chronic disease? : \"))\n",
    "immune = bool(input(\"Is your immune system too weak : \"))\n",
    "\n",
    "risk = age or chronic or immune\n",
    "print(risk)"
   ]
  },
  {
   "cell_type": "code",
   "execution_count": null,
   "metadata": {},
   "outputs": [],
   "source": []
  },
  {
   "cell_type": "code",
   "execution_count": null,
   "metadata": {},
   "outputs": [],
   "source": []
  },
  {
   "cell_type": "code",
   "execution_count": 3,
   "metadata": {},
   "outputs": [
    {
     "name": "stdout",
     "output_type": "stream",
     "text": [
      "True True True True True True True False\n"
     ]
    }
   ],
   "source": [
    "age = True # (You are elder then 75.)\n",
    "chronic = True # (You have any disesase.)\n",
    "immune= True #(Your immune system too weak.)\n",
    "risk1 = age or chronic or immune\n",
    "risk2 = age and chronic or not immune\n",
    "risk3 = age and immune or not chronic\n",
    "risk4 = not age or chronic and immune\n",
    "risk5 = age or not chronic and not immune\n",
    "risk6 = not age and not immune or chronic\n",
    "risk7 = not age and not chronic or immune\n",
    "risk8 = not age and not chronic and not immune\n",
    "print(risk1, risk2, risk3, risk4, risk5, risk6, risk7, risk8)"
   ]
  },
  {
   "cell_type": "code",
   "execution_count": 4,
   "metadata": {},
   "outputs": [
    {
     "name": "stdout",
     "output_type": "stream",
     "text": [
      "True\n"
     ]
    }
   ],
   "source": [
    "age = True\n",
    "chronic = True\n",
    "immune = True\n",
    "risk = (age or chronic or immune)\n",
    "print(risk)"
   ]
  },
  {
   "cell_type": "code",
   "execution_count": null,
   "metadata": {},
   "outputs": [],
   "source": [
    "age = True\n",
    "chronic = True\n",
    "immune = True\n",
    "\n",
    "\n",
    "age = input(\"Are you a cigarette addict older than 75 years old : \")\n",
    "chronic = input(\"Do you have a severe chronic disease? : \")\n",
    "immune = input(\"Is your immune system too weak : \")\n",
    "\n",
    "risk = age or chronic or immune\n",
    "print(risk)"
   ]
  },
  {
   "cell_type": "code",
   "execution_count": 5,
   "metadata": {},
   "outputs": [
    {
     "name": "stdout",
     "output_type": "stream",
     "text": [
      "True\n"
     ]
    }
   ],
   "source": [
    "age = True # You are older than 75 years old, also you addict cigarette  \n",
    "chronic = True  # You have a severe chronic disease\n",
    "immune = True  # Your immunate system too weak  \n",
    "risk = (age or chronic or immune)\n",
    "print(risk)\n"
   ]
  },
  {
   "cell_type": "code",
   "execution_count": null,
   "metadata": {},
   "outputs": [],
   "source": []
  },
  {
   "cell_type": "code",
   "execution_count": 8,
   "metadata": {},
   "outputs": [
    {
     "name": "stdout",
     "output_type": "stream",
     "text": [
      "are you elder then 75?:False\n",
      "Do you have any disesase?:False\n",
      "Is your immune system too weak? :False\n",
      "True\n"
     ]
    }
   ],
   "source": [
    "age = bool(input(\"are you elder then 75?:\"))\n",
    "chronic = bool(input(\"Do you have any disesase?:\"))\n",
    "immune= bool(input(\"Is your immune system too weak? :\"))\n",
    "risk = (age and chronic or immune)\n",
    "print(risk)"
   ]
  },
  {
   "cell_type": "code",
   "execution_count": 10,
   "metadata": {},
   "outputs": [
    {
     "name": "stdout",
     "output_type": "stream",
     "text": [
      "Are you a cigarette addict older than 75 years old : 54\n",
      "Do you have a severe chronic disease? : No\n",
      "Is your immune system too weak : No\n",
      "True\n"
     ]
    }
   ],
   "source": [
    "age = True # You are older than 75 years old, also you addict cigarette  \n",
    "chronic = True  # You have a severe chronic disease\n",
    "immune = True  # Your immunate system too weak  \n",
    "\n",
    "age = bool(input(\"Are you a cigarette addict older than 75 years old : \")) \n",
    "chronic = bool(input(\"Do you have a severe chronic disease? : \"))\n",
    "immune = bool(input(\"Is your immune system too weak : \"))\n",
    "\n",
    "risk = age or chronic or immune\n",
    "print(risk)"
   ]
  },
  {
   "cell_type": "code",
   "execution_count": 11,
   "metadata": {},
   "outputs": [
    {
     "name": "stdout",
     "output_type": "stream",
     "text": [
      "Are you a cigarette addict older than 75 years old : 55\n",
      "Do you have a severe chronic disease? : no\n",
      "Is your immune system too weak : no\n",
      "True\n"
     ]
    }
   ],
   "source": [
    "age = True # You are older than 75 years old, also you addict cigarette  \n",
    "chronic = True  # You have a severe chronic disease\n",
    "immune = True  # Your immunate system too weak  \n",
    "\n",
    "age = bool(input(\"Are you a cigarette addict older than 75 years old : \")) \n",
    "chronic = bool(input(\"Do you have a severe chronic disease? : \"))\n",
    "immune = bool(input(\"Is your immune system too weak : \"))\n",
    "\n",
    "risk = age and chronic or immune\n",
    "print(risk)"
   ]
  },
  {
   "cell_type": "markdown",
   "metadata": {},
   "source": [
    "### PYTHON 20 MARCH 2021 "
   ]
  },
  {
   "cell_type": "code",
   "execution_count": 2,
   "metadata": {},
   "outputs": [
    {
     "data": {
      "text/plain": [
       "'gna'"
      ]
     },
     "execution_count": 2,
     "metadata": {},
     "output_type": "execute_result"
    }
   ],
   "source": [
    "\"orange\"[-2:-5:-1]\n"
   ]
  },
  {
   "cell_type": "code",
   "execution_count": 22,
   "metadata": {},
   "outputs": [
    {
     "name": "stdout",
     "output_type": "stream",
     "text": [
      "Word :    aro\n",
      "Word_first : \n",
      "Word_second : ran\n",
      "Word_second : egnaro\n",
      "Word_secondd : \n",
      "Word_second : \n",
      "Word_second : gna\n",
      "Word_second : gna\n"
     ]
    }
   ],
   "source": [
    "fruit =\"orange\"\n",
    "\n",
    "print(\"Word :   \", fruit[-4::-1] )\n",
    "print(\"Word_first :\", fruit[3:-3:2])\n",
    "print(\"Word_second :\", fruit[-5:-2])\n",
    "print(\"Word_second :\", fruit[::-1])\n",
    "print(\"Word_secondd :\", fruit[2:5:-1])\n",
    "print(\"Word_second :\", fruit[-4:-1:-1])\n",
    "print(\"Word_second :\", fruit[-2:-5:-1])\n",
    "print(\"Word_second :\", fruit[4:1:-1])"
   ]
  },
  {
   "cell_type": "code",
   "execution_count": 21,
   "metadata": {},
   "outputs": [
    {
     "name": "stdout",
     "output_type": "stream",
     "text": [
      "Real_word : relk\n",
      "Real_word : ikle\n"
     ]
    }
   ],
   "source": [
    "seviye = \"Hedeflerimiz_önceliklerimiz\"\n",
    "\n",
    "print(\"Real_word :\", seviye[-5:-9:-1])\n",
    "print(\"Real_word :\", seviye[-9:-5:1])"
   ]
  },
  {
   "cell_type": "markdown",
   "metadata": {},
   "source": [
    "## [ start stop step ]  indeksleme soldan saga dogru olur ancak -1 tersine cevirir"
   ]
  },
  {
   "cell_type": "code",
   "execution_count": 23,
   "metadata": {},
   "outputs": [
    {
     "data": {
      "text/plain": [
       "'upperupperupper'"
      ]
     },
     "execution_count": 23,
     "metadata": {},
     "output_type": "execute_result"
    }
   ],
   "source": [
    "\"upper\"*3"
   ]
  },
  {
   "cell_type": "code",
   "execution_count": 24,
   "metadata": {},
   "outputs": [
    {
     "data": {
      "text/plain": [
       "'upperupperupper'"
      ]
     },
     "execution_count": 24,
     "metadata": {},
     "output_type": "execute_result"
    }
   ],
   "source": [
    "3*\"upper\""
   ]
  },
  {
   "cell_type": "code",
   "execution_count": 25,
   "metadata": {},
   "outputs": [
    {
     "data": {
      "text/plain": [
       "'upperupperupper'"
      ]
     },
     "execution_count": 25,
     "metadata": {},
     "output_type": "execute_result"
    }
   ],
   "source": [
    "a = \"upper\"\n",
    "3*a"
   ]
  },
  {
   "cell_type": "code",
   "execution_count": 26,
   "metadata": {},
   "outputs": [
    {
     "name": "stdout",
     "output_type": "stream",
     "text": [
      "R a m a z a n\n"
     ]
    }
   ],
   "source": [
    "print(*\"Ramazan\")"
   ]
  },
  {
   "cell_type": "code",
   "execution_count": 31,
   "metadata": {},
   "outputs": [
    {
     "name": "stdout",
     "output_type": "stream",
     "text": [
      "uppercaseletter\n"
     ]
    }
   ],
   "source": [
    "str_one = \"upper\"\n",
    "str_one += \"case\"\n",
    "str_one += \"letter\"\n",
    "\n",
    "\n",
    "print(str_one)"
   ]
  },
  {
   "cell_type": "code",
   "execution_count": 33,
   "metadata": {},
   "outputs": [
    {
     "name": "stdout",
     "output_type": "stream",
     "text": [
      "Rama\n"
     ]
    }
   ],
   "source": [
    "x = \"R\"\n",
    "x += \"a\"\n",
    "x += \"m\"\n",
    "x += \"a\"\n",
    "\n",
    "print(x)"
   ]
  },
  {
   "cell_type": "code",
   "execution_count": 34,
   "metadata": {},
   "outputs": [
    {
     "name": "stdout",
     "output_type": "stream",
     "text": [
      "I ate Omena and Tomato \n"
     ]
    }
   ],
   "source": [
    "fruit =\"Omena\"\n",
    "vegetable = \"Tomato\"\n",
    "print(\"I ate {} and {} \". format(fruit, vegetable))"
   ]
  },
  {
   "cell_type": "code",
   "execution_count": 41,
   "metadata": {},
   "outputs": [
    {
     "name": "stdout",
     "output_type": "stream",
     "text": [
      "OmenaOmenaOmena+TomatoTomato\n"
     ]
    }
   ],
   "source": [
    "print(3*fruit +  \"+\" + 2*vegetable)"
   ]
  },
  {
   "cell_type": "code",
   "execution_count": 43,
   "metadata": {},
   "outputs": [
    {
     "name": "stdout",
     "output_type": "stream",
     "text": [
      "TomatoTomatoTomatoTomatoTomato + OmenaOmenaOmenaOmenaOmena\n"
     ]
    }
   ],
   "source": [
    "print(5*vegetable + \" + \" + 5*fruit)"
   ]
  },
  {
   "cell_type": "code",
   "execution_count": 44,
   "metadata": {},
   "outputs": [
    {
     "name": "stdout",
     "output_type": "stream",
     "text": [
      "We bought Omena and Tomato every week. \n"
     ]
    }
   ],
   "source": [
    "output = f\"We bought {fruit} and {vegetable} every week. \"\n",
    "print(output)"
   ]
  },
  {
   "cell_type": "markdown",
   "metadata": {},
   "source": [
    "### f \" {}  {} \"   "
   ]
  },
  {
   "cell_type": "code",
   "execution_count": 45,
   "metadata": {},
   "outputs": [
    {
     "name": "stdout",
     "output_type": "stream",
     "text": [
      "I love onion.\n"
     ]
    }
   ],
   "source": [
    "veg = \"onion\"\n",
    "\n",
    "print(\"I love {}.\".format(veg))"
   ]
  },
  {
   "cell_type": "code",
   "execution_count": 46,
   "metadata": {},
   "outputs": [
    {
     "name": "stdout",
     "output_type": "stream",
     "text": [
      "The amount of Apple we bought is 5 pounds. \n"
     ]
    }
   ],
   "source": [
    "fruit = \"Apple\"\n",
    "vegetable = \"Tomato\"\n",
    "amount = 5\n",
    "\n",
    "print(\"The amount of {} we bought is {} pounds. \".format (fruit,amount))"
   ]
  },
  {
   "cell_type": "code",
   "execution_count": 48,
   "metadata": {},
   "outputs": [
    {
     "name": "stdout",
     "output_type": "stream",
     "text": [
      "California is the most  beautiful stade of the USA\n"
     ]
    }
   ],
   "source": [
    "print(\"{state} is the most {adjective} stade of the {country}\". format \\\n",
    "      (state = \"California\", adjective = \" beautiful\", country = \"USA\"))"
   ]
  },
  {
   "cell_type": "code",
   "execution_count": 2,
   "metadata": {},
   "outputs": [
    {
     "name": "stdout",
     "output_type": "stream",
     "text": [
      " Ahmet -- Mehmet \n"
     ]
    }
   ],
   "source": [
    "print(\" {} -- {} \".format(\"Ahmet\",\"Mehmet\",\"Selim\"))"
   ]
  },
  {
   "cell_type": "code",
   "execution_count": 1,
   "metadata": {},
   "outputs": [
    {
     "name": "stdout",
     "output_type": "stream",
     "text": [
      "Ahmet--Mehmet\n"
     ]
    }
   ],
   "source": [
    "print(\"{}--{}\".format(\"Ahmet\",\"Mehmet\"))"
   ]
  },
  {
   "cell_type": "code",
   "execution_count": 4,
   "metadata": {},
   "outputs": [
    {
     "name": "stdout",
     "output_type": "stream",
     "text": [
      "California is the most  beautiful stade of the USA\n"
     ]
    }
   ],
   "source": [
    "print(\"{} is the most {adjective} stade of the {country}\". format \\\n",
    "      (\"California\", adjective = \" beautiful\", country = \"USA\"))"
   ]
  },
  {
   "cell_type": "markdown",
   "metadata": {},
   "source": [
    "###  ilkine deger atamadik ancak positional argument kurali geregi positional önce gelir   formatta yazili olana ilki ilkiniin icerisine yazilir önce pozitionallar sonra keywordslar olacak sekilde siralanmalidir \n",
    "\n",
    "şnce "
   ]
  },
  {
   "cell_type": "code",
   "execution_count": 7,
   "metadata": {},
   "outputs": [
    {
     "name": "stdout",
     "output_type": "stream",
     "text": [
      "a--b--c--e\n"
     ]
    }
   ],
   "source": [
    "print(\"{}--{}--{}--{}\". format(\"a\",\"b\",\"c\",\"e\"))"
   ]
  },
  {
   "cell_type": "code",
   "execution_count": null,
   "metadata": {},
   "outputs": [],
   "source": [
    "print"
   ]
  },
  {
   "cell_type": "markdown",
   "metadata": {},
   "source": [
    "### LIST "
   ]
  },
  {
   "cell_type": "code",
   "execution_count": 2,
   "metadata": {},
   "outputs": [
    {
     "name": "stdout",
     "output_type": "stream",
     "text": [
      "[15, 'Orhan', True, 8.54, None, [1, 2, 3]]\n"
     ]
    }
   ],
   "source": [
    "mixed_list = [15,\"Orhan\",True,8.54,None,[1,2,3,]]\n",
    "print(mixed_list)"
   ]
  },
  {
   "cell_type": "code",
   "execution_count": 4,
   "metadata": {},
   "outputs": [
    {
     "name": "stdout",
     "output_type": "stream",
     "text": [
      "16\n"
     ]
    }
   ],
   "source": [
    "sentences1 = \"I love my family\"\n",
    "print(len(list(sentences1)))"
   ]
  },
  {
   "cell_type": "code",
   "execution_count": 5,
   "metadata": {},
   "outputs": [
    {
     "name": "stdout",
     "output_type": "stream",
     "text": [
      "['love', 114, '114']\n"
     ]
    }
   ],
   "source": [
    "family1 = []\n",
    "family1.append(\"love\")  # sonuna Eklemek icin kullaniyoruz\n",
    "family1.append(114)\n",
    "family1.append(\"114\")\n",
    "\n",
    "print(family1)"
   ]
  },
  {
   "cell_type": "code",
   "execution_count": 8,
   "metadata": {},
   "outputs": [
    {
     "name": "stdout",
     "output_type": "stream",
     "text": [
      "['Turku', 'Tampere', 'Helsinki', 'Loimaa']\n"
     ]
    }
   ],
   "source": [
    "city = [\"Turku\", \"Tampere\", \"Helsinki\"]\n",
    "city.append(\"Loimaa\") \n",
    "print(city)        "
   ]
  },
  {
   "cell_type": "code",
   "execution_count": 10,
   "metadata": {},
   "outputs": [
    {
     "name": "stdout",
     "output_type": "stream",
     "text": [
      "['Turku', 'Loimaa', 'Tampere', 'Helsinki']\n"
     ]
    }
   ],
   "source": [
    "city = [\"Turku\", \"Tampere\", \"Helsinki\"]\n",
    "city.insert(1,\"Loimaa\")  # eklemek istedigimiz siralamayi da belirliyoruz \n",
    "print(city)"
   ]
  },
  {
   "cell_type": "code",
   "execution_count": 11,
   "metadata": {},
   "outputs": [
    {
     "name": "stdout",
     "output_type": "stream",
     "text": [
      "['Meral', 'Bengisu', 'Akif', 'orhan', 'Ramazan']\n"
     ]
    }
   ],
   "source": [
    "my_family = [\"Meral\",\"Bengisu\",\"Akif\",\"orhan\"]\n",
    "my_family.append(\"Ramazan\")\n",
    "print(my_family)"
   ]
  },
  {
   "cell_type": "code",
   "execution_count": 14,
   "metadata": {},
   "outputs": [
    {
     "name": "stdout",
     "output_type": "stream",
     "text": [
      "['Ramazan', 'Meral', 'Bengisu', 'Akif', 'orhan']\n"
     ]
    }
   ],
   "source": [
    "my_family1 = [\"Meral\",\"Bengisu\",\"Akif\",\"orhan\"]\n",
    "my_family1.insert(0,\"Ramazan\")\n",
    "print(my_family1)"
   ]
  },
  {
   "cell_type": "code",
   "execution_count": 17,
   "metadata": {},
   "outputs": [
    {
     "name": "stdout",
     "output_type": "stream",
     "text": [
      "['Turku', 'Tampere', 'Koopio', 'Jyvekula', 'oulu']\n"
     ]
    }
   ],
   "source": [
    "city = [\"Turku\", \"Tampere\", \"Helsinki\",\"Koopio\",\"Jyvekula\",\"oulu\"]\n",
    "city.remove(\"Helsinki\")  # we have deleted \"Helsinki\"\n",
    "print(city)"
   ]
  },
  {
   "cell_type": "code",
   "execution_count": 1,
   "metadata": {},
   "outputs": [
    {
     "name": "stdout",
     "output_type": "stream",
     "text": [
      "['Helsinki', 'Oulu', 'Tampere', 'Turku', 'Zonguldak']\n",
      "5\n"
     ]
    }
   ],
   "source": [
    "city =[\"Turku\",\"Tampere\",\"Oulu\",\"Zonguldak\",\"Helsinki\",\"Ankara\"]\n",
    "city.remove(\"Ankara\")\n",
    "city.sort()\n",
    "print(city)\n",
    "print(len(city))"
   ]
  },
  {
   "cell_type": "code",
   "execution_count": 2,
   "metadata": {},
   "outputs": [
    {
     "name": "stdout",
     "output_type": "stream",
     "text": [
      "['Helsinki', 'Oulu', 'Tampere', 'Turku', 'Zonguldak']\n"
     ]
    }
   ],
   "source": [
    "print(sorted(city))"
   ]
  },
  {
   "cell_type": "code",
   "execution_count": 23,
   "metadata": {},
   "outputs": [
    {
     "name": "stdout",
     "output_type": "stream",
     "text": [
      "['Turku', 'Tampere', 'Oulu', 'Zonguldak', 'Vaasa', 'Ankara']\n"
     ]
    }
   ],
   "source": [
    "city =[\"Turku\",\"Tampere\",\"Oulu\",\"Zonguldak\",\"Helsinki\",\"Ankara\"]\n",
    "city[4] = \"Vaasa\"\n",
    "\n",
    "print(city)\n"
   ]
  },
  {
   "cell_type": "code",
   "execution_count": 24,
   "metadata": {},
   "outputs": [
    {
     "name": "stdout",
     "output_type": "stream",
     "text": [
      "['Turku', 'Tampere', 'Istanbul', 'Zonguldak', 'Helsinki', 'Ankara']\n"
     ]
    }
   ],
   "source": [
    "city =[\"Turku\",\"Tampere\",\"Oulu\",\"Zonguldak\",\"Helsinki\",\"Ankara\"]\n",
    "city[2] = \"Istanbul\"\n",
    "\n",
    "print(city)"
   ]
  },
  {
   "cell_type": "code",
   "execution_count": 25,
   "metadata": {},
   "outputs": [
    {
     "name": "stdout",
     "output_type": "stream",
     "text": [
      "['Ankara', 'Helsinki', 'Istanbul', 'Tampere', 'Turku', 'Zonguldak']\n"
     ]
    }
   ],
   "source": [
    "city.sort()  # Soldan saga siralama yapmak   \n",
    "print(city)"
   ]
  },
  {
   "cell_type": "code",
   "execution_count": 26,
   "metadata": {},
   "outputs": [
    {
     "name": "stdout",
     "output_type": "stream",
     "text": [
      "['Ankara', 'Helsinki', 'Istanbul', 'Tampere', 'Turku']\n"
     ]
    }
   ],
   "source": [
    "city.remove(\"Zonguldak\")\n",
    "print(city)"
   ]
  },
  {
   "cell_type": "code",
   "execution_count": 28,
   "metadata": {},
   "outputs": [
    {
     "name": "stdout",
     "output_type": "stream",
     "text": [
      "['Ankara', 'Helsinki', 'Istanbul', 'Vanta', 'Tampere', 'Turku']\n"
     ]
    }
   ],
   "source": [
    "city.insert(3,\"Vanta\")\n",
    "print(city)"
   ]
  },
  {
   "cell_type": "code",
   "execution_count": 29,
   "metadata": {},
   "outputs": [
    {
     "name": "stdout",
     "output_type": "stream",
     "text": [
      "[1, 5, 9]\n"
     ]
    }
   ],
   "source": [
    "numbers =[1,3,5,7,9,11,15,16]\n",
    "print(numbers[0:5:2])"
   ]
  },
  {
   "cell_type": "code",
   "execution_count": 30,
   "metadata": {},
   "outputs": [
    {
     "name": "stdout",
     "output_type": "stream",
     "text": [
      "[0, 1, 2, 3, 4, 5, 6, 7, 8, 9, 10, 11, 12, 13, 14]\n",
      "[2, 4, 6, 8, 10, 12, 14]\n"
     ]
    }
   ],
   "source": [
    "count = list(range(15))  # range ile siralama yaptik\n",
    "print(count)\n",
    "\n",
    "print(count[2:16:2])"
   ]
  },
  {
   "cell_type": "code",
   "execution_count": 34,
   "metadata": {},
   "outputs": [
    {
     "name": "stdout",
     "output_type": "stream",
     "text": [
      "['fox', 'wolf', 'rabbit', 'deer', 'giraffe']\n",
      "['elephant', 'fox', 'rabbit']\n"
     ]
    }
   ],
   "source": [
    "animals = [\"elephant\", \"bear\", \"fox\", \"wolf\", \"rabbit\", \"deer\", \"giraffe\"]\n",
    "    \n",
    "print(animals[2:])\n",
    "\n",
    "print(animals[0:5:2])"
   ]
  },
  {
   "cell_type": "code",
   "execution_count": 35,
   "metadata": {},
   "outputs": [
    {
     "name": "stdout",
     "output_type": "stream",
     "text": [
      "1\n"
     ]
    }
   ],
   "source": [
    "print(len([[12, 34, 56]]))"
   ]
  },
  {
   "cell_type": "code",
   "execution_count": 36,
   "metadata": {},
   "outputs": [
    {
     "name": "stdout",
     "output_type": "stream",
     "text": [
      "3\n"
     ]
    }
   ],
   "source": [
    "print(len([[12, 34, 56]][0]))"
   ]
  },
  {
   "cell_type": "code",
   "execution_count": 39,
   "metadata": {},
   "outputs": [
    {
     "name": "stdout",
     "output_type": "stream",
     "text": [
      "1\n"
     ]
    }
   ],
   "source": [
    "print(len([0]))"
   ]
  },
  {
   "cell_type": "code",
   "execution_count": null,
   "metadata": {},
   "outputs": [],
   "source": [
    "reef = [\"swordfish\"]"
   ]
  },
  {
   "cell_type": "code",
   "execution_count": 40,
   "metadata": {},
   "outputs": [
    {
     "name": "stdout",
     "output_type": "stream",
     "text": [
      "[3, 2, 1]\n",
      "[8, 7, 6, 5]\n",
      "[10, 9, 8, 7, 6, 5]\n",
      "[]\n"
     ]
    }
   ],
   "source": [
    "new1 = [1,2,3,4,5,6,7,8,9,10]\n",
    "\n",
    "print(new1[2::-1])\n",
    "print(new1[7:3:-1])\n",
    "print(new1[9:3:-1])\n",
    "print(new1[9:3:1])"
   ]
  },
  {
   "cell_type": "code",
   "execution_count": 2,
   "metadata": {},
   "outputs": [
    {
     "name": "stdout",
     "output_type": "stream",
     "text": [
      "[]\n",
      "h\n"
     ]
    }
   ],
   "source": [
    "city_list = [[], [\"Ankara\", \"Istanbul\",\"Kayseri,\",\"Kirsehir\",\"Zonguldak\"]]  # listede birinci elemanin icerisinde bulunan 3 cu \n",
    "print(city_list[0])\n",
    "print(city_list[1][3][5])"
   ]
  },
  {
   "cell_type": "markdown",
   "metadata": {},
   "source": [
    "### List (Listeler) [ ]   list ()"
   ]
  },
  {
   "cell_type": "code",
   "execution_count": 2,
   "metadata": {},
   "outputs": [
    {
     "name": "stdout",
     "output_type": "stream",
     "text": [
      "['h', 'a', 'p', 'p,', 'y']\n",
      "['h', 'a', 'p', 'p', 'y']\n"
     ]
    }
   ],
   "source": [
    "list_1 = [\"h\", \"a\",\"p\",\"p,\",\"y\" ]\n",
    "word = \"happy\"\n",
    "list_2 = list(word)\n",
    "\n",
    "print(list_1)\n",
    "print(list_2)"
   ]
  },
  {
   "cell_type": "code",
   "execution_count": 4,
   "metadata": {},
   "outputs": [
    {
     "data": {
      "text/plain": [
       "['1', '1', '1']"
      ]
     },
     "execution_count": 4,
     "metadata": {},
     "output_type": "execute_result"
    }
   ],
   "source": [
    "list(\"111\")"
   ]
  },
  {
   "cell_type": "code",
   "execution_count": 6,
   "metadata": {},
   "outputs": [
    {
     "data": {
      "text/plain": [
       "'123pols-ys'"
      ]
     },
     "execution_count": 6,
     "metadata": {},
     "output_type": "execute_result"
    }
   ],
   "source": [
    "a = \"123pols-ys\"\n",
    "a"
   ]
  },
  {
   "cell_type": "code",
   "execution_count": 8,
   "metadata": {},
   "outputs": [
    {
     "data": {
      "text/plain": [
       "['1', '2', '3', 'p', 'o', 'l', 's', '-', 'y', 's']"
      ]
     },
     "execution_count": 8,
     "metadata": {},
     "output_type": "execute_result"
    }
   ],
   "source": [
    "list(a)  #  list fonksiyonu ile a yi elemanlarina ayirdik"
   ]
  },
  {
   "cell_type": "code",
   "execution_count": 9,
   "metadata": {},
   "outputs": [
    {
     "data": {
      "text/plain": [
       "['123pols-ys']"
      ]
     },
     "execution_count": 9,
     "metadata": {},
     "output_type": "execute_result"
    }
   ],
   "source": [
    "a = \"123pols-ys\"\n",
    "b = [a]  # \n",
    "b"
   ]
  },
  {
   "cell_type": "code",
   "execution_count": 10,
   "metadata": {},
   "outputs": [
    {
     "data": {
      "text/plain": [
       "list"
      ]
     },
     "execution_count": 10,
     "metadata": {},
     "output_type": "execute_result"
    }
   ],
   "source": [
    "type(b)"
   ]
  },
  {
   "cell_type": "code",
   "execution_count": 11,
   "metadata": {},
   "outputs": [
    {
     "data": {
      "text/plain": [
       "['Ali']"
      ]
     },
     "execution_count": 11,
     "metadata": {},
     "output_type": "execute_result"
    }
   ],
   "source": [
    "[\"Ali\"]"
   ]
  },
  {
   "cell_type": "code",
   "execution_count": 12,
   "metadata": {},
   "outputs": [
    {
     "data": {
      "text/plain": [
       "['happy']"
      ]
     },
     "execution_count": 12,
     "metadata": {},
     "output_type": "execute_result"
    }
   ],
   "source": [
    "new = [word]\n",
    "new"
   ]
  },
  {
   "cell_type": "code",
   "execution_count": 18,
   "metadata": {},
   "outputs": [
    {
     "name": "stdout",
     "output_type": "stream",
     "text": [
      "['Joseph', 'Clarusway', 2020]\n",
      "3\n",
      "[['Joseph', 'Clarusway', 2020]]\n",
      "1\n"
     ]
    }
   ],
   "source": [
    "my_list = [\"Joseph\", \"Clarusway\", 2020 ]  # bu bir listedir toplamda 3 elmani var list ile elemanLARINA AYIRIYORUZ\n",
    "\\ STRING OLSAYDI \"jOSEPH\" BUNUN TOPLAM 6 ELEMANI VAR.\n",
    "\n",
    "new_list1 = list(my_list)\n",
    "new_list2 = [my_list]  # KOSELI PARANTEZE ALMAK SADECE KOSELI PARENTEZE ALMAKTIR BASKA BIR DEGISIKLIK OLMAZ\n",
    "\n",
    "print(new_list1)\n",
    "print(len(new_list1))\n",
    "print(new_list2)\n",
    "print(len(new_list2)) "
   ]
  },
  {
   "cell_type": "code",
   "execution_count": 22,
   "metadata": {},
   "outputs": [
    {
     "data": {
      "text/plain": [
       "['ali', 'selma']"
      ]
     },
     "execution_count": 22,
     "metadata": {},
     "output_type": "execute_result"
    }
   ],
   "source": [
    " a = [\"ali\", \"selma\"]\n",
    " a    "
   ]
  },
  {
   "cell_type": "code",
   "execution_count": 23,
   "metadata": {},
   "outputs": [
    {
     "data": {
      "text/plain": [
       "list"
      ]
     },
     "execution_count": 23,
     "metadata": {},
     "output_type": "execute_result"
    }
   ],
   "source": [
    "type(a)"
   ]
  },
  {
   "cell_type": "code",
   "execution_count": 25,
   "metadata": {},
   "outputs": [
    {
     "name": "stdout",
     "output_type": "stream",
     "text": [
      "[['ali', 'selma']]\n"
     ]
    },
    {
     "data": {
      "text/plain": [
       "1"
      ]
     },
     "execution_count": 25,
     "metadata": {},
     "output_type": "execute_result"
    }
   ],
   "source": [
    "b = [a]\n",
    "print(b)\n",
    "len(b)\n"
   ]
  },
  {
   "cell_type": "code",
   "execution_count": 27,
   "metadata": {},
   "outputs": [
    {
     "data": {
      "text/plain": [
       "2"
      ]
     },
     "execution_count": 27,
     "metadata": {},
     "output_type": "execute_result"
    }
   ],
   "source": [
    "xx = [[], []]\n",
    "len(xx)"
   ]
  },
  {
   "cell_type": "code",
   "execution_count": 29,
   "metadata": {},
   "outputs": [
    {
     "name": "stdout",
     "output_type": "stream",
     "text": [
      "['2020`s hard']\n",
      "['2', '0', '2', '0', '`', 's', ' ', 'h', 'a', 'r', 'd']\n"
     ]
    }
   ],
   "source": [
    "my_list = [\"2020`s hard\"]\n",
    "my_list1 = list (\"2020`s hard\")\n",
    "\n",
    "print (my_list)\n",
    "print(my_list1)"
   ]
  },
  {
   "cell_type": "code",
   "execution_count": 41,
   "metadata": {},
   "outputs": [],
   "source": [
    "city = [\"los\", \"Ank\",\"kays\",\"istn\",\"Tra\"]\n"
   ]
  },
  {
   "cell_type": "code",
   "execution_count": 39,
   "metadata": {},
   "outputs": [],
   "source": [
    "city [0] = True   #  los gider True gelir "
   ]
  },
  {
   "cell_type": "code",
   "execution_count": 40,
   "metadata": {},
   "outputs": [
    {
     "name": "stdout",
     "output_type": "stream",
     "text": [
      "[True, 'Ank', 'kays', 'istn', 'Tra']\n"
     ]
    }
   ],
   "source": [
    "print(city)"
   ]
  },
  {
   "cell_type": "code",
   "execution_count": 44,
   "metadata": {},
   "outputs": [
    {
     "data": {
      "text/plain": [
       "['los', 'Ank', 'kays', 'istn', 'Tra']"
      ]
     },
     "execution_count": 44,
     "metadata": {},
     "output_type": "execute_result"
    }
   ],
   "source": [
    "city"
   ]
  },
  {
   "cell_type": "code",
   "execution_count": 35,
   "metadata": {},
   "outputs": [
    {
     "data": {
      "text/plain": [
       "[True, 'c', 'l', 'a', 'r', 'u', 's']"
      ]
     },
     "execution_count": 35,
     "metadata": {},
     "output_type": "execute_result"
    }
   ],
   "source": [
    "city [1:] = \"clarus\"  # 1 inci eleman dahil hepsini attar yerine yeni elemani ögelerine ayirir\n",
    "city"
   ]
  },
  {
   "cell_type": "code",
   "execution_count": 45,
   "metadata": {},
   "outputs": [
    {
     "data": {
      "text/plain": [
       "['Ank', 'kays', 'istn', 'Tra']"
      ]
     },
     "execution_count": 45,
     "metadata": {},
     "output_type": "execute_result"
    }
   ],
   "source": [
    "city[1:] "
   ]
  },
  {
   "cell_type": "code",
   "execution_count": 6,
   "metadata": {},
   "outputs": [],
   "source": [
    "city1 = [\"istanbul\", \"Yozgat\",\"Erzurum\", \"Ankara\"]"
   ]
  },
  {
   "cell_type": "code",
   "execution_count": 3,
   "metadata": {},
   "outputs": [
    {
     "name": "stdout",
     "output_type": "stream",
     "text": [
      "['istanbul', 'Yozgat', 'Erzurum', 'Ankara']\n"
     ]
    }
   ],
   "source": [
    "print(city1)"
   ]
  },
  {
   "cell_type": "code",
   "execution_count": 5,
   "metadata": {},
   "outputs": [
    {
     "data": {
      "text/plain": [
       "['a', 'b', 'Erzurum', 'Ankara']"
      ]
     },
     "execution_count": 5,
     "metadata": {},
     "output_type": "execute_result"
    }
   ],
   "source": [
    "city1[0:2] = [\"a\", \"b\"]  # 0 ve 1 gider yerine ERz, Ankara gelir\n",
    "city1\n"
   ]
  },
  {
   "cell_type": "code",
   "execution_count": 7,
   "metadata": {},
   "outputs": [],
   "source": [
    "city1[0:2] = \"a\"  # 2 elemani gider 1 elemani geli"
   ]
  },
  {
   "cell_type": "code",
   "execution_count": 8,
   "metadata": {},
   "outputs": [
    {
     "data": {
      "text/plain": [
       "['a', 'Erzurum', 'Ankara']"
      ]
     },
     "execution_count": 8,
     "metadata": {},
     "output_type": "execute_result"
    }
   ],
   "source": [
    "city1"
   ]
  },
  {
   "cell_type": "code",
   "execution_count": 10,
   "metadata": {},
   "outputs": [],
   "source": [
    "city1[0:2] = \"abcd\"  #elemanlarina ayirdi "
   ]
  },
  {
   "cell_type": "code",
   "execution_count": 11,
   "metadata": {},
   "outputs": [
    {
     "data": {
      "text/plain": [
       "['a', 'b', 'c', 'd', 'Ankara']"
      ]
     },
     "execution_count": 11,
     "metadata": {},
     "output_type": "execute_result"
    }
   ],
   "source": [
    "city1"
   ]
  },
  {
   "cell_type": "code",
   "execution_count": 15,
   "metadata": {},
   "outputs": [
    {
     "name": "stdout",
     "output_type": "stream",
     "text": [
      "\\\\\n"
     ]
    }
   ],
   "source": [
    "a = \"\\\\\\\\\"\n",
    "print(a) "
   ]
  },
  {
   "cell_type": "code",
   "execution_count": 17,
   "metadata": {},
   "outputs": [
    {
     "name": "stdout",
     "output_type": "stream",
     "text": [
      "\\\\\n",
      "\\\\\n"
     ]
    }
   ],
   "source": [
    "print(\"\\\\\\\\\")\n",
    "print(\"\\\\\" + \"\\\\\")"
   ]
  },
  {
   "cell_type": "code",
   "execution_count": 18,
   "metadata": {},
   "outputs": [
    {
     "name": "stdout",
     "output_type": "stream",
     "text": [
      "3 + 4´un toplami 7´dir.\n"
     ]
    }
   ],
   "source": [
    "a = 3\n",
    "b = 4\n",
    "print(\"{} + {}´un toplami {}´dir.\".format(a,b, a+b))"
   ]
  },
  {
   "cell_type": "code",
   "execution_count": 21,
   "metadata": {},
   "outputs": [
    {
     "name": "stdout",
     "output_type": "stream",
     "text": [
      "3.15, 5.368,7.3257 \n"
     ]
    }
   ],
   "source": [
    "text = \"{:.2f}, {:.3f},{:.4f} \".format(3.1463, 5.3676, 7.32567)  # float dan kac deger alacagini gosteriyor\n",
    "print(text)"
   ]
  },
  {
   "cell_type": "code",
   "execution_count": 22,
   "metadata": {},
   "outputs": [
    {
     "name": "stdout",
     "output_type": "stream",
     "text": [
      "3. - 5.3 - 7.32 \n"
     ]
    }
   ],
   "source": [
    "text = \"{:.2s} - {:.3s} - {:.4s} \".format(\"3.1463\", \"5.3676\", \"7.32567\")  # stringten toplam 2 , 3 , 4 karakter al\n",
    "print(text)"
   ]
  },
  {
   "cell_type": "code",
   "execution_count": 25,
   "metadata": {
    "scrolled": true
   },
   "outputs": [
    {
     "name": "stdout",
     "output_type": "stream",
     "text": [
      "            clarusway\n",
      "21\n"
     ]
    }
   ],
   "source": [
    "text = \" {:>20}\".format (\"clarusway\")  # toplam 20 karakterlik  bir alan olusturup bu 20 karakterin sagina yasladik\n",
    "print(text)\n",
    "print(len(text))\n"
   ]
  },
  {
   "cell_type": "code",
   "execution_count": 26,
   "metadata": {
    "scrolled": true
   },
   "outputs": [
    {
     "name": "stdout",
     "output_type": "stream",
     "text": [
      " clarusway           \n"
     ]
    }
   ],
   "source": [
    "text = \" {:<20}\".format (\"clarusway\")  # toplam 20 karakterlik  bir alan olusturup bu 20 karakterin soluna yasladik\n",
    "print(text)"
   ]
  },
  {
   "cell_type": "code",
   "execution_count": 31,
   "metadata": {},
   "outputs": [
    {
     "name": "stdout",
     "output_type": "stream",
     "text": [
      " Allah iyi   insanlar ile karsilastirsin\n"
     ]
    }
   ],
   "source": [
    "\n",
    "text = \" Allah iyi {:>10} ile karsilastirsin\".format(\"insanlar\")\n",
    "print(text)"
   ]
  },
  {
   "cell_type": "code",
   "execution_count": 33,
   "metadata": {},
   "outputs": [
    {
     "data": {
      "text/plain": [
       "'test       formatlama'"
      ]
     },
     "execution_count": 33,
     "metadata": {},
     "output_type": "execute_result"
    }
   ],
   "source": [
    "text2 = \"{:<10} formatlama\".format(\"test\")\n",
    "text2"
   ]
  },
  {
   "cell_type": "code",
   "execution_count": 37,
   "metadata": {},
   "outputs": [
    {
     "data": {
      "text/plain": [
       "'   Sevgi esastir    '"
      ]
     },
     "execution_count": 37,
     "metadata": {},
     "output_type": "execute_result"
    }
   ],
   "source": [
    "\"{:^20}\".format(\"Sevgi esastir\")"
   ]
  },
  {
   "cell_type": "code",
   "execution_count": 41,
   "metadata": {},
   "outputs": [
    {
     "data": {
      "text/plain": [
       "'Allah       HEPIMIZI       salih kuularindan eylesin '"
      ]
     },
     "execution_count": 41,
     "metadata": {},
     "output_type": "execute_result"
    }
   ],
   "source": [
    "\"Allah {:^20} salih kuularindan eylesin \".format(\" HEPIMIZI\") # formatlama yöntemi ile ortaladik\n"
   ]
  },
  {
   "cell_type": "code",
   "execution_count": 42,
   "metadata": {},
   "outputs": [
    {
     "data": {
      "text/plain": [
       "'hipop'"
      ]
     },
     "execution_count": 42,
     "metadata": {},
     "output_type": "execute_result"
    }
   ],
   "source": [
    "\"{:.5}\".format(\"hipopotamus\")  # "
   ]
  },
  {
   "cell_type": "markdown",
   "metadata": {},
   "source": [
    "### append,  insert operations"
   ]
  },
  {
   "cell_type": "code",
   "execution_count": 11,
   "metadata": {},
   "outputs": [
    {
     "name": "stdout",
     "output_type": "stream",
     "text": [
      "[1, 4, 5, 8, 7, 9, 6, 2, 45, 68, 98, 754, 66666]\n",
      "[1, 4, 5, 8, 7, 9, 2555555, 6, 2, 45, 68, 98, 754, 66666]\n",
      "[1, 4, 5, 8, 7, 9, 2555555, 6, 2, [5], 45, 68, 98, 754, 66666]\n",
      "[1, False, 4, 5, 8, 7, 9, 2555555, 6, 2, [5], 45, 68, 98, 754, 66666]\n"
     ]
    }
   ],
   "source": [
    "numbers = [1,4,5,8,7,9,6,2,45,68,98,754]\n",
    "numbers.append(66666)\n",
    "print(numbers)\n",
    "\n",
    "numbers.insert(6,2555555)  # 6. elemanin koltuguna yerlesiyor ve saga kaydiriyor\n",
    "print(numbers)\n",
    "\n",
    "numbers.insert(9,[5])\n",
    "print(numbers)\n",
    "              \n",
    "numbers.insert(1,False)\n",
    "print(numbers)\n",
    "              "
   ]
  },
  {
   "cell_type": "code",
   "execution_count": 20,
   "metadata": {},
   "outputs": [
    {
     "name": "stdout",
     "output_type": "stream",
     "text": [
      "[1, 3, 5, 4, 6, [6666], 8]\n"
     ]
    }
   ],
   "source": [
    "numeric = [1,3,5,4,6,8]\n",
    "\n",
    "numeric.insert(5,[6666])\n",
    "\n",
    "print(numeric) "
   ]
  },
  {
   "cell_type": "code",
   "execution_count": 22,
   "metadata": {},
   "outputs": [
    {
     "name": "stdout",
     "output_type": "stream",
     "text": [
      "None\n"
     ]
    }
   ],
   "source": [
    "numeric = [1,3,5,4,6,8]\n",
    "\n",
    "print(numeric.insert(5,[6666]))\n"
   ]
  },
  {
   "cell_type": "code",
   "execution_count": 29,
   "metadata": {},
   "outputs": [
    {
     "name": "stdout",
     "output_type": "stream",
     "text": [
      "[1, 2, 3, 4, 5]\n",
      "[1, 2, 3, 4, 5, 5]\n"
     ]
    }
   ],
   "source": [
    "numeric = [1,2,3,4]\n",
    "numeric.insert(4,5)\n",
    "print(numeric)\n",
    "\n",
    "numeric.insert(-1,5)\n",
    "print(numeric)"
   ]
  },
  {
   "cell_type": "code",
   "execution_count": 30,
   "metadata": {},
   "outputs": [
    {
     "name": "stdout",
     "output_type": "stream",
     "text": [
      "None\n"
     ]
    }
   ],
   "source": [
    "print(numeric.append(999))"
   ]
  },
  {
   "cell_type": "markdown",
   "metadata": {},
   "source": [
    "### .remove()   siler //   .sort()     siralar kucuk olan kucuk buyuk olan buyuk buyuk harf öncelikli\n"
   ]
  },
  {
   "cell_type": "code",
   "execution_count": 66,
   "metadata": {},
   "outputs": [
    {
     "name": "stdout",
     "output_type": "stream",
     "text": [
      "[1, 4, 9]\n"
     ]
    }
   ],
   "source": [
    "number = [1,4,7,9]\n",
    "number.remove(7)\n",
    "print(number)"
   ]
  },
  {
   "cell_type": "code",
   "execution_count": 67,
   "metadata": {},
   "outputs": [
    {
     "name": "stdout",
     "output_type": "stream",
     "text": [
      "None\n"
     ]
    }
   ],
   "source": [
    "print(number.remove(9))"
   ]
  },
  {
   "cell_type": "code",
   "execution_count": 36,
   "metadata": {},
   "outputs": [
    {
     "name": "stdout",
     "output_type": "stream",
     "text": [
      "[1, 4, 7, 8, 9, 75, 666, 9854789]\n"
     ]
    }
   ],
   "source": [
    "number = [1,4,7,9,666,8,9854789,75]\n",
    "number.sort()\n",
    "print(number)"
   ]
  },
  {
   "cell_type": "code",
   "execution_count": 38,
   "metadata": {},
   "outputs": [
    {
     "name": "stdout",
     "output_type": "stream",
     "text": [
      "['Istanbul', 'Kayseri', 'Kocaeli', 'Konya', 'ankara', 'kahramanmaras', 'luleburgaz']\n"
     ]
    }
   ],
   "source": [
    "city = [\"Istanbul\",\"ankara\",\"Konya\",\"Kayseri\",\"Kocaeli\",\"kahramanmaras\",\"luleburgaz\"]  # Siralamada öncelik buyuk harflere verilir\n",
    "city.sort()\n",
    "print(city)"
   ]
  },
  {
   "cell_type": "code",
   "execution_count": 62,
   "metadata": {},
   "outputs": [
    {
     "ename": "TypeError",
     "evalue": "'<' not supported between instances of 'int' and 'str'",
     "output_type": "error",
     "traceback": [
      "\u001b[1;31m---------------------------------------------------------------------------\u001b[0m",
      "\u001b[1;31mTypeError\u001b[0m                                 Traceback (most recent call last)",
      "\u001b[1;32m<ipython-input-62-b6b7a267658e>\u001b[0m in \u001b[0;36m<module>\u001b[1;34m\u001b[0m\n\u001b[0;32m      1\u001b[0m \u001b[0mmix_list\u001b[0m \u001b[1;33m=\u001b[0m \u001b[1;33m[\u001b[0m\u001b[1;34m\"d\"\u001b[0m\u001b[1;33m,\u001b[0m\u001b[1;36m1\u001b[0m\u001b[1;33m,\u001b[0m\u001b[1;34m\"a\"\u001b[0m\u001b[1;33m,\u001b[0m\u001b[1;36m7\u001b[0m\u001b[1;33m]\u001b[0m  \u001b[1;31m# string ile int ayni anda islem yapmiyor\u001b[0m\u001b[1;33m\u001b[0m\u001b[1;33m\u001b[0m\u001b[0m\n\u001b[1;32m----> 2\u001b[1;33m \u001b[0mmix_list\u001b[0m\u001b[1;33m.\u001b[0m\u001b[0msort\u001b[0m\u001b[1;33m(\u001b[0m\u001b[1;33m)\u001b[0m\u001b[1;33m\u001b[0m\u001b[1;33m\u001b[0m\u001b[0m\n\u001b[0m\u001b[0;32m      3\u001b[0m \u001b[0mprint\u001b[0m\u001b[1;33m(\u001b[0m\u001b[0mmix_list\u001b[0m\u001b[1;33m)\u001b[0m\u001b[1;33m\u001b[0m\u001b[1;33m\u001b[0m\u001b[0m\n",
      "\u001b[1;31mTypeError\u001b[0m: '<' not supported between instances of 'int' and 'str'"
     ]
    }
   ],
   "source": [
    "mix_list = [\"d\",1,\"a\",7]  # string ile int ayni anda islem yapmiyor \n",
    "mix_list.sort()\n",
    "print(mix_list)"
   ]
  },
  {
   "cell_type": "code",
   "execution_count": 63,
   "metadata": {},
   "outputs": [
    {
     "name": "stdout",
     "output_type": "stream",
     "text": [
      "['one', 'four', 'nine']\n"
     ]
    }
   ],
   "source": [
    "list_1 = [\"one\",\"four\",\"nine\"]\n",
    "list_1.sort\n",
    "print(list_1)"
   ]
  },
  {
   "cell_type": "code",
   "execution_count": 43,
   "metadata": {},
   "outputs": [
    {
     "name": "stdout",
     "output_type": "stream",
     "text": [
      "['@', '*', 'False']\n"
     ]
    }
   ],
   "source": [
    "list_2 = [\"@\", \"*\", \"False\"]\n",
    "print(list_2)"
   ]
  },
  {
   "cell_type": "code",
   "execution_count": 44,
   "metadata": {},
   "outputs": [
    {
     "data": {
      "text/plain": [
       "64"
      ]
     },
     "execution_count": 44,
     "metadata": {},
     "output_type": "execute_result"
    }
   ],
   "source": [
    "ord(\"@\")  # ord fonksiyonunu Unicodlarin degerini ögrenmek icin kullaniriz"
   ]
  },
  {
   "cell_type": "raw",
   "metadata": {},
   "source": [
    "ord(\"*-\") "
   ]
  },
  {
   "cell_type": "code",
   "execution_count": 46,
   "metadata": {},
   "outputs": [
    {
     "data": {
      "text/plain": [
       "42"
      ]
     },
     "execution_count": 46,
     "metadata": {},
     "output_type": "execute_result"
    }
   ],
   "source": [
    "ord(\"*\")"
   ]
  },
  {
   "cell_type": "code",
   "execution_count": 48,
   "metadata": {},
   "outputs": [
    {
     "data": {
      "text/plain": [
       "70"
      ]
     },
     "execution_count": 48,
     "metadata": {},
     "output_type": "execute_result"
    }
   ],
   "source": [
    "ord(\"F\")"
   ]
  },
  {
   "cell_type": "code",
   "execution_count": 53,
   "metadata": {},
   "outputs": [
    {
     "data": {
      "text/plain": [
       "'8'"
      ]
     },
     "execution_count": 53,
     "metadata": {},
     "output_type": "execute_result"
    }
   ],
   "source": [
    "chr(56)  # ord fonksiyonun tersi "
   ]
  },
  {
   "cell_type": "code",
   "execution_count": 54,
   "metadata": {},
   "outputs": [
    {
     "data": {
      "text/plain": [
       "'@'"
      ]
     },
     "execution_count": 54,
     "metadata": {},
     "output_type": "execute_result"
    }
   ],
   "source": [
    "chr(64)"
   ]
  },
  {
   "cell_type": "code",
   "execution_count": null,
   "metadata": {},
   "outputs": [],
   "source": []
  },
  {
   "cell_type": "code",
   "execution_count": 59,
   "metadata": {},
   "outputs": [
    {
     "name": "stdout",
     "output_type": "stream",
     "text": [
      "[False, True]\n"
     ]
    }
   ],
   "source": [
    "xx = [True,False]   # False 0 degerinde veya bos kumedir True ise \n",
    "xx.sort()\n",
    "print(xx)"
   ]
  },
  {
   "cell_type": "code",
   "execution_count": 60,
   "metadata": {},
   "outputs": [
    {
     "name": "stdout",
     "output_type": "stream",
     "text": [
      "[[-12], [2], [5]]\n"
     ]
    }
   ],
   "source": [
    "list = [[-12], [5], [2]]\n",
    "list.sort()\n",
    "print(list)"
   ]
  },
  {
   "cell_type": "code",
   "execution_count": 61,
   "metadata": {},
   "outputs": [
    {
     "name": "stdout",
     "output_type": "stream",
     "text": [
      "[[-12, 'aan'], [2, 'jdsb jsdhs'], [5, 'sjccbsjk']]\n"
     ]
    }
   ],
   "source": [
    "list = [[-12,\"aan\"], [5,\"sjccbsjk\"], [2,\"jdsb jsdhs\"]]  # ilk elemanlarina göre siraladi\n",
    "list.sort()\n",
    "print(list)"
   ]
  },
  {
   "cell_type": "code",
   "execution_count": 65,
   "metadata": {},
   "outputs": [
    {
     "name": "stdout",
     "output_type": "stream",
     "text": [
      "[[455], [15], [8], [2], [1]]\n",
      "[[1], [2], [8], [15], [455]]\n"
     ]
    }
   ],
   "source": [
    "yy = [[1],[15],[2],[455],[8]]  # sort ile siralam kucukten buyuge olur\n",
    "yy.sort(reverse=True)          # ancak reverse ile durum tersine cevrilir buyukten kucuge döner           \n",
    "print(yy)\n",
    "\n",
    "yy.sort()\n",
    "print(yy)"
   ]
  },
  {
   "cell_type": "code",
   "execution_count": 68,
   "metadata": {},
   "outputs": [
    {
     "name": "stdout",
     "output_type": "stream",
     "text": [
      "['Helsinki', 'Isxtanbul', 'Kisraehir', 'Turku', 'ankara', 'sakarya0']\n"
     ]
    }
   ],
   "source": [
    "city = [\"sakarya0\", \"Isxtanbul\",\"Helsinki\",\"Kisraehir\", \"ankara\",\"Turku\"]\n",
    "city.sort()\n",
    "print(city) "
   ]
  },
  {
   "cell_type": "code",
   "execution_count": 71,
   "metadata": {},
   "outputs": [
    {
     "name": "stdout",
     "output_type": "stream",
     "text": [
      "['sakarya0', 'ankara', 'Turku', 'Kisraehir', 'Isxtanbul', 'Helsinki']\n"
     ]
    }
   ],
   "source": [
    "city.sort(reverse=True)  # reverse  False degerindedir onu True yaparsak tersine ceviriri\n",
    "print(city)"
   ]
  },
  {
   "cell_type": "code",
   "execution_count": 76,
   "metadata": {},
   "outputs": [
    {
     "name": "stdout",
     "output_type": "stream",
     "text": [
      "['H', 'a', 'l', ['p', 5], True]\n",
      "['p', 5]\n",
      "True\n"
     ]
    }
   ],
   "source": [
    "new = [\"H\",\"a\",\"l\",[\"p\",5],True]\n",
    "print(new)\n",
    "\n",
    "print(new[3])\n",
    "print(new[4])"
   ]
  },
  {
   "cell_type": "code",
   "execution_count": 78,
   "metadata": {},
   "outputs": [
    {
     "name": "stdout",
     "output_type": "stream",
     "text": [
      "<class 'bool'>\n",
      "<class 'list'>\n"
     ]
    }
   ],
   "source": [
    "print(type(new[4]))\n",
    "print(type(new[3]))"
   ]
  },
  {
   "cell_type": "code",
   "execution_count": 84,
   "metadata": {},
   "outputs": [],
   "source": [
    "city = [[\"sakarya\", \"Istanbul\",\"Helsinki\",\"Kirsehir\", \"ankara\",\"Turku\"]]"
   ]
  },
  {
   "cell_type": "code",
   "execution_count": 88,
   "metadata": {},
   "outputs": [
    {
     "name": "stdout",
     "output_type": "stream",
     "text": [
      "Kirsehir\n",
      "s\n"
     ]
    }
   ],
   "source": [
    "print(city[0][3])\n",
    "print(city[0][3][3])"
   ]
  },
  {
   "cell_type": "code",
   "execution_count": 94,
   "metadata": {},
   "outputs": [
    {
     "name": "stdout",
     "output_type": "stream",
     "text": [
      "[13, 18, 16, 17, 19, 15]\n",
      "[[15, 19, 17, 16, 18, 13]]\n",
      "1\n"
     ]
    }
   ],
   "source": [
    "c = [[15,19,17,16,18,13]]  # ikisinin arasindaki fark muazzam\n",
    "print(c[0][::-1])\n",
    "print(c[::-1])\n",
    "print(len(c))"
   ]
  },
  {
   "cell_type": "code",
   "execution_count": 101,
   "metadata": {
    "scrolled": true
   },
   "outputs": [
    {
     "name": "stdout",
     "output_type": "stream",
     "text": [
      "4\n"
     ]
    }
   ],
   "source": [
    "print(len([[12,11,15,6]][0]))  # ilk listenin eleman sayisini veriyor"
   ]
  },
  {
   "cell_type": "markdown",
   "metadata": {},
   "source": [
    "### range oparatöru siralamaya yarar list fonksiyonu\n"
   ]
  },
  {
   "cell_type": "code",
   "execution_count": 1,
   "metadata": {},
   "outputs": [
    {
     "data": {
      "text/plain": [
       "[1, 2, 3, 4, 5, 6, 7, 8, 9, 10]"
      ]
     },
     "execution_count": 1,
     "metadata": {},
     "output_type": "execute_result"
    }
   ],
   "source": [
    "odd = list(range(1,11))\n",
    "odd"
   ]
  },
  {
   "cell_type": "code",
   "execution_count": 17,
   "metadata": {
    "scrolled": true
   },
   "outputs": [
    {
     "name": "stdout",
     "output_type": "stream",
     "text": [
      "[1, 2, 3, 4, 5, 6, 7, 8, 9, 10]\n",
      "[1, 2, 3, 4, 5, 6, 7, 8, 9, 10]\n"
     ]
    }
   ],
   "source": [
    "number_list = list(range(1,11))\n",
    "print(number_list)\n",
    "\n",
    "print(list(range(1,11)))\n"
   ]
  },
  {
   "cell_type": "code",
   "execution_count": 19,
   "metadata": {
    "scrolled": false
   },
   "outputs": [
    {
     "name": "stdout",
     "output_type": "stream",
     "text": [
      "[1, 3, 5, 7, 9]\n"
     ]
    }
   ],
   "source": [
    "print(number_list[::2])"
   ]
  },
  {
   "cell_type": "code",
   "execution_count": 30,
   "metadata": {},
   "outputs": [
    {
     "name": "stdout",
     "output_type": "stream",
     "text": [
      "[5, 6, 7, 8, 9, 10, 11, 12, 13, 14, 15, 16, 17, 18, 19, 20, 21, 22, 23, 24, 25, 26, 27, 28, 29, 30, 31, 32, 33, 34, 35, 36, 37, 38, 39, 40, 41, 42, 43, 44, 45, 46, 47, 48, 49, 50, 51, 52, 53, 54, 55, 56, 57, 58, 59, 60, 61, 62, 63, 64, 65, 66, 67, 68, 69, 70, 71, 72, 73, 74, 75, 76, 77, 78, 79, 80, 81, 82, 83, 84, 85, 86, 87, 88, 89, 90, 91, 92, 93, 94, 95, 96, 97, 98, 99]\n"
     ]
    }
   ],
   "source": [
    "numeric = list(range(5,100))\n",
    "print(numeric)\n"
   ]
  },
  {
   "cell_type": "code",
   "execution_count": 33,
   "metadata": {},
   "outputs": [
    {
     "name": "stdout",
     "output_type": "stream",
     "text": [
      "[10, 15, 20, 25, 30, 35, 40, 45, 50, 55, 60, 65, 70, 75, 80, 85, 90, 95]\n"
     ]
    }
   ],
   "source": [
    "print(numeric[5:100:5])"
   ]
  },
  {
   "cell_type": "code",
   "execution_count": 35,
   "metadata": {},
   "outputs": [
    {
     "name": "stdout",
     "output_type": "stream",
     "text": [
      "[8, 17, 26, 35, 44, 53, 62, 71, 80, 89, 98]\n"
     ]
    }
   ],
   "source": [
    "print(numeric[3:99:9])"
   ]
  },
  {
   "cell_type": "code",
   "execution_count": 38,
   "metadata": {},
   "outputs": [
    {
     "name": "stdout",
     "output_type": "stream",
     "text": [
      "[0, 1, 2, 3, 4, 5, 6, 7, 8, 9, 10, 11, 12, 13, 14, 15, 16, 17, 18, 19, 20, 21, 22, 23, 24, 25, 26, 27, 28, 29, 30, 31, 32, 33, 34, 35, 36, 37, 38, 39, 40, 41, 42, 43, 44, 45, 46, 47, 48, 49, 50, 51, 52, 53, 54, 55, 56, 57, 58, 59, 60, 61, 62, 63, 64, 65, 66, 67, 68, 69, 70, 71, 72, 73, 74, 75, 76, 77, 78, 79, 80, 81, 82, 83, 84, 85, 86, 87, 88, 89, 90, 91, 92, 93, 94, 95, 96, 97, 98, 99]\n"
     ]
    }
   ],
   "source": [
    "odd = list(range(0,100))\n",
    "print(odd)"
   ]
  },
  {
   "cell_type": "code",
   "execution_count": 39,
   "metadata": {
    "scrolled": true
   },
   "outputs": [
    {
     "name": "stdout",
     "output_type": "stream",
     "text": [
      "[0, 13, 26, 39, 52, 65, 78, 91]\n"
     ]
    }
   ],
   "source": [
    "print(odd[0:100:13])"
   ]
  },
  {
   "cell_type": "code",
   "execution_count": 43,
   "metadata": {},
   "outputs": [
    {
     "name": "stdout",
     "output_type": "stream",
     "text": [
      "['one', 'two', 'three']\n"
     ]
    }
   ],
   "source": [
    "mix_list = [1, [1, \"one\", 2, \"two\", 3, \"three\"],4 ]\n",
    "print(mix_list[1][1:6:2])"
   ]
  },
  {
   "cell_type": "code",
   "execution_count": 51,
   "metadata": {},
   "outputs": [
    {
     "name": "stdout",
     "output_type": "stream",
     "text": [
      "A n k a r a\n"
     ]
    }
   ],
   "source": [
    "x = \"Ankara\"\n",
    "print(*x)"
   ]
  },
  {
   "cell_type": "code",
   "execution_count": 55,
   "metadata": {},
   "outputs": [
    {
     "name": "stdout",
     "output_type": "stream",
     "text": [
      "Ankara is the most popular city of the Turkey\n"
     ]
    }
   ],
   "source": [
    "print(\"{city} is the most {adjective} city of the {country}\".format(city = \"Ankara\",adjective = \"popular\",country = \"Turkey\"))"
   ]
  },
  {
   "cell_type": "code",
   "execution_count": 56,
   "metadata": {},
   "outputs": [
    {
     "name": "stdout",
     "output_type": "stream",
     "text": [
      "Ankara is the most popular city of the Turkey\n"
     ]
    }
   ],
   "source": [
    "print(\"{} is the most {} city of the {}\".format(\"Ankara\", \"popular\", \"Turkey\"))"
   ]
  },
  {
   "cell_type": "code",
   "execution_count": 57,
   "metadata": {},
   "outputs": [
    {
     "name": "stdout",
     "output_type": "stream",
     "text": [
      "Ankara is the most Turkey city of the popular\n"
     ]
    }
   ],
   "source": [
    "print(\"{0} is the most {2} city of the {1}\".format(\"Ankara\", \"popular\", \"Turkey\"))"
   ]
  },
  {
   "cell_type": "code",
   "execution_count": 59,
   "metadata": {},
   "outputs": [
    {
     "name": "stdout",
     "output_type": "stream",
     "text": [
      "Ankara is the most popular city of the Turkey\n"
     ]
    }
   ],
   "source": [
    "print(\"{} is the most {adjective} city of the {country}\".format(\"Ankara\",adjective = \"popular\",country = \"Turkey\"))"
   ]
  },
  {
   "cell_type": "code",
   "execution_count": 60,
   "metadata": {},
   "outputs": [
    {
     "name": "stdout",
     "output_type": "stream",
     "text": [
      "popular is the most Ankara city of the Turkey\n"
     ]
    }
   ],
   "source": [
    "print(\"{adjective} is the most {} city of the {country}\".format(\"Ankara\",adjective = \"popular\",country = \"Turkey\"))"
   ]
  },
  {
   "cell_type": "code",
   "execution_count": 66,
   "metadata": {},
   "outputs": [
    {
     "name": "stdout",
     "output_type": "stream",
     "text": [
      "generosity wins in all circumstances \n"
     ]
    }
   ],
   "source": [
    "condition = \"circumstances\"\n",
    "morality = \"generosity\"\n",
    "\n",
    "phrase = \"{morality} {1} {0} {condition} \".format( \"in all\", \"wins\", morality = \"generosity\", condition = \"circumstances\")\n",
    "print(phrase)"
   ]
  },
  {
   "cell_type": "code",
   "execution_count": 72,
   "metadata": {},
   "outputs": [
    {
     "name": "stdout",
     "output_type": "stream",
     "text": [
      "generosity wins in all circumstances \n"
     ]
    }
   ],
   "source": [
    "condition = \"circumstances\"  # duzgun bir cumle olmasi icin positionallarin sirasini duzelttik   \n",
    "morality = \"generosity\"\n",
    "\n",
    "phrase = \"{morality} {} {} {condition} \".format(\"wins\", \"in all\", morality = \"generosity\", condition = \"circumstances\")\n",
    "print(phrase)"
   ]
  },
  {
   "cell_type": "code",
   "execution_count": 67,
   "metadata": {},
   "outputs": [
    {
     "name": "stdout",
     "output_type": "stream",
     "text": [
      " İstiklal, istikbal, hurriyet ve herşey adaletle kaimdir.\n"
     ]
    }
   ],
   "source": [
    "özlu_söz = \" İstiklal, istikbal, {} ve herşey {} kaimdir.\".format(\"hurriyet\",\"adaletle\") # positional argumantlarda\\\n",
    "                                                                                         #   sira önemlidir\n",
    "\n",
    "print(özlu_söz)"
   ]
  },
  {
   "cell_type": "code",
   "execution_count": 71,
   "metadata": {},
   "outputs": [
    {
     "data": {
      "text/plain": [
       "' İstiklal, istikbal, adaletle ve herşey hurriyet kaimdir.'"
      ]
     },
     "execution_count": 71,
     "metadata": {},
     "output_type": "execute_result"
    }
   ],
   "source": [
    "özlu_söz = \" İstiklal, istikbal, {} ve herşey {} kaimdir.\".format(\"adaletle\", \"hurriyet\")\n",
    "özlu_söz"
   ]
  },
  {
   "cell_type": "code",
   "execution_count": 2,
   "metadata": {},
   "outputs": [
    {
     "name": "stdout",
     "output_type": "stream",
     "text": [
      "[1, 2, 3, 4, 5, 6, 7, 8, 9, 10]\n"
     ]
    }
   ],
   "source": [
    "my_list = list(range(1,11))\n",
    "my_list.sort() \n",
    "print(my_list)"
   ]
  },
  {
   "cell_type": "code",
   "execution_count": 7,
   "metadata": {},
   "outputs": [
    {
     "name": "stdout",
     "output_type": "stream",
     "text": [
      "[10, 9, 8, 7, 6, 5, 4, 3, 2, 1]\n"
     ]
    }
   ],
   "source": [
    "my_second_list = list(range(1,11))  # Reverse normalde False dur ancak True ya esitlenirse islem tersine döner\n",
    "my_second_list.sort(reverse=True)\n",
    "print(my_second_list)"
   ]
  },
  {
   "cell_type": "code",
   "execution_count": 14,
   "metadata": {},
   "outputs": [
    {
     "name": "stdout",
     "output_type": "stream",
     "text": [
      "My two favorite flowers are tulip and rose, two favorite colors are blue and green.\n"
     ]
    }
   ],
   "source": [
    "flowers = [[\"Jasmine\", [\"Lavender\",\"rose\"],\"tulip\"]]\n",
    "colors = [\"red\",(\"blue\",[\"yellow\",\"green\"]), \"pink\"]\n",
    "text = \"My two favorite flowers are {} and {}, two favorite colors are {} and {}.\".format(flowers[0][2],flowers[0][1][1],colors[1][0],colors[1][1][1])\n",
    "print(text)                                                                                               "
   ]
  },
  {
   "cell_type": "code",
   "execution_count": 15,
   "metadata": {},
   "outputs": [
    {
     "name": "stdout",
     "output_type": "stream",
     "text": [
      "www.clarusway.com will open your path."
     ]
    }
   ],
   "source": [
    "print('www', 'clarusway', \"com\", sep='.', end=' ')\n",
    "print('will', end=' ')\n",
    "print('open', end=' ')\n",
    "print('your', end=' ')\n",
    "print('path', end='.')"
   ]
  },
  {
   "cell_type": "code",
   "execution_count": 16,
   "metadata": {},
   "outputs": [
    {
     "name": "stdout",
     "output_type": "stream",
     "text": [
      "clarusway2020\n"
     ]
    }
   ],
   "source": [
    "print(\"clarusway\" + str(2020))"
   ]
  },
  {
   "cell_type": "code",
   "execution_count": 25,
   "metadata": {},
   "outputs": [
    {
     "name": "stdout",
     "output_type": "stream",
     "text": [
      "[0, 1, 2, 3, 4, 5, 6, 7, 8, 9, 10, 11, 12, 13, 14, 15, 16, 17, 18, 19, 20, 21, 22, 23, 24]\n",
      "[20, 19, 18, 17, 16, 15, 14, 13, 12, 11, 10, 9, 8, 7, 6, 5, 4, 3, 2, 1, 0]\n",
      "[0, 3, 6, 9, 12, 15, 18]\n"
     ]
    }
   ],
   "source": [
    "count = list(range(25))  # range fonksiyonu ile siralama yapariz\n",
    "print(count)\n",
    "\n",
    "print(count[20::-1])\n",
    "print(count[0:19:3])"
   ]
  },
  {
   "cell_type": "code",
   "execution_count": null,
   "metadata": {},
   "outputs": [],
   "source": []
  },
  {
   "cell_type": "markdown",
   "metadata": {},
   "source": [
    "### Tuple  (Demetler)   Degistirilemezler  "
   ]
  },
  {
   "cell_type": "code",
   "execution_count": null,
   "metadata": {},
   "outputs": [],
   "source": []
  },
  {
   "cell_type": "code",
   "execution_count": 27,
   "metadata": {},
   "outputs": [
    {
     "name": "stdout",
     "output_type": "stream",
     "text": [
      "<class 'str'>\n"
     ]
    }
   ],
   "source": [
    "firstly_tuple = (\"Love\")\n",
    "\n",
    "print(type(firstly_tuple))"
   ]
  },
  {
   "cell_type": "code",
   "execution_count": 28,
   "metadata": {},
   "outputs": [
    {
     "name": "stdout",
     "output_type": "stream",
     "text": [
      "<class 'tuple'>\n"
     ]
    }
   ],
   "source": [
    "firstly_tuple = (\"Love\",)  # tek kelimelik bir satiri tupple olarak nitelendirmek icin virgul kullaniriz\n",
    "\n",
    "print(type(firstly_tuple))"
   ]
  },
  {
   "cell_type": "code",
   "execution_count": 29,
   "metadata": {},
   "outputs": [
    {
     "name": "stdout",
     "output_type": "stream",
     "text": [
      "<class 'str'>\n"
     ]
    }
   ],
   "source": [
    "print(type(str(firstly_tuple)))"
   ]
  },
  {
   "cell_type": "code",
   "execution_count": 36,
   "metadata": {
    "scrolled": true
   },
   "outputs": [
    {
     "name": "stdout",
     "output_type": "stream",
     "text": [
      "<class 'tuple'>\n"
     ]
    },
    {
     "ename": "TypeError",
     "evalue": "count() takes exactly one argument (0 given)",
     "output_type": "error",
     "traceback": [
      "\u001b[1;31m---------------------------------------------------------------------------\u001b[0m",
      "\u001b[1;31mTypeError\u001b[0m                                 Traceback (most recent call last)",
      "\u001b[1;32m<ipython-input-36-2b953df9185f>\u001b[0m in \u001b[0;36m<module>\u001b[1;34m\u001b[0m\n\u001b[0;32m      2\u001b[0m \u001b[0mprint\u001b[0m\u001b[1;33m(\u001b[0m\u001b[0mtype\u001b[0m\u001b[1;33m(\u001b[0m\u001b[0mplanets\u001b[0m\u001b[1;33m)\u001b[0m\u001b[1;33m)\u001b[0m\u001b[1;33m\u001b[0m\u001b[1;33m\u001b[0m\u001b[0m\n\u001b[0;32m      3\u001b[0m \u001b[1;33m\u001b[0m\u001b[0m\n\u001b[1;32m----> 4\u001b[1;33m \u001b[0mplanets\u001b[0m\u001b[1;33m.\u001b[0m\u001b[0mcount\u001b[0m\u001b[1;33m(\u001b[0m\u001b[1;33m)\u001b[0m\u001b[1;33m\u001b[0m\u001b[1;33m\u001b[0m\u001b[0m\n\u001b[0m\u001b[0;32m      5\u001b[0m \u001b[0mprint\u001b[0m\u001b[1;33m(\u001b[0m\u001b[0mplanets\u001b[0m\u001b[1;33m)\u001b[0m\u001b[1;33m\u001b[0m\u001b[1;33m\u001b[0m\u001b[0m\n",
      "\u001b[1;31mTypeError\u001b[0m: count() takes exactly one argument (0 given)"
     ]
    }
   ],
   "source": [
    "planets = (\"mercury\",\"Jupiter\",\"starun\")\n",
    "print(type(planets))\n",
    "\n",
    "planets.count()\n",
    "print(planets)"
   ]
  },
  {
   "cell_type": "code",
   "execution_count": 31,
   "metadata": {},
   "outputs": [
    {
     "name": "stdout",
     "output_type": "stream",
     "text": [
      "Erciyes\n"
     ]
    }
   ],
   "source": [
    "mountain = (\"Erciyes\")\n",
    "print(mountain)"
   ]
  },
  {
   "cell_type": "code",
   "execution_count": 32,
   "metadata": {},
   "outputs": [
    {
     "name": "stdout",
     "output_type": "stream",
     "text": [
      "('E', 'r', 'c', 'i', 'y', 'e', 's')\n"
     ]
    }
   ],
   "source": [
    "print(tuple(mountain))  # string Tuple cevirilirse elemanlarina ayrilir"
   ]
  },
  {
   "cell_type": "code",
   "execution_count": 41,
   "metadata": {},
   "outputs": [
    {
     "name": "stdout",
     "output_type": "stream",
     "text": [
      "['h', 'g', 'f', 'e']\n",
      "[]\n"
     ]
    }
   ],
   "source": [
    "letters = ['a', 'b', 'c', 'd', 'e', 'f', 'g', 'h', 'i', 'j']\n",
    "\n",
    "print(letters[7:3:-1])\n",
    "print(letters[2:6:-1])  "
   ]
  },
  {
   "cell_type": "code",
   "execution_count": null,
   "metadata": {},
   "outputs": [],
   "source": []
  },
  {
   "cell_type": "code",
   "execution_count": 39,
   "metadata": {},
   "outputs": [
    {
     "data": {
      "text/plain": [
       "['a', 'b', 'c', 'd', 'e', 'f', 'g', 'h', 'i', 'j']"
      ]
     },
     "execution_count": 39,
     "metadata": {},
     "output_type": "execute_result"
    }
   ],
   "source": [
    "harfler = \"a b c d e f g h i j\".split()  #\n",
    "harfler"
   ]
  },
  {
   "cell_type": "code",
   "execution_count": 43,
   "metadata": {},
   "outputs": [
    {
     "data": {
      "text/plain": [
       "['a', 'b', 'c', 'd']"
      ]
     },
     "execution_count": 43,
     "metadata": {},
     "output_type": "execute_result"
    }
   ],
   "source": [
    "\"a-b-c-d\".split(\"-\")"
   ]
  },
  {
   "cell_type": "code",
   "execution_count": 46,
   "metadata": {
    "scrolled": true
   },
   "outputs": [
    {
     "data": {
      "text/plain": [
       "['ahmet', 'ceylan', 'mehmet', 'seyhan']"
      ]
     },
     "execution_count": 46,
     "metadata": {},
     "output_type": "execute_result"
    }
   ],
   "source": [
    "sorted([\"ahmet\",\"mehmet\",\"ceylan\",\"seyhan\"])  # degiskeni siralar"
   ]
  },
  {
   "cell_type": "code",
   "execution_count": 48,
   "metadata": {},
   "outputs": [
    {
     "ename": "NameError",
     "evalue": "name 'isimler' is not defined",
     "output_type": "error",
     "traceback": [
      "\u001b[1;31m---------------------------------------------------------------------------\u001b[0m",
      "\u001b[1;31mNameError\u001b[0m                                 Traceback (most recent call last)",
      "\u001b[1;32m<ipython-input-48-997539174b69>\u001b[0m in \u001b[0;36m<module>\u001b[1;34m\u001b[0m\n\u001b[1;32m----> 1\u001b[1;33m \u001b[0msorted_isimler\u001b[0m \u001b[1;33m=\u001b[0m \u001b[0msorted\u001b[0m\u001b[1;33m(\u001b[0m\u001b[0misimler\u001b[0m\u001b[1;33m)\u001b[0m\u001b[1;33m\u001b[0m\u001b[1;33m\u001b[0m\u001b[0m\n\u001b[0m\u001b[0;32m      2\u001b[0m \u001b[0msorted_isimler\u001b[0m\u001b[1;33m\u001b[0m\u001b[1;33m\u001b[0m\u001b[0m\n",
      "\u001b[1;31mNameError\u001b[0m: name 'isimler' is not defined"
     ]
    }
   ],
   "source": [
    "sorted_isimler = sorted(isimler)\n",
    "sorted_isimler"
   ]
  },
  {
   "cell_type": "code",
   "execution_count": 50,
   "metadata": {},
   "outputs": [
    {
     "data": {
      "text/plain": [
       "('ahmet', 'mehmet', 'ceylan', 'seyhan')"
      ]
     },
     "execution_count": 50,
     "metadata": {},
     "output_type": "execute_result"
    }
   ],
   "source": [
    "isimler = \"ahmet\",\"mehmet\",\"ceylan\",\"seyhan\" \n",
    "isimler"
   ]
  },
  {
   "cell_type": "code",
   "execution_count": 2,
   "metadata": {},
   "outputs": [],
   "source": [
    "sehirler = [\"tokyo\",\"addis ababa\",\"rio\",\"rome\",\"istanbul\"]\n"
   ]
  },
  {
   "cell_type": "code",
   "execution_count": 7,
   "metadata": {},
   "outputs": [
    {
     "data": {
      "text/plain": [
       "['addis ababa', 'istanbul', 'rio', 'rome', 'tokyo']"
      ]
     },
     "execution_count": 7,
     "metadata": {},
     "output_type": "execute_result"
    }
   ],
   "source": [
    "sorted(sehirler)"
   ]
  },
  {
   "cell_type": "code",
   "execution_count": 8,
   "metadata": {},
   "outputs": [
    {
     "data": {
      "text/plain": [
       "['addis ababa', 'istanbul', 'tokyo', 'rome', 'rio']"
      ]
     },
     "execution_count": 8,
     "metadata": {},
     "output_type": "execute_result"
    }
   ],
   "source": [
    "  sorted(sehirler,key=len,reverse =True)  # key parametresi ile \n",
    "                                    # nasil siralamak istedigimizi belirtiyoruz \n",
    "                                        #reverse ile "
   ]
  },
  {
   "cell_type": "code",
   "execution_count": 9,
   "metadata": {},
   "outputs": [
    {
     "data": {
      "text/plain": [
       "['rio', 'rome', 'tokyo', 'istanbul', 'addis ababa']"
      ]
     },
     "execution_count": 9,
     "metadata": {},
     "output_type": "execute_result"
    }
   ],
   "source": [
    "  sorted(sehirler,key=len)"
   ]
  },
  {
   "cell_type": "code",
   "execution_count": 13,
   "metadata": {},
   "outputs": [
    {
     "name": "stdout",
     "output_type": "stream",
     "text": [
      "['addis ababa', 'istanbul', 'rio', 'rome', 'tokyo']\n"
     ]
    }
   ],
   "source": [
    "sehirler.sort()\n",
    "print(sehirler)\n"
   ]
  },
  {
   "cell_type": "code",
   "execution_count": 15,
   "metadata": {},
   "outputs": [
    {
     "name": "stdout",
     "output_type": "stream",
     "text": [
      "['addis ababa', 'istanbul', 'rio', 'rome', 'tokyo']\n"
     ]
    }
   ],
   "source": [
    "sorted(sehirler)\n",
    "print(sehirler)"
   ]
  },
  {
   "cell_type": "code",
   "execution_count": null,
   "metadata": {},
   "outputs": [],
   "source": [
    "import sys"
   ]
  },
  {
   "cell_type": "code",
   "execution_count": 3,
   "metadata": {},
   "outputs": [],
   "source": [
    "x = [1,2,3]\n",
    "y = (1,2,3)"
   ]
  },
  {
   "cell_type": "code",
   "execution_count": 4,
   "metadata": {},
   "outputs": [
    {
     "ename": "NameError",
     "evalue": "name 'sys' is not defined",
     "output_type": "error",
     "traceback": [
      "\u001b[1;31m---------------------------------------------------------------------------\u001b[0m",
      "\u001b[1;31mNameError\u001b[0m                                 Traceback (most recent call last)",
      "\u001b[1;32m<ipython-input-4-a4885504b14a>\u001b[0m in \u001b[0;36m<module>\u001b[1;34m\u001b[0m\n\u001b[1;32m----> 1\u001b[1;33m \u001b[0mprint\u001b[0m\u001b[1;33m(\u001b[0m\u001b[0msys\u001b[0m\u001b[1;33m.\u001b[0m\u001b[0mgetsizeof\u001b[0m\u001b[1;33m(\u001b[0m\u001b[0mx\u001b[0m\u001b[1;33m)\u001b[0m\u001b[1;33m)\u001b[0m\u001b[1;33m\u001b[0m\u001b[1;33m\u001b[0m\u001b[0m\n\u001b[0m\u001b[0;32m      2\u001b[0m \u001b[0mprint\u001b[0m\u001b[1;33m(\u001b[0m\u001b[0msys\u001b[0m\u001b[1;33m.\u001b[0m\u001b[0mgetsizeof\u001b[0m\u001b[1;33m(\u001b[0m\u001b[0my\u001b[0m\u001b[1;33m)\u001b[0m\u001b[1;33m)\u001b[0m\u001b[1;33m\u001b[0m\u001b[1;33m\u001b[0m\u001b[0m\n",
      "\u001b[1;31mNameError\u001b[0m: name 'sys' is not defined"
     ]
    }
   ],
   "source": [
    "print(sys.getsizeof(x))\n",
    "print(sys.getsizeof(y))"
   ]
  },
  {
   "cell_type": "code",
   "execution_count": 8,
   "metadata": {},
   "outputs": [
    {
     "name": "stdout",
     "output_type": "stream",
     "text": [
      "('a', 'b', 'c')\n"
     ]
    }
   ],
   "source": [
    "benim = [\"a\",\"b\",\"c\"]\n",
    "print(tuple(benim))"
   ]
  },
  {
   "cell_type": "code",
   "execution_count": 9,
   "metadata": {},
   "outputs": [
    {
     "data": {
      "text/plain": [
       "('a', 'b', 'c')"
      ]
     },
     "execution_count": 9,
     "metadata": {},
     "output_type": "execute_result"
    }
   ],
   "source": [
    "aa = \"a\",\"b\",\"c\"   # parantezi koysak da koymasak da parantezli gibi algiliyor\n",
    "aa\n"
   ]
  },
  {
   "cell_type": "code",
   "execution_count": 10,
   "metadata": {},
   "outputs": [
    {
     "data": {
      "text/plain": [
       "tuple"
      ]
     },
     "execution_count": 10,
     "metadata": {},
     "output_type": "execute_result"
    }
   ],
   "source": [
    "type(aa)"
   ]
  },
  {
   "cell_type": "code",
   "execution_count": 12,
   "metadata": {},
   "outputs": [
    {
     "name": "stdout",
     "output_type": "stream",
     "text": [
      "(1, 2, 3, 4, 5, 6, 7, 8, 9, 10)\n"
     ]
    }
   ],
   "source": [
    "number = tuple(range(1,11))\n",
    "print(number)\n",
    "type()"
   ]
  },
  {
   "cell_type": "code",
   "execution_count": 15,
   "metadata": {},
   "outputs": [
    {
     "name": "stdout",
     "output_type": "stream",
     "text": [
      "[]\n"
     ]
    }
   ],
   "source": [
    "print(False or {0} and [])"
   ]
  },
  {
   "cell_type": "code",
   "execution_count": 19,
   "metadata": {},
   "outputs": [
    {
     "name": "stdout",
     "output_type": "stream",
     "text": [
      "The less you sleep and eat, the better your life will be.\n"
     ]
    }
   ],
   "source": [
    "var1 = \"sleep\"\n",
    "var2 = \"eat\"\n",
    "var3 = \"better\"\n",
    "var4 = \"life\"\n",
    "sentence = f\"The less you {var1} and {var2}, the {var3} your {var4} will be.\"\n",
    "print(sentence)"
   ]
  },
  {
   "cell_type": "code",
   "execution_count": 9,
   "metadata": {},
   "outputs": [
    {
     "name": "stdout",
     "output_type": "stream",
     "text": [
      "I live in Sarajevo.\n"
     ]
    }
   ],
   "source": [
    "city = \"SARAJEVO\"\n",
    "text = f\"I live in {city.capitalize()}.\"\n",
    "print(text)"
   ]
  },
  {
   "cell_type": "code",
   "execution_count": 10,
   "metadata": {},
   "outputs": [
    {
     "name": "stdout",
     "output_type": "stream",
     "text": [
      "Hello\\tfrom AskPython\\nHi\n"
     ]
    }
   ],
   "source": [
    "s = r\"Hello\\tfrom AskPython\\nHi\"  # raw string kacis dizinini kullanma demek\n",
    "print(s)"
   ]
  },
  {
   "cell_type": "code",
   "execution_count": 11,
   "metadata": {},
   "outputs": [
    {
     "name": "stdout",
     "output_type": "stream",
     "text": [
      "newline\n"
     ]
    }
   ],
   "source": [
    "print(\"new\" \"line\")"
   ]
  },
  {
   "cell_type": "code",
   "execution_count": 12,
   "metadata": {},
   "outputs": [
    {
     "ename": "SyntaxError",
     "evalue": "invalid syntax (<ipython-input-12-693762d2e4e6>, line 1)",
     "output_type": "error",
     "traceback": [
      "\u001b[1;36m  File \u001b[1;32m\"<ipython-input-12-693762d2e4e6>\"\u001b[1;36m, line \u001b[1;32m1\u001b[0m\n\u001b[1;33m    print(\"new\" \"line\" \"end\" 3)\u001b[0m\n\u001b[1;37m                             ^\u001b[0m\n\u001b[1;31mSyntaxError\u001b[0m\u001b[1;31m:\u001b[0m invalid syntax\n"
     ]
    }
   ],
   "source": [
    "print(\"new\" \"line\" \"end\" 3)"
   ]
  },
  {
   "cell_type": "code",
   "execution_count": 13,
   "metadata": {},
   "outputs": [
    {
     "name": "stdout",
     "output_type": "stream",
     "text": [
      "newlineend 3\n"
     ]
    }
   ],
   "source": [
    "print(\"new\" \"line\" \"end\", 3)"
   ]
  },
  {
   "cell_type": "code",
   "execution_count": 2,
   "metadata": {},
   "outputs": [
    {
     "name": "stdout",
     "output_type": "stream",
     "text": [
      "{1: 'one', 'two': 2, False: [1, 2, 3], 1.5: ('one', 'two')}\n"
     ]
    }
   ],
   "source": [
    "first_dict = {1 : \"one\", \"two\" : 2, False : [1,2,3], 1.5 : (\"one\",\"two\")} \n",
    "print(first_dict)          "
   ]
  },
  {
   "cell_type": "code",
   "execution_count": 3,
   "metadata": {},
   "outputs": [
    {
     "name": "stdout",
     "output_type": "stream",
     "text": [
      "{1: 'one', 'two': 2, False: [1, 2, 3], 1.5: ('one', 'two'), (1, 2): 'clrswy'}\n"
     ]
    }
   ],
   "source": [
    "first_dict = {1 : \"one\", \"two\" : 2, False : [1,2,3], 1.5 : (\"one\",\"two\"),(1,2) : \"clrswy\"} \n",
    "print(first_dict)       "
   ]
  },
  {
   "cell_type": "code",
   "execution_count": 4,
   "metadata": {},
   "outputs": [
    {
     "ename": "TypeError",
     "evalue": "unhashable type: 'list'",
     "output_type": "error",
     "traceback": [
      "\u001b[1;31m---------------------------------------------------------------------------\u001b[0m",
      "\u001b[1;31mTypeError\u001b[0m                                 Traceback (most recent call last)",
      "\u001b[1;32m<ipython-input-4-30c3d8e0231b>\u001b[0m in \u001b[0;36m<module>\u001b[1;34m\u001b[0m\n\u001b[1;32m----> 1\u001b[1;33m \u001b[0mfirst_dict\u001b[0m \u001b[1;33m=\u001b[0m \u001b[1;33m{\u001b[0m\u001b[1;33m[\u001b[0m\u001b[1;36m1\u001b[0m\u001b[1;33m,\u001b[0m\u001b[1;36m2\u001b[0m\u001b[1;33m]\u001b[0m \u001b[1;33m:\u001b[0m \u001b[1;34m\"one\"\u001b[0m\u001b[1;33m,\u001b[0m \u001b[1;34m\"two\"\u001b[0m \u001b[1;33m:\u001b[0m \u001b[1;36m2\u001b[0m\u001b[1;33m,\u001b[0m \u001b[1;32mFalse\u001b[0m \u001b[1;33m:\u001b[0m \u001b[1;33m[\u001b[0m\u001b[1;36m1\u001b[0m\u001b[1;33m,\u001b[0m\u001b[1;36m2\u001b[0m\u001b[1;33m,\u001b[0m\u001b[1;36m3\u001b[0m\u001b[1;33m]\u001b[0m\u001b[1;33m,\u001b[0m \u001b[1;36m1.5\u001b[0m \u001b[1;33m:\u001b[0m \u001b[1;33m(\u001b[0m\u001b[1;34m\"one\"\u001b[0m\u001b[1;33m,\u001b[0m\u001b[1;34m\"two\"\u001b[0m\u001b[1;33m)\u001b[0m\u001b[1;33m}\u001b[0m\u001b[1;33m\u001b[0m\u001b[1;33m\u001b[0m\u001b[0m\n\u001b[0m\u001b[0;32m      2\u001b[0m \u001b[0mprint\u001b[0m\u001b[1;33m(\u001b[0m\u001b[0mfirst_dict\u001b[0m\u001b[1;33m)\u001b[0m\u001b[1;33m\u001b[0m\u001b[1;33m\u001b[0m\u001b[0m\n",
      "\u001b[1;31mTypeError\u001b[0m: unhashable type: 'list'"
     ]
    }
   ],
   "source": [
    "first_dict = {[1,2] : \"one\", \"two\" : 2, False : [1,2,3], 1.5 : (\"one\",\"two\")} \n",
    "print(first_dict)       "
   ]
  },
  {
   "cell_type": "code",
   "execution_count": 5,
   "metadata": {},
   "outputs": [
    {
     "ename": "TypeError",
     "evalue": "unhashable type: 'dict'",
     "output_type": "error",
     "traceback": [
      "\u001b[1;31m---------------------------------------------------------------------------\u001b[0m",
      "\u001b[1;31mTypeError\u001b[0m                                 Traceback (most recent call last)",
      "\u001b[1;32m<ipython-input-5-8765e5cd04e4>\u001b[0m in \u001b[0;36m<module>\u001b[1;34m\u001b[0m\n\u001b[1;32m----> 1\u001b[1;33m \u001b[0msecond_dict\u001b[0m \u001b[1;33m=\u001b[0m \u001b[1;33m{\u001b[0m\u001b[1;33m{\u001b[0m\u001b[1;36m1\u001b[0m \u001b[1;33m:\u001b[0m \u001b[1;34m\"bir\"\u001b[0m\u001b[1;33m}\u001b[0m \u001b[1;33m:\u001b[0m \u001b[1;34m\"one\"\u001b[0m\u001b[1;33m,\u001b[0m \u001b[1;34m\"two\"\u001b[0m \u001b[1;33m:\u001b[0m \u001b[1;36m2\u001b[0m\u001b[1;33m}\u001b[0m\u001b[1;33m\u001b[0m\u001b[1;33m\u001b[0m\u001b[0m\n\u001b[0m\u001b[0;32m      2\u001b[0m \u001b[0msecond_dict\u001b[0m\u001b[1;33m\u001b[0m\u001b[1;33m\u001b[0m\u001b[0m\n",
      "\u001b[1;31mTypeError\u001b[0m: unhashable type: 'dict'"
     ]
    }
   ],
   "source": [
    "second_dict = {{1 : \"bir\"} : \"one\", \"two\" : 2}\n",
    "second_dict"
   ]
  },
  {
   "cell_type": "code",
   "execution_count": null,
   "metadata": {},
   "outputs": [],
   "source": [
    " xx = dict(bir = \"one\", iki = \"two\")"
   ]
  },
  {
   "cell_type": "code",
   "execution_count": null,
   "metadata": {},
   "outputs": [],
   "source": [
    "sehir = \"istanbul\"\n",
    "sehir1 = \"ankara\"\n",
    "nufys = 1000\n",
    "\n"
   ]
  },
  {
   "cell_type": "code",
   "execution_count": 6,
   "metadata": {},
   "outputs": [
    {
     "name": "stdout",
     "output_type": "stream",
     "text": [
      "{'name1': 'Akif', 'name2': 'Orhan', 'namé3': 'Bengisu'}\n"
     ]
    }
   ],
   "source": [
    "family = {\"name1\" : \"Akif\",\n",
    "          \"name2\" : \"Orhan\",\n",
    "          \"namé3\" : \"Bengisu\"}\n",
    "\n",
    "print(family)"
   ]
  },
  {
   "cell_type": "code",
   "execution_count": 8,
   "metadata": {},
   "outputs": [
    {
     "name": "stdout",
     "output_type": "stream",
     "text": [
      "{'name1': 'Akif', 'name2': 'Orhan', 'namé3': 'Bengisu', 'name': 'Ali'}\n"
     ]
    }
   ],
   "source": [
    "family = {\"name1\" : \"Akif\",\n",
    "          \"name2\" : \"Orhan\",\n",
    "          \"namé3\" : \"Bengisu\"}\n",
    "\n",
    "family[\"name\"] = \"Ali\"\n",
    "\n",
    "print(family)"
   ]
  },
  {
   "cell_type": "code",
   "execution_count": 10,
   "metadata": {},
   "outputs": [
    {
     "ename": "SyntaxError",
     "evalue": "cannot assign to literal (<ipython-input-10-f4bd8cd3be65>, line 5)",
     "output_type": "error",
     "traceback": [
      "\u001b[1;36m  File \u001b[1;32m\"<ipython-input-10-f4bd8cd3be65>\"\u001b[1;36m, line \u001b[1;32m5\u001b[0m\n\u001b[1;33m    family[\"name4\"],[\"name5\"] = \"Ali\" ,\"Selim\"\u001b[0m\n\u001b[1;37m    ^\u001b[0m\n\u001b[1;31mSyntaxError\u001b[0m\u001b[1;31m:\u001b[0m cannot assign to literal\n"
     ]
    }
   ],
   "source": [
    "family = {\"name1\" : \"Akif\",\n",
    "          \"name2\" : \"Orhan\",\n",
    "          \"namé3\" : \"Bengisu\"}\n",
    "\n",
    "family[\"name4\"],[\"name5\"] = \"Ali\" ,\"Selim\"  # bir esittir ile bir taANE EKLENIR\n",
    "\n",
    "print(family)"
   ]
  },
  {
   "cell_type": "code",
   "execution_count": 12,
   "metadata": {},
   "outputs": [
    {
     "data": {
      "text/plain": [
       "{'name1': 'ramiz', 'name2': 'Ahmet', 'name3': 'Serkn'}"
      ]
     },
     "execution_count": 12,
     "metadata": {},
     "output_type": "execute_result"
    }
   ],
   "source": [
    "family = dict(name1 = \"ramiz\", name2 = \"Ahmet\", name3 = \"Serkn\")\n",
    "family"
   ]
  },
  {
   "cell_type": "code",
   "execution_count": 18,
   "metadata": {},
   "outputs": [
    {
     "name": "stdout",
     "output_type": "stream",
     "text": [
      "[('name1', 'Akif'), ('name2', 'Orhan'), ('namé3', 'Bengisu')] \n",
      "\n",
      "['name1', 'name2', 'namé3'] \n",
      "\n",
      "['Akif', 'Orhan', 'Bengisu'] \n",
      "\n"
     ]
    }
   ],
   "source": [
    "family = {\"name1\" : \"Akif\",\n",
    "          \"name2\" : \"Orhan\",\n",
    "          \"namé3\" : \"Bengisu\"}\n",
    "\n",
    "print(list(family.items()),\"\\n\")\n",
    "print(list(family.keys()),\"\\n\")\n",
    "print(list(family.values()),\"\\n\")"
   ]
  },
  {
   "cell_type": "code",
   "execution_count": 20,
   "metadata": {},
   "outputs": [
    {
     "data": {
      "text/plain": [
       "{'name1': 'Akif', 'name2': 'Orhan', 'namé3': 'Bengisu', 'a': 1, 'b': 2}"
      ]
     },
     "execution_count": 20,
     "metadata": {},
     "output_type": "execute_result"
    }
   ],
   "source": [
    "family.update({\"a\" : 1, \"b\" : 2})  #  birden fazla ekleme yaptik\n",
    "family"
   ]
  },
  {
   "cell_type": "code",
   "execution_count": 36,
   "metadata": {},
   "outputs": [
    {
     "data": {
      "text/plain": [
       "{'name1': 'Akif', 'name2': 'Orhan', 'namé3': 'Bengisu', 'name4': 'Alp'}"
      ]
     },
     "execution_count": 36,
     "metadata": {},
     "output_type": "execute_result"
    }
   ],
   "source": [
    "family = {\"name1\" : \"Akif\",\n",
    "          \"name2\" : \"Orhan\",\n",
    "          \"namé3\" : \"Bengisu\"}\n",
    "\n",
    "family.update ({\"name4\" : \"Alp\"})\n",
    "family"
   ]
  },
  {
   "cell_type": "markdown",
   "metadata": {},
   "source": []
  },
  {
   "cell_type": "code",
   "execution_count": 35,
   "metadata": {},
   "outputs": [
    {
     "data": {
      "text/plain": [
       "{'name1': 'Akif', 'namé3': 'Bengisu'}"
      ]
     },
     "execution_count": 35,
     "metadata": {},
     "output_type": "execute_result"
    }
   ],
   "source": [
    "family = {\"name1\" : \"Akif\",\n",
    "          \"name2\" : \"Orhan\",\n",
    "          \"namé3\" : \"Bengisu\"}\n",
    "\n",
    "del family[\"name2\"] \n",
    "family"
   ]
  },
  {
   "cell_type": "code",
   "execution_count": 34,
   "metadata": {},
   "outputs": [
    {
     "name": "stdout",
     "output_type": "stream",
     "text": [
      "{'namé3': 'Bengisu'}\n"
     ]
    }
   ],
   "source": [
    "family = {\"name1\" : \"Akif\",\n",
    "          \"name2\" : \"Orhan\",\n",
    "          \"namé3\" : \"Bengisu\"}\n",
    "\n",
    "del family[\"name1\"], family[\"name2\"]  # ayni anda ikisini sildik \n",
    "print(family)"
   ]
  },
  {
   "cell_type": "code",
   "execution_count": 33,
   "metadata": {
    "scrolled": false
   },
   "outputs": [
    {
     "ename": "SyntaxError",
     "evalue": "invalid syntax (<ipython-input-33-90900fa399b1>, line 1)",
     "output_type": "error",
     "traceback": [
      "\u001b[1;36m  File \u001b[1;32m\"<ipython-input-33-90900fa399b1>\"\u001b[1;36m, line \u001b[1;32m1\u001b[0m\n\u001b[1;33m    del.family()\u001b[0m\n\u001b[1;37m       ^\u001b[0m\n\u001b[1;31mSyntaxError\u001b[0m\u001b[1;31m:\u001b[0m invalid syntax\n"
     ]
    }
   ],
   "source": [
    "del.family()\n",
    "family"
   ]
  },
  {
   "cell_type": "code",
   "execution_count": 44,
   "metadata": {},
   "outputs": [
    {
     "data": {
      "text/plain": [
       "True"
      ]
     },
     "execution_count": 44,
     "metadata": {},
     "output_type": "execute_result"
    }
   ],
   "source": [
    "family = {\"name1\" : \"Akif\",\n",
    "          \"name2\" : \"Orhan\",\n",
    "          \"namé3\" : \"Bengisu\"}\n",
    "\n",
    "\"name1\" in family"
   ]
  },
  {
   "cell_type": "code",
   "execution_count": 43,
   "metadata": {},
   "outputs": [
    {
     "data": {
      "text/plain": [
       "False"
      ]
     },
     "execution_count": 43,
     "metadata": {},
     "output_type": "execute_result"
    }
   ],
   "source": [
    "\"ahmet\" in family"
   ]
  },
  {
   "cell_type": "code",
   "execution_count": 38,
   "metadata": {},
   "outputs": [
    {
     "data": {
      "text/plain": [
       "True"
      ]
     },
     "execution_count": 38,
     "metadata": {},
     "output_type": "execute_result"
    }
   ],
   "source": [
    "\"name5\" not in family"
   ]
  },
  {
   "cell_type": "code",
   "execution_count": 39,
   "metadata": {},
   "outputs": [
    {
     "data": {
      "text/plain": [
       "True"
      ]
     },
     "execution_count": 39,
     "metadata": {},
     "output_type": "execute_result"
    }
   ],
   "source": [
    "\"bir\" in [\"bir\", \"iki\",\"uc\",\"dört\"]"
   ]
  },
  {
   "cell_type": "code",
   "execution_count": null,
   "metadata": {},
   "outputs": [],
   "source": [
    "\"bell\""
   ]
  },
  {
   "cell_type": "code",
   "execution_count": 45,
   "metadata": {},
   "outputs": [],
   "source": [
    "school_records={\n",
    "    \"personal_info\":\n",
    "        {\"kid\":{\"tom\": {\"class\": \"intermediate\", \"age\": 10},\n",
    "                \"sue\": {\"class\": \"elementary\", \"age\": 8}\n",
    "               },\n",
    "         \"teen\":{\"joseph\":{\"class\": \"college\", \"age\": 19},\n",
    "                 \"marry\":{\"class\": \"high school\", \"age\": 16}\n",
    "               },               \n",
    "        },\n",
    "    \"grades_info\":\n",
    "        {\"kid\":{\"tom\": {\"math\": 88, \"speech\": 69},\n",
    "                \"sue\": {\"math\": 90, \"speech\": 81}\n",
    "               },\n",
    "         \"teen\":{\"joseph\":{\"coding\": 80, \"math\": 89},\n",
    "                 \"marry\":{\"coding\": 70, \"math\": 96}\n",
    "               },               \n",
    "        },        \n",
    "}"
   ]
  },
  {
   "cell_type": "code",
   "execution_count": 1,
   "metadata": {},
   "outputs": [
    {
     "ename": "NameError",
     "evalue": "name 'school_records' is not defined",
     "output_type": "error",
     "traceback": [
      "\u001b[1;31m---------------------------------------------------------------------------\u001b[0m",
      "\u001b[1;31mNameError\u001b[0m                                 Traceback (most recent call last)",
      "\u001b[1;32m<ipython-input-1-f50d69438a9f>\u001b[0m in \u001b[0;36m<module>\u001b[1;34m\u001b[0m\n\u001b[1;32m----> 1\u001b[1;33m \u001b[0mprint\u001b[0m\u001b[1;33m(\u001b[0m\u001b[0mschool_records\u001b[0m\u001b[1;33m[\u001b[0m\u001b[1;34m\"grades_info\"\u001b[0m\u001b[1;33m]\u001b[0m\u001b[1;33m[\u001b[0m\u001b[1;34m\"teen\"\u001b[0m\u001b[1;33m]\u001b[0m\u001b[1;33m[\u001b[0m\u001b[1;34m\"Joseph\"\u001b[0m\u001b[1;33m]\u001b[0m\u001b[1;33m[\u001b[0m\u001b[1;34m\"class\"\u001b[0m\u001b[1;33m]\u001b[0m\u001b[1;33m)\u001b[0m\u001b[1;33m\u001b[0m\u001b[1;33m\u001b[0m\u001b[0m\n\u001b[0m",
      "\u001b[1;31mNameError\u001b[0m: name 'school_records' is not defined"
     ]
    }
   ],
   "source": [
    "print(school_records[\"grades_info\"][\"teen\"][\"Joseph\"][\"class\"])"
   ]
  },
  {
   "cell_type": "code",
   "execution_count": 8,
   "metadata": {},
   "outputs": [
    {
     "name": "stdout",
     "output_type": "stream",
     "text": [
      "{'friends1': {'First_name': 'Akif', 'last_name': 'Kyr'}, 'friends2': {'First_name': 'Orh', 'last_name': 'Kyr'}, 'friends3': {'First_name': 'Zeki', 'last_name': 'Tas'}, 'friends4': {'First_name': 'Nihl', 'last_name': 'Tas'}}\n"
     ]
    }
   ],
   "source": [
    "friends = {\n",
    "     \"friends1\" : {\"First_name\" : \"Akif\" , \"last_name\" : \"Kyr\"},\n",
    "     \"friends2\" : {\"First_name\" : \"Orh\" , \"last_name\" : \"Kyr\"},\n",
    "     \"friends3\"  : {\"First_name\" : \"Zeki\" , \"last_name\" : \"Tas\"},\n",
    "     \"friends4\" : {\"First_name\" : \"Nihl\" , \"last_name\" : \"Tas\"}\n",
    "        }\n",
    "print(friends)"
   ]
  },
  {
   "cell_type": "code",
   "execution_count": 10,
   "metadata": {},
   "outputs": [
    {
     "name": "stdout",
     "output_type": "stream",
     "text": [
      "{'friends': {'friends1': {'First_name': 'Akif', 'last_name': 'Kyr'}, 'friends2': {'First_name': 'Orh', 'last_name': 'Kyr'}, 'friends3': {'First_name': 'Zeki', 'last_name': 'Tas'}}, 'family': {'family1': {'First_name': 'Ser', 'last_name': 'Kyr'}, 'family2': {'First_name': 'Orh', 'last_name': 'Kyr'}, 'family3': {'First_name': 'Zeki', 'last_name': 'Tas'}}}\n"
     ]
    }
   ],
   "source": [
    "favorite = {\n",
    "\n",
    "\"friends\" : {\n",
    "     \"friends1\" : {\"First_name\" : \"Akif\", \"last_name\" : \"Kyr\"},\n",
    "     \"friends2\" : {\"First_name\" : \"Orh\", \"last_name\" : \"Kyr\"},\n",
    "     \"friends3\"  : {\"First_name\" : \"Zeki\", \"last_name\" : \"Tas\"}\n",
    "        },\n",
    "    \"family\" : {\n",
    "     \"family1\" : {\"First_name\" : \"Ser\" , \"last_name\" : \"Kyr\"},\n",
    "     \"family2\" : {\"First_name\" : \"Orh\" , \"last_name\" : \"Kyr\"},\n",
    "     \"family3\"  : {\"First_name\" : \"Zeki\" , \"last_name\" : \"Tas\"},\n",
    "    }\n",
    "    }\n",
    "    \n",
    "print(favorite)\n",
    "    \n",
    "    "
   ]
  },
  {
   "cell_type": "code",
   "execution_count": 11,
   "metadata": {},
   "outputs": [
    {
     "ename": "SyntaxError",
     "evalue": "invalid syntax (<ipython-input-11-a04ade942223>, line 1)",
     "output_type": "error",
     "traceback": [
      "\u001b[1;36m  File \u001b[1;32m\"<ipython-input-11-a04ade942223>\"\u001b[1;36m, line \u001b[1;32m1\u001b[0m\n\u001b[1;33m    C8270 - Emir  2 hours ago\u001b[0m\n\u001b[1;37m                  ^\u001b[0m\n\u001b[1;31mSyntaxError\u001b[0m\u001b[1;31m:\u001b[0m invalid syntax\n"
     ]
    }
   ],
   "source": [
    "\n",
    "C8270 - Emir  2 hours ago\n",
    "favourite = {\n",
    "\"friends\" : {\n",
    "    \"friend1\": {\"first\": \"sue\", \"last\": \"bold\"},\n",
    "    \"friends2\": {\"firs\": \"steve\", \"last\": \"smith\"},\n",
    "    \"friends3\": {\"firs\": \"joseph\", \"last\": \"hoca\"}\n",
    "},\n",
    "\"family\" : {\n",
    "    \"family1\": {\"first\": \"dede\", \"last\": \"çelik\"},\n",
    "    \"family2\": {\"firs\": \"baba\", \"last\": \"büyük\"},\n",
    "    \"family3\": {\"firs\": \"çocuk\", \"last\": \"adam\"}\n",
    "}\n",
    "}"
   ]
  },
  {
   "cell_type": "code",
   "execution_count": 1,
   "metadata": {},
   "outputs": [
    {
     "name": "stdout",
     "output_type": "stream",
     "text": [
      "{'red', 'blue', 'pink'}\n"
     ]
    }
   ],
   "source": [
    "set_1 = {'red', 'blue', 'pink', 'red'}\n",
    "colors = 'red', 'blue', 'pink', 'red'\n",
    "\n",
    "print(set_1)"
   ]
  },
  {
   "cell_type": "code",
   "execution_count": 2,
   "metadata": {},
   "outputs": [
    {
     "name": "stdout",
     "output_type": "stream",
     "text": [
      "{'red', 'blue', 'pink'}\n",
      "{'red', 'blue', 'pink'}\n"
     ]
    }
   ],
   "source": [
    "set_1 = {'red', 'blue', 'pink', 'red'}\n",
    "colors = 'red', 'blue', 'pink', 'red'\n",
    "set_2 = set (colors)\n",
    "print(set_1)  # 2 olanlari birerkere yazdi\n",
    "print(set_2)"
   ]
  },
  {
   "cell_type": "code",
   "execution_count": 3,
   "metadata": {},
   "outputs": [
    {
     "name": "stdout",
     "output_type": "stream",
     "text": [
      "['a', 'b', 'c', 'd', 'e', 'f', 'g', 'h', 'i', 'j', 'k', 'l', 'm', 'n', 'o', 'p', 'r', 's', 't', 'u', 'v', 'y', 'z']\n"
     ]
    }
   ],
   "source": [
    "letter = \" a b c d e f g h i j k l m n o p r s t u v y z\".split()\n",
    "print(letter)"
   ]
  },
  {
   "cell_type": "code",
   "execution_count": 4,
   "metadata": {},
   "outputs": [
    {
     "name": "stdout",
     "output_type": "stream",
     "text": [
      "{'t', 'm', 'y', 'p', 'k', 'r', 'o', 'u', 'f', 's', 'a', 'c', 'v', 'b', 'n', 'd', 'e', 'h', 'l', 'j', 'i', 'g', 'z'}\n"
     ]
    }
   ],
   "source": [
    "print(set(letter))"
   ]
  },
  {
   "cell_type": "code",
   "execution_count": 3,
   "metadata": {},
   "outputs": [
    {
     "name": "stdout",
     "output_type": "stream",
     "text": [
      " d e f a b c  g h i j k l p r s t u v y z m n o \n"
     ]
    }
   ],
   "source": [
    "letter1 = \" d e f a b c  g h i j k l p r s t u v y z m n o \"\n",
    "print(letter1)"
   ]
  },
  {
   "cell_type": "code",
   "execution_count": 4,
   "metadata": {},
   "outputs": [
    {
     "name": "stdout",
     "output_type": "stream",
     "text": [
      "{'a', 'v', 'm', ' ', 'k', 'g', 'f', 'p', 'n', 'c', 'b', 'e', 's', 'j', 'o', 't', 'u', 'y', 'l', 'h', 'i', 'r', 'z', 'd'}\n"
     ]
    }
   ],
   "source": [
    "print(set(letter1))"
   ]
  },
  {
   "cell_type": "code",
   "execution_count": 5,
   "metadata": {},
   "outputs": [
    {
     "data": {
      "text/plain": [
       "2"
      ]
     },
     "execution_count": 5,
     "metadata": {},
     "output_type": "execute_result"
    }
   ],
   "source": [
    "test = {1, \"bir\", 1.0}  # int 1 ile fload 1.0 ayni kabul ediyor \n",
    "len(test)"
   ]
  },
  {
   "cell_type": "code",
   "execution_count": 6,
   "metadata": {
    "scrolled": true
   },
   "outputs": [
    {
     "data": {
      "text/plain": [
       "True"
      ]
     },
     "execution_count": 6,
     "metadata": {},
     "output_type": "execute_result"
    }
   ],
   "source": [
    "1 == 1.0"
   ]
  },
  {
   "cell_type": "markdown",
   "metadata": {},
   "source": [
    "### DICT { \"KEY1\" : \"VALUE1\"      programlarda bazi degerleri cekmek icin kulla<<nilir\n",
    "            \"KEY2 \"  :\"VALUE2\"}"
   ]
  },
  {
   "cell_type": "code",
   "execution_count": 2,
   "metadata": {},
   "outputs": [
    {
     "data": {
      "text/plain": [
       "{1: 'one', 'two': 2, False: [1, 2, 3], 1.5: ('one', 'two'), (1, 2): 'clrsa'}"
      ]
     },
     "execution_count": 2,
     "metadata": {},
     "output_type": "execute_result"
    }
   ],
   "source": [
    "FIRST_DICT = {1 : \"one\", \"two\" : 2, False : [1,2,3], 1.5 : (\"one\", \"two\"), (1,2) : \"clrsa\"}  # Dict de bir cok sey kullanilibiliniyor\n",
    "FIRST_DICT"
   ]
  },
  {
   "cell_type": "code",
   "execution_count": null,
   "metadata": {},
   "outputs": [],
   "source": []
  },
  {
   "cell_type": "code",
   "execution_count": 3,
   "metadata": {},
   "outputs": [
    {
     "ename": "TypeError",
     "evalue": "unhashable type: 'dict'",
     "output_type": "error",
     "traceback": [
      "\u001b[1;31m---------------------------------------------------------------------------\u001b[0m",
      "\u001b[1;31mTypeError\u001b[0m                                 Traceback (most recent call last)",
      "\u001b[1;32m<ipython-input-3-4f21a4de5022>\u001b[0m in \u001b[0;36m<module>\u001b[1;34m\u001b[0m\n\u001b[1;32m----> 1\u001b[1;33m \u001b[0mFIRST_DICT\u001b[0m \u001b[1;33m=\u001b[0m \u001b[1;33m{\u001b[0m\u001b[1;36m1\u001b[0m \u001b[1;33m:\u001b[0m \u001b[1;34m\"one\"\u001b[0m\u001b[1;33m,\u001b[0m \u001b[1;34m\"two\"\u001b[0m \u001b[1;33m:\u001b[0m \u001b[1;36m2\u001b[0m\u001b[1;33m,\u001b[0m \u001b[1;33m{\u001b[0m\u001b[1;36m1\u001b[0m \u001b[1;33m:\u001b[0m \u001b[1;34m\"bir\"\u001b[0m\u001b[1;33m}\u001b[0m \u001b[1;33m:\u001b[0m \u001b[1;33m{\u001b[0m\u001b[1;36m2\u001b[0m \u001b[1;33m:\u001b[0m \u001b[1;34m\"iki\"\u001b[0m\u001b[1;33m}\u001b[0m\u001b[1;33m}\u001b[0m\u001b[1;33m\u001b[0m\u001b[1;33m\u001b[0m\u001b[0m\n\u001b[0m\u001b[0;32m      2\u001b[0m \u001b[0mFIRST_DICT\u001b[0m\u001b[1;33m\u001b[0m\u001b[1;33m\u001b[0m\u001b[0m\n",
      "\u001b[1;31mTypeError\u001b[0m: unhashable type: 'dict'"
     ]
    }
   ],
   "source": [
    "FIRST_DICT = {1 : \"one\", \"two\" : 2, {1 : \"bir\"} : {2 : \"iki\"}}  # dict icersiinde KEY dic olamiyor\n",
    "FIRST_DICT"
   ]
  },
  {
   "cell_type": "code",
   "execution_count": 4,
   "metadata": {},
   "outputs": [
    {
     "name": "stdout",
     "output_type": "stream",
     "text": [
      "{'fruit': 'apple', 'drink': 'water'}\n",
      "{'fruit': 'apple', 'drink': 'water'}\n"
     ]
    }
   ],
   "source": [
    "grocer1 = {\"fruit\" : \"apple\", \"drink\" : \"water\"}\n",
    "grocer2 = dict(fruit = \"apple\", drink = \"water\")\n",
    "\n",
    "print(grocer1)\n",
    "print(grocer2)"
   ]
  },
  {
   "cell_type": "code",
   "execution_count": 5,
   "metadata": {},
   "outputs": [
    {
     "data": {
      "text/plain": [
       "{'bir': 'one', 'iki': 'two'}"
      ]
     },
     "execution_count": 5,
     "metadata": {},
     "output_type": "execute_result"
    }
   ],
   "source": [
    "xx = dict(bir = \"one\", iki = \"two\")\n",
    "xx"
   ]
  },
  {
   "cell_type": "code",
   "execution_count": 6,
   "metadata": {},
   "outputs": [
    {
     "data": {
      "text/plain": [
       "'one'"
      ]
     },
     "execution_count": 6,
     "metadata": {},
     "output_type": "execute_result"
    }
   ],
   "source": [
    "bir = \"one\"\n",
    "bir"
   ]
  },
  {
   "cell_type": "code",
   "execution_count": 7,
   "metadata": {},
   "outputs": [
    {
     "data": {
      "text/plain": [
       "{'bir': 'one', 'iki': 'two'}"
      ]
     },
     "execution_count": 7,
     "metadata": {},
     "output_type": "execute_result"
    }
   ],
   "source": [
    "xx = dict(bir = \"one\",\n",
    "          iki = \"two\")xx"
   ]
  },
  {
   "cell_type": "code",
   "execution_count": 10,
   "metadata": {},
   "outputs": [
    {
     "data": {
      "text/plain": [
       "{1: 'istanbul', 2: 'Ankara'}"
      ]
     },
     "execution_count": 10,
     "metadata": {},
     "output_type": "execute_result"
    }
   ],
   "source": [
    "sehir = \"istanbul\"\n",
    "sehir1 = \"Ankara\"\n",
    "\n",
    "sehirler = {1 : sehir, 2 : sehir1}\n",
    "sehirler "
   ]
  },
  {
   "cell_type": "code",
   "execution_count": 14,
   "metadata": {},
   "outputs": [
    {
     "data": {
      "text/plain": [
       "'Ankara'"
      ]
     },
     "execution_count": 14,
     "metadata": {},
     "output_type": "execute_result"
    }
   ],
   "source": [
    "sehirler[2]"
   ]
  },
  {
   "cell_type": "code",
   "execution_count": 15,
   "metadata": {},
   "outputs": [
    {
     "data": {
      "text/plain": [
       "str"
      ]
     },
     "execution_count": 15,
     "metadata": {},
     "output_type": "execute_result"
    }
   ],
   "source": [
    "type(sehirler[2])  "
   ]
  },
  {
   "cell_type": "code",
   "execution_count": 17,
   "metadata": {},
   "outputs": [
    {
     "data": {
      "text/plain": [
       "1000"
      ]
     },
     "execution_count": 17,
     "metadata": {},
     "output_type": "execute_result"
    }
   ],
   "source": [
    "sehirler = {1 : sehir, 2 : sehir1,\"nufusum\" : 1000}  # dict de Indexleme yani sözlugun icerisindeki degerler ulasma \n",
    "\n",
    "sehirler \n",
    "\n",
    "sehirler[\"nufusum\"]"
   ]
  },
  {
   "cell_type": "code",
   "execution_count": 18,
   "metadata": {},
   "outputs": [
    {
     "data": {
      "text/plain": [
       "{1: 'istanbul', 2: 'Ankara', 'nufusum': 1000, 3: 'Kayseri'}"
      ]
     },
     "execution_count": 18,
     "metadata": {},
     "output_type": "execute_result"
    }
   ],
   "source": [
    "sehirler[3] = \"Kayseri\"   # Sözluge yeni deger atama    adding anew items\n",
    "sehirler"
   ]
  },
  {
   "cell_type": "code",
   "execution_count": 20,
   "metadata": {},
   "outputs": [
    {
     "data": {
      "text/plain": [
       "{1: 'Trabzon', 2: 'Ankara', 'nufusum': 1000, 3: 'Kayseri'}"
      ]
     },
     "execution_count": 20,
     "metadata": {},
     "output_type": "execute_result"
    }
   ],
   "source": [
    "sehirler[1] = \"Trabzon\" # mevcur deger \n",
    "sehirler\n"
   ]
  },
  {
   "cell_type": "code",
   "execution_count": 9,
   "metadata": {},
   "outputs": [
    {
     "name": "stdout",
     "output_type": "stream",
     "text": [
      "{'name1': 'Akif', 'name2': 'Orhan', 'name': 'Nihal'}\n"
     ]
    }
   ],
   "source": [
    "family = {\"name1\" : \"Akif\", \n",
    "          \"name2\" : \"Orhan\",\n",
    "          \"name\"  : \"Nihal\"\n",
    "         }\n",
    "print(family)"
   ]
  },
  {
   "cell_type": "code",
   "execution_count": 8,
   "metadata": {},
   "outputs": [
    {
     "name": "stdout",
     "output_type": "stream",
     "text": [
      "{'name1': 'Akif', 'name2': 'Orhan', 'name': 'Nihal', 'name4': 'Ramazan'}\n"
     ]
    }
   ],
   "source": [
    "family[\"name4\"] = \"Ramazan\"\n",
    "print(family)"
   ]
  },
  {
   "cell_type": "code",
   "execution_count": 41,
   "metadata": {},
   "outputs": [
    {
     "name": "stdout",
     "output_type": "stream",
     "text": [
      "{'name': 'Nihal', 'a': 1, 'b': 2, 'name5': 'Meral'}\n"
     ]
    }
   ],
   "source": [
    "family[\"name5\"] = \"Meral\"\n",
    "print(family)"
   ]
  },
  {
   "cell_type": "code",
   "execution_count": 16,
   "metadata": {},
   "outputs": [
    {
     "data": {
      "text/plain": [
       "{'name1': 'Akif',\n",
       " 'name2': 'Orhan',\n",
       " 'name': 'Nihal',\n",
       " 'name5': 'Meral',\n",
       " 'name4': 'selam'}"
      ]
     },
     "execution_count": 16,
     "metadata": {},
     "output_type": "execute_result"
    }
   ],
   "source": [
    "family [\"name4\"] = \"selam\"\n",
    "family"
   ]
  },
  {
   "cell_type": "code",
   "execution_count": 17,
   "metadata": {},
   "outputs": [
    {
     "name": "stdout",
     "output_type": "stream",
     "text": [
      "dict_items([('animal', 'dog'), ('planet', 'neptun'), ('number', 40), ('pi', 3.14), ('is_good', True)]) \n",
      "\n",
      "dict_keys(['animal', 'planet', 'number', 'pi', 'is_good']) \n",
      "\n",
      "dict_values(['dog', 'neptun', 40, 3.14, True]) \n",
      "\n"
     ]
    }
   ],
   "source": [
    "dict_by_dict = { \"animal\" : \"dog\",\n",
    "                 \"planet\" : \"neptun\", \n",
    "                 \"number\" : 40,\n",
    "                 \"pi\"     : 3.14,\n",
    "                 \"is_good\":True\n",
    "                   }\n",
    "print(dict_by_dict.items(), \"\\n\")  # her bir items Tuple olarak ayriliyor\n",
    "print(dict_by_dict.keys(), \"\\n\")\n",
    "print(dict_by_dict.values(), \"\\n\")\n"
   ]
  },
  {
   "cell_type": "code",
   "execution_count": 22,
   "metadata": {},
   "outputs": [
    {
     "name": "stdout",
     "output_type": "stream",
     "text": [
      "[('name1', 'Akif'), ('name2', 'Orhan'), ('name', 'Nihal')] \n",
      "\n",
      "['name1', 'name2', 'name'] \n",
      "\n",
      "['Akif', 'Orhan', 'Nihal'] \n",
      "\n"
     ]
    }
   ],
   "source": [
    "family = {\"name1\" : \"Akif\", \n",
    "          \"name2\" : \"Orhan\",\n",
    "          \"name\"  : \"Nihal\"\n",
    "         }\n",
    "print(list(family.items()), \"\\n\")\n",
    "print(list(family.keys()), \"\\n\")\n",
    "print(list(family.values()), \"\\n\")"
   ]
  },
  {
   "cell_type": "markdown",
   "metadata": {},
   "source": [
    "### update methodu  ekleme yapar   x.update({ \"x\" : \"y\"}) "
   ]
  },
  {
   "cell_type": "code",
   "execution_count": 25,
   "metadata": {
    "scrolled": true
   },
   "outputs": [
    {
     "name": "stdout",
     "output_type": "stream",
     "text": [
      "{'animal': 'dog', 'planet': 'neptun', 'number': 40, 'pi': 3.14, 'is_good': True, 'is_bad': False}\n"
     ]
    }
   ],
   "source": [
    "dict_by_dict = { \"animal\" : \"dog\",\n",
    "                 \"planet\" : \"neptun\", \n",
    "                 \"number\" : 40,\n",
    "                 \"pi\"     : 3.14,\n",
    "                 \"is_good\":True\n",
    "                   }\n",
    "\n",
    "dict_by_dict.update({\"is_bad\" : False})\n",
    "\n",
    "print(dict_by_dict)"
   ]
  },
  {
   "cell_type": "code",
   "execution_count": 27,
   "metadata": {},
   "outputs": [
    {
     "data": {
      "text/plain": [
       "{'name1': 'Akif', 'name2': 'Orhan', 'name': 'Nihal'}"
      ]
     },
     "execution_count": 27,
     "metadata": {},
     "output_type": "execute_result"
    }
   ],
   "source": [
    "family = {\"name1\" : \"Akif\", \n",
    "          \"name2\" : \"Orhan\",\n",
    "          \"name\"  : \"Nihal\"\n",
    "         }\n",
    "family"
   ]
  },
  {
   "cell_type": "code",
   "execution_count": 31,
   "metadata": {},
   "outputs": [
    {
     "data": {
      "text/plain": [
       "{'name1': 'Akif', 'name2': 'Orhan', 'name': 'Nihal', 'a': 1, 'b': 2}"
      ]
     },
     "execution_count": 31,
     "metadata": {},
     "output_type": "execute_result"
    }
   ],
   "source": [
    "family.update({\"a\" : 1, \"b\" : 2})\n",
    "family"
   ]
  },
  {
   "cell_type": "code",
   "execution_count": 38,
   "metadata": {},
   "outputs": [
    {
     "name": "stdout",
     "output_type": "stream",
     "text": [
      "{'name': 'Nihal', 'a': 1, 'b': 2, 'name1': 'Belkiz'}\n"
     ]
    }
   ],
   "source": [
    "family.update({\"name1\" : \"Belkiz\"})  # update ile guncellestirdik  \n",
    "print(family)"
   ]
  },
  {
   "cell_type": "markdown",
   "metadata": {},
   "source": [
    "### del key word ile sileriz      del name[\" \"]"
   ]
  },
  {
   "cell_type": "code",
   "execution_count": 37,
   "metadata": {},
   "outputs": [
    {
     "data": {
      "text/plain": [
       "{'name': 'Nihal', 'a': 1, 'b': 2}"
      ]
     },
     "execution_count": 37,
     "metadata": {},
     "output_type": "execute_result"
    }
   ],
   "source": [
    "del family[\"name1\"]\n",
    "family"
   ]
  },
  {
   "cell_type": "code",
   "execution_count": 40,
   "metadata": {},
   "outputs": [
    {
     "data": {
      "text/plain": [
       "{'name': 'Nihal', 'a': 1, 'b': 2}"
      ]
     },
     "execution_count": 40,
     "metadata": {},
     "output_type": "execute_result"
    }
   ],
   "source": [
    "del family[\"name1\"]\n",
    "family"
   ]
  },
  {
   "cell_type": "code",
   "execution_count": 42,
   "metadata": {},
   "outputs": [
    {
     "name": "stdout",
     "output_type": "stream",
     "text": [
      "{'name': 'Nihal', 'a': 1, 'b': 2, 'name5': 'Meral'}\n"
     ]
    }
   ],
   "source": [
    "family[\"name5\"] = \"Meral\"\n",
    "print(family)"
   ]
  },
  {
   "cell_type": "code",
   "execution_count": 4,
   "metadata": {
    "scrolled": true
   },
   "outputs": [
    {
     "data": {
      "text/plain": [
       "{'name1': 'Akif',\n",
       " 'name2': 'Orhan',\n",
       " 'name': 'Nihal',\n",
       " 'name3': 'Meral',\n",
       " 'name4': 'Ramazan'}"
      ]
     },
     "execution_count": 4,
     "metadata": {},
     "output_type": "execute_result"
    }
   ],
   "source": [
    "family = {\"name1\" : \"Akif\", \n",
    "          \"name2\" : \"Orhan\",\n",
    "          \"name\"  : \"Nihal\",\n",
    "          \"name3\" : \"Meral\",\n",
    "          \"name4\" : \"Ramazan\"}\n",
    "family"
   ]
  },
  {
   "cell_type": "code",
   "execution_count": 6,
   "metadata": {},
   "outputs": [
    {
     "name": "stdout",
     "output_type": "stream",
     "text": [
      "{'name1': 'Akif', 'name2': 'Orhan', 'name4': 'Ramazan'}\n"
     ]
    }
   ],
   "source": [
    "del family[\"name\"]\n",
    "del family[\"name3\"]\n",
    "\n",
    "print(family)"
   ]
  },
  {
   "cell_type": "code",
   "execution_count": 12,
   "metadata": {},
   "outputs": [
    {
     "name": "stdout",
     "output_type": "stream",
     "text": [
      "{'name1': 'Akif', 'name2': 'Orhan', 'name4': 'Ramazan'}\n"
     ]
    }
   ],
   "source": [
    "del family[\"name\"],family[\"name3\"]  # tek satirda silmek icin \n",
    "print(family)"
   ]
  },
  {
   "cell_type": "code",
   "execution_count": 7,
   "metadata": {},
   "outputs": [
    {
     "data": {
      "text/plain": [
       "{'name1': 'Akif', 'name2': 'Orhan', 'name4': 'Ramazan'}"
      ]
     },
     "execution_count": 7,
     "metadata": {},
     "output_type": "execute_result"
    }
   ],
   "source": [
    "family"
   ]
  },
  {
   "cell_type": "code",
   "execution_count": 16,
   "metadata": {},
   "outputs": [
    {
     "data": {
      "text/plain": [
       "True"
      ]
     },
     "execution_count": 16,
     "metadata": {},
     "output_type": "execute_result"
    }
   ],
   "source": [
    " \"name1\" in family"
   ]
  },
  {
   "cell_type": "code",
   "execution_count": 17,
   "metadata": {},
   "outputs": [
    {
     "data": {
      "text/plain": [
       "True"
      ]
     },
     "execution_count": 17,
     "metadata": {},
     "output_type": "execute_result"
    }
   ],
   "source": [
    "\"name\" in family"
   ]
  },
  {
   "cell_type": "code",
   "execution_count": 18,
   "metadata": {},
   "outputs": [
    {
     "data": {
      "text/plain": [
       "False"
      ]
     },
     "execution_count": 18,
     "metadata": {},
     "output_type": "execute_result"
    }
   ],
   "source": [
    "\"name5\" in family  # icerisindse var mi"
   ]
  },
  {
   "cell_type": "code",
   "execution_count": 20,
   "metadata": {},
   "outputs": [
    {
     "data": {
      "text/plain": [
       "True"
      ]
     },
     "execution_count": 20,
     "metadata": {},
     "output_type": "execute_result"
    }
   ],
   "source": [
    "\"name5\" not in family  # icerisind yok dgil mi"
   ]
  },
  {
   "cell_type": "code",
   "execution_count": 22,
   "metadata": {},
   "outputs": [
    {
     "data": {
      "text/plain": [
       "False"
      ]
     },
     "execution_count": 22,
     "metadata": {},
     "output_type": "execute_result"
    }
   ],
   "source": [
    "\"meral\" in family.values()"
   ]
  },
  {
   "cell_type": "code",
   "execution_count": 23,
   "metadata": {},
   "outputs": [
    {
     "data": {
      "text/plain": [
       "True"
      ]
     },
     "execution_count": 23,
     "metadata": {},
     "output_type": "execute_result"
    }
   ],
   "source": [
    "\"Meral\" in family.values()"
   ]
  },
  {
   "cell_type": "code",
   "execution_count": 5,
   "metadata": {},
   "outputs": [
    {
     "data": {
      "text/plain": [
       "False"
      ]
     },
     "execution_count": 5,
     "metadata": {},
     "output_type": "execute_result"
    }
   ],
   "source": [
    "\"ramazan\" in family.values()  # Buyuk harf duyarliligi var"
   ]
  },
  {
   "cell_type": "code",
   "execution_count": 25,
   "metadata": {},
   "outputs": [
    {
     "data": {
      "text/plain": [
       "True"
      ]
     },
     "execution_count": 25,
     "metadata": {},
     "output_type": "execute_result"
    }
   ],
   "source": [
    "\"Ramazan\" in family.values()"
   ]
  },
  {
   "cell_type": "code",
   "execution_count": 27,
   "metadata": {},
   "outputs": [
    {
     "name": "stdout",
     "output_type": "stream",
     "text": [
      "True\n"
     ]
    }
   ],
   "source": [
    "print(\"Ramazan\" in family.values())"
   ]
  },
  {
   "cell_type": "code",
   "execution_count": 28,
   "metadata": {},
   "outputs": [
    {
     "name": "stdout",
     "output_type": "stream",
     "text": [
      "False\n"
     ]
    }
   ],
   "source": [
    "print(\"Ramazan\" in family)"
   ]
  },
  {
   "cell_type": "code",
   "execution_count": 29,
   "metadata": {},
   "outputs": [],
   "source": [
    "school_records={\n",
    "    \"personal_info\":\n",
    "        {\"kid\":{\"tom\": {\"class\": \"intermediate\", \"age\": 10},\n",
    "                \"sue\": {\"class\": \"elementary\", \"age\": 8}\n",
    "               },\n",
    "         \"teen\":{\"joseph\":{\"class\": \"college\", \"age\": 19},\n",
    "                 \"marry\":{\"class\": \"high school\", \"age\": 16}\n",
    "               },               \n",
    "        },\n",
    "    \"grades_info\":\n",
    "        {\"kid\":{\"tom\": {\"math\": 88, \"speech\": 69},\n",
    "                \"sue\": {\"math\": 90, \"speech\": 81}\n",
    "               },\n",
    "         \"teen\":{\"joseph\":{\"coding\": 80, \"math\": 89},\n",
    "                 \"marry\":{\"coding\": 70, \"math\": 96}\n",
    "               },               \n",
    "        },        \n",
    "}"
   ]
  },
  {
   "cell_type": "code",
   "execution_count": 33,
   "metadata": {},
   "outputs": [
    {
     "data": {
      "text/plain": [
       "16"
      ]
     },
     "execution_count": 33,
     "metadata": {},
     "output_type": "execute_result"
    }
   ],
   "source": [
    "school_records[\"personal_info\"][\"teen\"][\"marry\"][\"age\"]"
   ]
  },
  {
   "cell_type": "code",
   "execution_count": 35,
   "metadata": {},
   "outputs": [
    {
     "data": {
      "text/plain": [
       "{'coding': 80, 'math': 89}"
      ]
     },
     "execution_count": 35,
     "metadata": {},
     "output_type": "execute_result"
    }
   ],
   "source": [
    "school_records[\"grades_info\"][\"teen\"][\"joseph\"]"
   ]
  },
  {
   "cell_type": "code",
   "execution_count": 39,
   "metadata": {},
   "outputs": [
    {
     "data": {
      "text/plain": [
       "[('coding', 80), ('math', 89)]"
      ]
     },
     "execution_count": 39,
     "metadata": {},
     "output_type": "execute_result"
    }
   ],
   "source": [
    "list(school_records[\"grades_info\"][\"teen\"][\"joseph\"].items())  # söxzlugun her lbir elemanini items ileeve list index ile "
   ]
  },
  {
   "cell_type": "code",
   "execution_count": 40,
   "metadata": {},
   "outputs": [],
   "source": [
    "friends ={\n",
    "         \"friend1\" : {\"first\" : \"sue\", \"last\" : \"Bold\"},\n",
    "         \"friend2\" : {\"first\" : \"Maria\", \"last\" : \"Akar\"},\n",
    "         \"friend3\" : {\"first\" : \"Sergio\", \"last\" : \"Andersson\"}\n",
    "}"
   ]
  },
  {
   "cell_type": "code",
   "execution_count": 41,
   "metadata": {},
   "outputs": [
    {
     "data": {
      "text/plain": [
       "{'friend1': {'first': 'sue', 'last': 'Bold'},\n",
       " 'friend2': {'first': 'Maria', 'last': 'Akar'},\n",
       " 'friend3': {'first': 'Sergio', 'last': 'Andersson'}}"
      ]
     },
     "execution_count": 41,
     "metadata": {},
     "output_type": "execute_result"
    }
   ],
   "source": [
    "friends"
   ]
  },
  {
   "cell_type": "code",
   "execution_count": 3,
   "metadata": {},
   "outputs": [
    {
     "name": "stdout",
     "output_type": "stream",
     "text": [
      "{'friends': {'friends1': {'first': 'Huseyin', 'last': 'Kaya'}, 'friends2': {'first': 'Mehmet', 'last': 'Belkiz'}, 'friends3': {'first': 'Mustafa', 'last': 'Kayaer'}}, 'Family': {'family1': {'first': 'Kaya', 'last': 'Deniz'}, 'family2': {'first': 'Sevgi', 'last': 'Akar'}, 'family3': {'first': 'Selam', 'last': 'Cosar'}}}\n"
     ]
    }
   ],
   "source": [
    "favorite = {\n",
    " \"friends\" : {\n",
    "     \"friends1\" : {\"first\" : \"Huseyin\", \"last\" : \"Kaya\"},\n",
    "     \"friends2\" : {\"first\" : \"Mehmet\", \"last\" :\"Belkiz\"},\n",
    "     \"friends3\" : {\"first\" : \"Mustafa\", \"last\" : \"Kayaer\"}\n",
    "     },\n",
    "\n",
    "\"Family\" : {\n",
    "    \"family1\" : {\"first\" : \"Kaya\", \"last\" : \"Deniz\"},\n",
    "    \"family2\" : {\"first\" : \"Sevgi\", \"last\" : \"Akar\"},\n",
    "    \"family3\" : {\"first\" : \"Selam\", \"last\" : \"Cosar\"}\n",
    "    }\n",
    "}   \n",
    "    \n",
    "\n",
    "print(favorite)"
   ]
  },
  {
   "cell_type": "code",
   "execution_count": 14,
   "metadata": {},
   "outputs": [
    {
     "data": {
      "text/plain": [
       "{'name1': 'Akif',\n",
       " 'name2': 'Orhan',\n",
       " 'name': 'Nihal',\n",
       " 'name3': 'Meral',\n",
       " 'name4': 'Ramazan'}"
      ]
     },
     "execution_count": 14,
     "metadata": {},
     "output_type": "execute_result"
    }
   ],
   "source": [
    "family = {\"name1\" : \"Akif\",\n",
    "          \"name2\" : \"Orhan\",\n",
    "          \"name\"  : \"Nihal\",\n",
    "          \"name3\" : \"Meral\",\n",
    "          \"name4\" : \"Ramazan\"}\n",
    "family"
   ]
  },
  {
   "cell_type": "code",
   "execution_count": 7,
   "metadata": {},
   "outputs": [
    {
     "name": "stdout",
     "output_type": "stream",
     "text": [
      "True\n"
     ]
    }
   ],
   "source": [
    "print(\"Ramazan\" in family.values())"
   ]
  },
  {
   "cell_type": "code",
   "execution_count": 17,
   "metadata": {},
   "outputs": [
    {
     "name": "stdout",
     "output_type": "stream",
     "text": [
      "False\n"
     ]
    }
   ],
   "source": [
    "print(\"Ramazan\" in family)"
   ]
  },
  {
   "cell_type": "code",
   "execution_count": 16,
   "metadata": {},
   "outputs": [
    {
     "data": {
      "text/plain": [
       "True"
      ]
     },
     "execution_count": 16,
     "metadata": {},
     "output_type": "execute_result"
    }
   ],
   "source": [
    "\"name1\" in family"
   ]
  },
  {
   "cell_type": "markdown",
   "metadata": {},
   "source": [
    "###  SET (KUMELER)   { }  KULLNILIR ANCAK : YOKTUR  "
   ]
  },
  {
   "cell_type": "code",
   "execution_count": 25,
   "metadata": {},
   "outputs": [
    {
     "name": "stdout",
     "output_type": "stream",
     "text": [
      "{'blue', 'pink', 'red'}\n",
      "{'blue', 'pink', 'red'}\n",
      "('red', 'blue', 'pink', 'pink')\n"
     ]
    }
   ],
   "source": [
    "set_1 ={\"red\",\"blue\",\"pink\"}\n",
    "print(set_1) \n",
    "\n",
    "colors = \"red\",\"blue\",\"pink\",\"pink\"   #  set her bir elemani bir kere yazar\n",
    "set_2 = set(colors)\n",
    "print(set_2)\n",
    "print(colors)"
   ]
  },
  {
   "cell_type": "code",
   "execution_count": 1,
   "metadata": {},
   "outputs": [
    {
     "name": "stdout",
     "output_type": "stream",
     "text": [
      "['a', 'b', 'c', 'd', 'e', 'f', 'g', 'h', 'i', 'j', 'k', 'l', 'm', 'n', 'o', 'ö', 'p', 'r', 's', 't', 'u', 'v', 'y', 'z']\n"
     ]
    }
   ],
   "source": [
    "letter = \"a b c d e f g h i j k l m n o ö p r s t u v y z\".split()\n",
    "\n",
    "print(letter)"
   ]
  },
  {
   "cell_type": "code",
   "execution_count": 2,
   "metadata": {},
   "outputs": [
    {
     "name": "stdout",
     "output_type": "stream",
     "text": [
      "{'f', 'z', 'g', 'b', 'r', 'l', 'p', 'a', 'ö', 'y', 's', 't', 'm', 'i', 'n', 'k', 'd', 'c', 'u', 'v', 'j', 'e', 'h', 'o'}\n"
     ]
    }
   ],
   "source": [
    "print(set(letter))"
   ]
  },
  {
   "cell_type": "code",
   "execution_count": 5,
   "metadata": {},
   "outputs": [
    {
     "name": "stdout",
     "output_type": "stream",
     "text": [
      "['d', 'e', 'f', 'g', 'h', 'ö', 'p', 'r', 's', 'u', 'v', 'y', 'z', 'i', 'j', 'k', 'l', 'a', 'b', 'c', 'm', 'n', 'o', 't']\n",
      "{'f', 'z', 'g', 'b', 'r', 'l', 'h', 'p', 'a', 'ö', 'y', 's', 't', 'm', 'i', 'n', 'k', 'd', 'c', 'v', 'j', 'e', 'u', 'o'}\n"
     ]
    }
   ],
   "source": [
    "letter1 = \" d e f g h ö p r s u v y z i j k l a b c m n o t \".split()\n",
    "print(letter1)\n",
    "print(set(letter1))"
   ]
  },
  {
   "cell_type": "code",
   "execution_count": 6,
   "metadata": {},
   "outputs": [
    {
     "name": "stdout",
     "output_type": "stream",
     "text": [
      "['rose', 'orchid', 'Carnation', 'violet']\n",
      "{'rose', 'orchid', 'Carnation', 'violet'}\n"
     ]
    }
   ],
   "source": [
    "flower_list = [\"rose\" , \"violet\", \"Carnation\", \"rose\", \"orchid\", \"rose\"]\n",
    "flowerset = set(flower_list)\n",
    "flowerlist = list(flowerset)\n",
    "\n",
    "print(flowerlist)  # list icerisinde\n",
    "print(flowerset)  # suslu parentez ve tek elemanli"
   ]
  },
  {
   "cell_type": "code",
   "execution_count": 20,
   "metadata": {},
   "outputs": [
    {
     "data": {
      "text/plain": [
       "{'Harry': 29, 'Clark': 32, 'Peter': 22, 'Bruce': 36}"
      ]
     },
     "execution_count": 20,
     "metadata": {},
     "output_type": "execute_result"
    }
   ],
   "source": [
    "student_ages = {\"Harry\": 29,\n",
    "                \"Clark\": 32,\n",
    "                \"Peter\": 22,\n",
    "                \"Bruce\": 36\n",
    "                }\n",
    "student_ages"
   ]
  },
  {
   "cell_type": "code",
   "execution_count": 22,
   "metadata": {},
   "outputs": [
    {
     "name": "stdout",
     "output_type": "stream",
     "text": [
      "32\n"
     ]
    }
   ],
   "source": [
    "print(student_ages[\"Clark\"])"
   ]
  },
  {
   "cell_type": "code",
   "execution_count": 6,
   "metadata": {},
   "outputs": [
    {
     "name": "stdout",
     "output_type": "stream",
     "text": [
      "22\n"
     ]
    }
   ],
   "source": [
    "customers = { \n",
    "'bank': \n",
    "{1: {'name': 'James', 'age': '27', 'sex': 'Male'}, \n",
    " 2: {'name': 'Nicole', 'age': '25', 'sex': 'Female'},  \n",
    " 3: {'name': 'Andy', 'age': '38', 'sex': 'Male'}, \n",
    " 4: {'name': 'Alex', 'age': '19', 'sex': 'Male'}, \n",
    " 5: {'name': 'Linda', 'age': '33', 'sex': 'Female'}, \n",
    "},\n",
    "'insurance':\n",
    "{1: {'name': 'Jashua', 'age': '33', 'sex': 'Male'}, \n",
    " 2: {'name': 'Marry', 'age': '66', 'sex': 'Female'},  \n",
    " 3: {'name': 'Adam', 'age': '56', 'sex': 'Male'}, \n",
    " 4: {'name': 'Samuel', 'age': '54', 'sex': 'Male'}, \n",
    " 5: {'name': 'Lisa', 'age': '22', 'sex': 'Female'},\n",
    "},\n",
    "}\n",
    "\n",
    "print(customers[\"insurance\"][5][\"age\"])"
   ]
  },
  {
   "cell_type": "code",
   "execution_count": 8,
   "metadata": {},
   "outputs": [
    {
     "name": "stdout",
     "output_type": "stream",
     "text": [
      "Andy\n",
      "Female\n"
     ]
    }
   ],
   "source": [
    "print(customers[\"bank\"][3][\"name\"])\n",
    "print(customers[\"bank\"][5][\"sex\"])"
   ]
  },
  {
   "cell_type": "code",
   "execution_count": 10,
   "metadata": {},
   "outputs": [
    {
     "name": "stdout",
     "output_type": "stream",
     "text": [
      "<class 'set'>\n"
     ]
    }
   ],
   "source": [
    "empty_set = set()\n",
    "print(type(empty_set))"
   ]
  },
  {
   "cell_type": "code",
   "execution_count": 17,
   "metadata": {},
   "outputs": [
    {
     "name": "stdout",
     "output_type": "stream",
     "text": [
      "{'orange', 'yellow', 'purple', 'red', 'darkblue'}\n",
      "{'orange', 'yellow', 'purple', 'red', 'darkblue'}\n"
     ]
    }
   ],
   "source": [
    "colorset = {\"purple\", \"orange\",\"red\", \"darkblue\", \"yellow\", \"red\"}\n",
    "\n",
    "print(colorset)\n",
    "print(colorset)"
   ]
  },
  {
   "cell_type": "code",
   "execution_count": 18,
   "metadata": {},
   "outputs": [
    {
     "name": "stdout",
     "output_type": "stream",
     "text": [
      "{'u', 'a', 'e', 'r', 'l', 'b', 'm'}\n"
     ]
    }
   ],
   "source": [
    "a = set(\"umbrella\")  # \n",
    "print(a)"
   ]
  },
  {
   "cell_type": "code",
   "execution_count": 23,
   "metadata": {},
   "outputs": [
    {
     "name": "stdout",
     "output_type": "stream",
     "text": [
      "{'rose', 'violeyt', 'carnation', 'orchid'}\n",
      "['rose', 'violeyt', 'carnation', 'orchid']\n"
     ]
    }
   ],
   "source": [
    "flower_list = [\"rose\", \"violeyt\", \"carnation\", \"rose\", \"orchid\"]\n",
    "\n",
    "flowerset = set(flower_list)\n",
    "flowerlist = list(flowerset)   #list olarak ayni ciktiyi veriyor set \n",
    "                               # oldugunda ciftler teke dusuyor\n",
    "\n",
    "print(flowerset)\n",
    "print(flowerlist)"
   ]
  },
  {
   "cell_type": "code",
   "execution_count": 29,
   "metadata": {},
   "outputs": [
    {
     "data": {
      "text/plain": [
       "{1, 2, 3, 4, 5}"
      ]
     },
     "execution_count": 29,
     "metadata": {},
     "output_type": "execute_result"
    }
   ],
   "source": [
    "#set([[1,2],[3,4],[4,5]])\n",
    "set([1,2,2,3,4,5])\n",
    "#{1,2,3,4}\n",
    "#set((1,2,3,4))"
   ]
  },
  {
   "cell_type": "code",
   "execution_count": 31,
   "metadata": {},
   "outputs": [
    {
     "data": {
      "text/plain": [
       "{'a', 'b', 'c', 'd', 'r'}"
      ]
     },
     "execution_count": 31,
     "metadata": {},
     "output_type": "execute_result"
    }
   ],
   "source": [
    "a = set(\"abracadabra\")\n",
    "a"
   ]
  },
  {
   "cell_type": "code",
   "execution_count": 33,
   "metadata": {},
   "outputs": [
    {
     "name": "stdout",
     "output_type": "stream",
     "text": [
      "{'r', 'd', 'b'}\n",
      "{'r', 'd', 'b'}\n"
     ]
    }
   ],
   "source": [
    "a = set(\"abracadabra\")  # setlerde differens methodu \n",
    "b = set(\"alacazm\")\n",
    "\n",
    "print(a-b)     \n",
    "print(a.difference(b))"
   ]
  },
  {
   "cell_type": "code",
   "execution_count": 35,
   "metadata": {},
   "outputs": [
    {
     "name": "stdout",
     "output_type": "stream",
     "text": [
      "{'a', 'z', 'r', 'd', 'b', 'l', 'm', 'c'}\n",
      "{'a', 'z', 'r', 'd', 'b', 'l', 'm', 'c'}\n"
     ]
    }
   ],
   "source": [
    "a = set(\"abracadabra\")  # union kesisim olanlari birkez kullanir iki kumenin \n",
    "                         # birlestirilmesi\n",
    "b = set(\"alacazm\")\n",
    "\n",
    "print(a | b)\n",
    "print(a.union(b))"
   ]
  },
  {
   "cell_type": "code",
   "execution_count": 37,
   "metadata": {},
   "outputs": [
    {
     "name": "stdout",
     "output_type": "stream",
     "text": [
      "{'a', 'c'}\n",
      "{'a', 'c'}\n"
     ]
    }
   ],
   "source": [
    "a = set(\"abracadabra\")   # intersection methodu ortak elemanlari verir  Kesisim\n",
    "b = set(\"alacazm\")\n",
    "\n",
    "print(a & b)\n",
    "print(a.intersection(b))\n"
   ]
  },
  {
   "cell_type": "code",
   "execution_count": 43,
   "metadata": {},
   "outputs": [
    {
     "data": {
      "text/plain": [
       "{'a', 'b', 'c', 'd', 'r', 'z'}"
      ]
     },
     "execution_count": 43,
     "metadata": {},
     "output_type": "execute_result"
    }
   ],
   "source": [
    "a = set(\"abracadabra\")   # add eklme yapar\n",
    "\n",
    "a.add(\"z\") \n",
    "a\n"
   ]
  },
  {
   "cell_type": "code",
   "execution_count": 53,
   "metadata": {},
   "outputs": [
    {
     "name": "stdout",
     "output_type": "stream",
     "text": [
      "{'a', 'r', 'd', 'b'}\n",
      "4\n"
     ]
    }
   ],
   "source": [
    "a = set(\"abracadabra\")   # remove siler\n",
    "\n",
    "a.remove(\"c\") \n",
    "print(a)\n",
    "print(len(a))"
   ]
  },
  {
   "cell_type": "code",
   "execution_count": 63,
   "metadata": {},
   "outputs": [
    {
     "ename": "SyntaxError",
     "evalue": "invalid syntax (<ipython-input-63-4d472bd835ca>, line 3)",
     "output_type": "error",
     "traceback": [
      "\u001b[1;36m  File \u001b[1;32m\"<ipython-input-63-4d472bd835ca>\"\u001b[1;36m, line \u001b[1;32m3\u001b[0m\n\u001b[1;33m    print(\"a\" . in a)\u001b[0m\n\u001b[1;37m                ^\u001b[0m\n\u001b[1;31mSyntaxError\u001b[0m\u001b[1;31m:\u001b[0m invalid syntax\n"
     ]
    }
   ],
   "source": [
    "a = set(\"abracadabra\") \n",
    "\n",
    "print(\"a\" . in a)"
   ]
  },
  {
   "cell_type": "code",
   "execution_count": 64,
   "metadata": {},
   "outputs": [
    {
     "data": {
      "text/plain": [
       "{'1', '2', '3', '4', '6', '8'}"
      ]
     },
     "execution_count": 64,
     "metadata": {},
     "output_type": "execute_result"
    }
   ],
   "source": [
    "a = set(\"1234668\")\n",
    "a\n"
   ]
  },
  {
   "cell_type": "code",
   "execution_count": 68,
   "metadata": {},
   "outputs": [
    {
     "name": "stdout",
     "output_type": "stream",
     "text": [
      "True\n"
     ]
    }
   ],
   "source": [
    "print(\"2\" in a)"
   ]
  },
  {
   "cell_type": "code",
   "execution_count": 67,
   "metadata": {},
   "outputs": [
    {
     "name": "stdout",
     "output_type": "stream",
     "text": [
      "13\n"
     ]
    }
   ],
   "source": [
    "print(len(set('listen to the voice of enlisted')))"
   ]
  },
  {
   "cell_type": "code",
   "execution_count": 69,
   "metadata": {},
   "outputs": [
    {
     "name": "stdout",
     "output_type": "stream",
     "text": [
      "25\n"
     ]
    }
   ],
   "source": [
    "numbers = {}\n",
    "\n",
    "numbers['x'] = 12\n",
    "numbers['y'] = 4\n",
    "numbers.update({'z': 3})\n",
    "\n",
    "print(numbers['x'] + numbers['y'] + numbers['z']**2)"
   ]
  },
  {
   "cell_type": "code",
   "execution_count": 1,
   "metadata": {},
   "outputs": [
    {
     "name": "stdout",
     "output_type": "stream",
     "text": [
      "[10, 20, 30, 40, 50, 60, 70, 80, 90, 100]\n",
      "[10, 20, 30, 40, 50, 555, 60, 70, 80, 90, 100]\n"
     ]
    }
   ],
   "source": [
    "numbers_10 = [10, 30, 40, 50, 60, 70, 80, 90, 100]\n",
    "numbers_10.insert(1,20)\n",
    "print(numbers_10)\n",
    "\n",
    "numbers_10.insert(5,555)\n",
    "print(numbers_10)"
   ]
  },
  {
   "cell_type": "code",
   "execution_count": 2,
   "metadata": {},
   "outputs": [
    {
     "name": "stdout",
     "output_type": "stream",
     "text": [
      "[10, 20, 30, 40, 50, 555, 666, 60, 70, 80, 90, 100]\n"
     ]
    }
   ],
   "source": [
    "numbers_10.insert(6,666)\n",
    "print(numbers_10)"
   ]
  },
  {
   "cell_type": "code",
   "execution_count": 3,
   "metadata": {},
   "outputs": [
    {
     "name": "stdout",
     "output_type": "stream",
     "text": [
      "spinach\n"
     ]
    }
   ],
   "source": [
    "fruits_vegetables = [\"fruit\", \"vegetable\", [\"apple\", \"banana\", [\"mango\", \"avocado\"]], [\"spinach\", \"broccoli\"]]\n",
    "print(fruits_vegetables[3][0])"
   ]
  },
  {
   "cell_type": "code",
   "execution_count": 4,
   "metadata": {},
   "outputs": [
    {
     "ename": "TypeError",
     "evalue": "'type' object is not subscriptable",
     "output_type": "error",
     "traceback": [
      "\u001b[1;31m---------------------------------------------------------------------------\u001b[0m",
      "\u001b[1;31mTypeError\u001b[0m                                 Traceback (most recent call last)",
      "\u001b[1;32m<ipython-input-4-b4c780c73c12>\u001b[0m in \u001b[0;36m<module>\u001b[1;34m\u001b[0m\n\u001b[1;32m----> 1\u001b[1;33m \u001b[0mlist\u001b[0m\u001b[1;33m[\u001b[0m\u001b[1;34m'123'\u001b[0m\u001b[1;33m]\u001b[0m\u001b[1;33m\u001b[0m\u001b[1;33m\u001b[0m\u001b[0m\n\u001b[0m\u001b[0;32m      2\u001b[0m \u001b[0mlist\u001b[0m\u001b[1;33m[\u001b[0m\u001b[1;36m123\u001b[0m\u001b[1;33m]\u001b[0m\u001b[1;33m\u001b[0m\u001b[1;33m\u001b[0m\u001b[0m\n\u001b[0;32m      3\u001b[0m \u001b[1;33m[\u001b[0m\u001b[1;33m]\u001b[0m\u001b[1;33m\u001b[0m\u001b[1;33m\u001b[0m\u001b[0m\n\u001b[0;32m      4\u001b[0m \u001b[1;33m(\u001b[0m\u001b[1;33m)\u001b[0m\u001b[1;33m\u001b[0m\u001b[1;33m\u001b[0m\u001b[0m\n\u001b[0;32m      5\u001b[0m \u001b[0mlist\u001b[0m\u001b[1;33m(\u001b[0m\u001b[1;36m123\u001b[0m\u001b[1;33m)\u001b[0m\u001b[1;33m\u001b[0m\u001b[1;33m\u001b[0m\u001b[0m\n",
      "\u001b[1;31mTypeError\u001b[0m: 'type' object is not subscriptable"
     ]
    }
   ],
   "source": [
    "#list['123']\n",
    "#list[123]\n",
    "[]\n",
    "#()\n",
    "list(123)\n",
    "[True, []]\n",
    "[123]\n",
    "list()"
   ]
  },
  {
   "cell_type": "code",
   "execution_count": 15,
   "metadata": {},
   "outputs": [
    {
     "ename": "TypeError",
     "evalue": "'int' object is not iterable",
     "output_type": "error",
     "traceback": [
      "\u001b[1;31m---------------------------------------------------------------------------\u001b[0m",
      "\u001b[1;31mTypeError\u001b[0m                                 Traceback (most recent call last)",
      "\u001b[1;32m<ipython-input-15-1c325c17b3d1>\u001b[0m in \u001b[0;36m<module>\u001b[1;34m\u001b[0m\n\u001b[1;32m----> 1\u001b[1;33m \u001b[0mlist\u001b[0m\u001b[1;33m(\u001b[0m\u001b[1;36m123\u001b[0m\u001b[1;33m)\u001b[0m\u001b[1;33m\u001b[0m\u001b[1;33m\u001b[0m\u001b[0m\n\u001b[0m",
      "\u001b[1;31mTypeError\u001b[0m: 'int' object is not iterable"
     ]
    }
   ],
   "source": [
    "list(123)"
   ]
  },
  {
   "cell_type": "code",
   "execution_count": null,
   "metadata": {},
   "outputs": [],
   "source": [
    "bos = set()"
   ]
  },
  {
   "cell_type": "code",
   "execution_count": null,
   "metadata": {},
   "outputs": [],
   "source": [
    "bos."
   ]
  },
  {
   "cell_type": "code",
   "execution_count": 18,
   "metadata": {},
   "outputs": [
    {
     "ename": "SyntaxError",
     "evalue": "invalid syntax (<ipython-input-18-3625aafc3b50>, line 4)",
     "output_type": "error",
     "traceback": [
      "\u001b[1;36m  File \u001b[1;32m\"<ipython-input-18-3625aafc3b50>\"\u001b[1;36m, line \u001b[1;32m4\u001b[0m\n\u001b[1;33m    print(a union(b))\u001b[0m\n\u001b[1;37m            ^\u001b[0m\n\u001b[1;31mSyntaxError\u001b[0m\u001b[1;31m:\u001b[0m invalid syntax\n"
     ]
    }
   ],
   "source": [
    "a = set('philadelphia')\n",
    "b = set('dolphin')\n",
    "\n",
    "print(a union(b))"
   ]
  },
  {
   "cell_type": "code",
   "execution_count": 19,
   "metadata": {},
   "outputs": [
    {
     "data": {
      "text/plain": [
       "{'/', '0', '1', '2', '4'}"
      ]
     },
     "execution_count": 19,
     "metadata": {},
     "output_type": "execute_result"
    }
   ],
   "source": [
    "set(\"04/14/2021\")  # sadece birf elemani aldi"
   ]
  },
  {
   "cell_type": "code",
   "execution_count": 23,
   "metadata": {},
   "outputs": [
    {
     "data": {
      "text/plain": [
       "['0', '4', '/', '1', '4', '/', '2', '0', '2', '1']"
      ]
     },
     "execution_count": 23,
     "metadata": {},
     "output_type": "execute_result"
    }
   ],
   "source": [
    "list(\"04/14/2021\")"
   ]
  },
  {
   "cell_type": "code",
   "execution_count": 22,
   "metadata": {},
   "outputs": [
    {
     "name": "stdout",
     "output_type": "stream",
     "text": [
      "{'04/14/2021'}\n"
     ]
    },
    {
     "data": {
      "text/plain": [
       "set"
      ]
     },
     "execution_count": 22,
     "metadata": {},
     "output_type": "execute_result"
    }
   ],
   "source": [
    "degisken = {\"04/14/2021\"}  \n",
    "print(degisken)\n",
    "type(degisken)"
   ]
  },
  {
   "cell_type": "code",
   "execution_count": 25,
   "metadata": {},
   "outputs": [],
   "source": [
    "given_list = [1,2,3,3,3,4,4,5,5]"
   ]
  },
  {
   "cell_type": "code",
   "execution_count": 26,
   "metadata": {},
   "outputs": [
    {
     "data": {
      "text/plain": [
       "{1, 2, 3, 4, 5}"
      ]
     },
     "execution_count": 26,
     "metadata": {},
     "output_type": "execute_result"
    }
   ],
   "source": [
    "set(given_list)  # unig lerinizi bulduk"
   ]
  },
  {
   "cell_type": "code",
   "execution_count": 30,
   "metadata": {},
   "outputs": [
    {
     "name": "stdout",
     "output_type": "stream",
     "text": [
      "{'a', 'h', 's'}\n",
      "{'h', 'o', 'i', 'n', 'g', 'e', 'W', 't', 'a', 'l', 's'}\n",
      "{'l', 'e', 'g'}\n",
      "{'h', 'o', 'i', 't', 'n', 's', 'g', 'e', 'l', 'a', 'W'}\n",
      "{'o', 'i', 'n', 't', 'W'}\n"
     ]
    }
   ],
   "source": [
    "a = set(\"Washinhton\")\n",
    "b = set(\"Wellington\")\n",
    "\n",
    "print(a.difference(b))\n",
    "print(a.union(b))\n",
    "print(b.difference(a))\n",
    "print(b.union(a))\n",
    "print(a.intersection(b))"
   ]
  },
  {
   "cell_type": "code",
   "execution_count": 21,
   "metadata": {},
   "outputs": [
    {
     "name": "stdout",
     "output_type": "stream",
     "text": [
      "{'d', 'h', 'p', 'l', 'i', 'e', 'a'}\n",
      "{'d', 'h', 'p', 'n', 'l', 'o', 'i'}\n"
     ]
    }
   ],
   "source": [
    "a = set(\"philadelphia\")   # set de elemanlari tek aliyor\n",
    "b = set(\"dolphin\")\n",
    "\n",
    "print(a)\n",
    "print(b)"
   ]
  },
  {
   "cell_type": "code",
   "execution_count": 22,
   "metadata": {},
   "outputs": [
    {
     "name": "stdout",
     "output_type": "stream",
     "text": [
      "{'d', 'h', 'p', 'l', 'i'}\n"
     ]
    }
   ],
   "source": [
    "x = a.intersection(b)  # kesisim elemanlarini veriyor ortak eelmanlarini\n",
    "print(x)"
   ]
  },
  {
   "cell_type": "code",
   "execution_count": 23,
   "metadata": {},
   "outputs": [
    {
     "data": {
      "text/plain": [
       "{'a', 'd', 'e', 'h', 'i', 'l', 'n', 'o', 'p'}"
      ]
     },
     "execution_count": 23,
     "metadata": {},
     "output_type": "execute_result"
    }
   ],
   "source": [
    "y = a.union(b)  # union methodu bilesenlerini verir\n",
    "y"
   ]
  },
  {
   "cell_type": "code",
   "execution_count": 26,
   "metadata": {},
   "outputs": [
    {
     "data": {
      "text/plain": [
       "{'a', 'e'}"
      ]
     },
     "execution_count": 26,
     "metadata": {},
     "output_type": "execute_result"
    }
   ],
   "source": [
    "z = a.difference(b)  # a fark b \n",
    "z"
   ]
  },
  {
   "cell_type": "code",
   "execution_count": 4,
   "metadata": {},
   "outputs": [
    {
     "name": "stdout",
     "output_type": "stream",
     "text": [
      "{'04/16/2021'}\n",
      "<class 'set'>\n"
     ]
    }
   ],
   "source": [
    "date = {\"04/16/2021\"}  # bu sekilde olusan kume tek elemanli oluyor \n",
    "print(date)\n",
    "print(type(date))"
   ]
  },
  {
   "cell_type": "code",
   "execution_count": 3,
   "metadata": {},
   "outputs": [
    {
     "data": {
      "text/plain": [
       "{'/', '0', '1', '2', '4', '6'}"
      ]
     },
     "execution_count": 3,
     "metadata": {},
     "output_type": "execute_result"
    }
   ],
   "source": [
    "set(\"04/16/2020\")  # bu sekilde butun elemaalarina ayiriyor"
   ]
  },
  {
   "cell_type": "markdown",
   "metadata": {},
   "source": [
    "###  Task  Given a list create a set to select and print the unique elements of the it"
   ]
  },
  {
   "cell_type": "code",
   "execution_count": 9,
   "metadata": {},
   "outputs": [
    {
     "name": "stdout",
     "output_type": "stream",
     "text": [
      "{1, 2, 3, 4, 5}\n"
     ]
    }
   ],
   "source": [
    "given_list = [1,2,3,3,3,4,4,5,5]  # uniq elemanlari bulmamizi istiyor o da kume ile bulunur\n",
    "print(set(given_list))    \n",
    "    "
   ]
  },
  {
   "cell_type": "markdown",
   "metadata": {},
   "source": [
    "### Task : Create two sets of string data from the capitals of t he USA and New Zealand\n",
    "-Perform all set operations \n",
    "intersection\n",
    "union \n",
    "Difference"
   ]
  },
  {
   "cell_type": "code",
   "execution_count": 14,
   "metadata": {},
   "outputs": [
    {
     "name": "stdout",
     "output_type": "stream",
     "text": [
      "{'t', 'o', 'g', 'a', 'i', 'h', 'n', 's', 'W'}\n",
      "{'t', 'o', 'g', 'i', 'n', 'e', 'W', 'l'}\n",
      "{'t', 'o', 'g', 'a', 'i', 'h', 'n', 's', 'e', 'W', 'l'}\n",
      "{'s', 'a', 'h'}\n"
     ]
    }
   ],
   "source": [
    "country1 = set(\"Washington\")\n",
    "country2 = set(\"Wellington\") \n",
    "\n",
    "print(country1)\n",
    "print(country2)\n",
    "\n",
    "\n",
    "\n",
    "\n",
    "\n",
    "y = country1.union(country2)\n",
    "print(y)\n",
    "\n",
    "\n",
    "\n",
    "print(country1 - country2)"
   ]
  },
  {
   "cell_type": "code",
   "execution_count": 18,
   "metadata": {},
   "outputs": [
    {
     "name": "stdout",
     "output_type": "stream",
     "text": [
      "{'o', 'g', 'i', 'n', 't', 'W'}\n",
      "{'o', 'g', 'i', 'n', 't', 'W'}\n"
     ]
    }
   ],
   "source": [
    "x = country1.intersection(country2)  #  ortak elemanlari bulma yöntemi kesisim kumeleri\n",
    "print(x)\n",
    "\n",
    "print(country1 & country2)"
   ]
  },
  {
   "cell_type": "code",
   "execution_count": 17,
   "metadata": {},
   "outputs": [
    {
     "name": "stdout",
     "output_type": "stream",
     "text": [
      "{'s', 'a', 'h'}\n",
      "{'s', 'a', 'h'}\n"
     ]
    }
   ],
   "source": [
    "z = country1.difference(country2) # Farklari\n",
    "print(z)\n",
    "\n",
    "print(country1-country2)"
   ]
  },
  {
   "cell_type": "code",
   "execution_count": null,
   "metadata": {},
   "outputs": [],
   "source": []
  },
  {
   "cell_type": "code",
   "execution_count": 32,
   "metadata": {},
   "outputs": [
    {
     "name": "stdout",
     "output_type": "stream",
     "text": [
      "hello\n",
      "clarusway\n",
      "world\n"
     ]
    }
   ],
   "source": [
    "print(\"hello\")\n",
    "print(\"clarusway\")\n",
    "print(\"world\")"
   ]
  },
  {
   "cell_type": "code",
   "execution_count": null,
   "metadata": {},
   "outputs": [],
   "source": [
    "if condition:\n",
    "    body\n",
    "    body2\n",
    "    body"
   ]
  },
  {
   "cell_type": "code",
   "execution_count": 34,
   "metadata": {},
   "outputs": [
    {
     "name": "stdout",
     "output_type": "stream",
     "text": [
      "it is true\n"
     ]
    }
   ],
   "source": [
    "if True:\n",
    "    print(\"it is true\")"
   ]
  },
  {
   "cell_type": "code",
   "execution_count": 36,
   "metadata": {},
   "outputs": [],
   "source": [
    "if False:\n",
    "    print(\"it is false\")"
   ]
  },
  {
   "cell_type": "code",
   "execution_count": 37,
   "metadata": {},
   "outputs": [
    {
     "name": "stdout",
     "output_type": "stream",
     "text": [
      "ben\n"
     ]
    }
   ],
   "source": [
    "if 1:\n",
    "    print(\"ben\")"
   ]
  },
  {
   "cell_type": "code",
   "execution_count": 38,
   "metadata": {},
   "outputs": [],
   "source": [
    "if 0:\n",
    "    print(\"ben\")"
   ]
  },
  {
   "cell_type": "code",
   "execution_count": 39,
   "metadata": {},
   "outputs": [],
   "source": [
    "if None:\n",
    "print(\"1\")"
   ]
  },
  {
   "cell_type": "code",
   "execution_count": 41,
   "metadata": {},
   "outputs": [],
   "source": [
    "minced = True\n",
    "bread = True\n",
    "\n",
    "#greens\n",
    "lettuce = False\n",
    "pepper = False\n",
    "\n",
    "store = True\n",
    "\n"
   ]
  },
  {
   "cell_type": "code",
   "execution_count": 44,
   "metadata": {},
   "outputs": [],
   "source": [
    "hamburger = (minced and store and bread) and (lettuce or pepper)"
   ]
  },
  {
   "cell_type": "code",
   "execution_count": 45,
   "metadata": {},
   "outputs": [
    {
     "data": {
      "text/plain": [
       "False"
      ]
     },
     "execution_count": 45,
     "metadata": {},
     "output_type": "execute_result"
    }
   ],
   "source": [
    "hamburger\n"
   ]
  },
  {
   "cell_type": "code",
   "execution_count": 53,
   "metadata": {},
   "outputs": [
    {
     "data": {
      "text/plain": [
       "'ELEVEN PLUS TWO'"
      ]
     },
     "execution_count": 53,
     "metadata": {},
     "output_type": "execute_result"
    }
   ],
   "source": [
    "a = set(\"TWELVE PLUS ONE\")\n",
    "b = (\"ELEVEN PLUS TWO\")\n",
    "a\n",
    "b"
   ]
  },
  {
   "cell_type": "code",
   "execution_count": 51,
   "metadata": {},
   "outputs": [
    {
     "data": {
      "text/plain": [
       "True"
      ]
     },
     "execution_count": 51,
     "metadata": {},
     "output_type": "execute_result"
    }
   ],
   "source": [
    "a == b"
   ]
  },
  {
   "cell_type": "code",
   "execution_count": 52,
   "metadata": {},
   "outputs": [
    {
     "name": "stdout",
     "output_type": "stream",
     "text": [
      "True\n"
     ]
    }
   ],
   "source": [
    "print(a==b)"
   ]
  },
  {
   "cell_type": "code",
   "execution_count": 59,
   "metadata": {},
   "outputs": [
    {
     "name": "stdout",
     "output_type": "stream",
     "text": [
      "write your answer Yes or No : yes\n"
     ]
    }
   ],
   "source": [
    "a = input(\"write your answer Yes or No : \").title().strip() == \"Yes\"  # Ne girerse girsin bas harfi buyuk digerleri kucuk olur\n",
    "if a ==\"Yes\":                                       #  strip basindan ve sonun dan bosluklari aliyor       \n",
    "    print(True)  "
   ]
  },
  {
   "cell_type": "code",
   "execution_count": 60,
   "metadata": {},
   "outputs": [
    {
     "name": "stdout",
     "output_type": "stream",
     "text": [
      "Enter Yes or No : yes\n",
      "You entered : True\n"
     ]
    }
   ],
   "source": [
    "convert = input(\"Enter Yes or No : \").title().strip() == \"Yes\"\n",
    "print(\"You entered :\", convert)\n"
   ]
  },
  {
   "cell_type": "code",
   "execution_count": null,
   "metadata": {},
   "outputs": [],
   "source": []
  },
  {
   "cell_type": "code",
   "execution_count": null,
   "metadata": {},
   "outputs": [],
   "source": [
    "print(\"You entered :\",input(\"Enter Yes or No : \").title().strip() == \"Yes\")"
   ]
  },
  {
   "cell_type": "code",
   "execution_count": 2,
   "metadata": {},
   "outputs": [
    {
     "name": "stdout",
     "output_type": "stream",
     "text": [
      "Enter a number : 15\n",
      "15 is Odd\n"
     ]
    }
   ],
   "source": [
    "number = int(input(\"Enter a number : \"))  #  sayi cift mi tek mi \n",
    "if number %2 == 0 :\n",
    "    print(\"{} is Even\".format(number))\n",
    "else :\n",
    "    print(\"{} is Odd\".format(number))"
   ]
  },
  {
   "cell_type": "code",
   "execution_count": 1,
   "metadata": {},
   "outputs": [
    {
     "name": "stdout",
     "output_type": "stream",
     "text": [
      "You entered a number : 654\n",
      "positive number\n"
     ]
    }
   ],
   "source": [
    "number = float(input(\"You entered a number : \"))\n",
    "if number > 0 :\n",
    "    print(\"positive number\")\n",
    "else:\n",
    "    print(\"Negatif number\")"
   ]
  },
  {
   "cell_type": "code",
   "execution_count": 3,
   "metadata": {},
   "outputs": [
    {
     "name": "stdout",
     "output_type": "stream",
     "text": [
      "Enter number 1:  65\n",
      "Enter number 2: 98\n",
      "number2 bigger than number1\n"
     ]
    }
   ],
   "source": [
    "number1 = float(input(\"Enter number 1:  \"))\n",
    "number2 = float(input(\"Enter number 2: \"))\n",
    "\n",
    "if number1 > number2:\n",
    "    print(\"number1 bigger than number2\")\n",
    "else :\n",
    "    print(\"number2 bigger than number1\")\n"
   ]
  },
  {
   "cell_type": "code",
   "execution_count": 4,
   "metadata": {},
   "outputs": [
    {
     "name": "stdout",
     "output_type": "stream",
     "text": [
      "Enter number 1:  15\n",
      "Enter number 2: 35\n",
      "The larger number is : 35.0\n"
     ]
    }
   ],
   "source": [
    "number1 = float(input(\"Enter number 1:  \"))\n",
    "number2 = float(input(\"Enter number 2: \"))\n",
    "\n",
    "if number1 > number2 :\n",
    "    larger = number1\n",
    "else :\n",
    "    larger = number2\n",
    "    \n",
    "print(\"The larger number is :\",larger)    "
   ]
  },
  {
   "cell_type": "code",
   "execution_count": null,
   "metadata": {},
   "outputs": [],
   "source": [
    "number1 = float(input(\"Enter number 1:  \"))\n",
    "number2 = float(input(\"Enter number 2: \"))\n",
    "\n",
    "if number1 > number2 : \n",
    "    print(\"the larger number \")"
   ]
  },
  {
   "cell_type": "code",
   "execution_count": 5,
   "metadata": {},
   "outputs": [
    {
     "name": "stdout",
     "output_type": "stream",
     "text": [
      "Yes\n"
     ]
    }
   ],
   "source": [
    "convert = True\n",
    "if  convert :\n",
    "    print(\"Yes\")\n",
    "else :\n",
    "    print(\"No\")"
   ]
  },
  {
   "cell_type": "code",
   "execution_count": 2,
   "metadata": {},
   "outputs": [],
   "source": [
    "bool_value = False"
   ]
  },
  {
   "cell_type": "code",
   "execution_count": 3,
   "metadata": {},
   "outputs": [
    {
     "name": "stdout",
     "output_type": "stream",
     "text": [
      "No\n"
     ]
    }
   ],
   "source": [
    "if bool_value : \n",
    "    print(\"Yes\")\n",
    "else:\n",
    "    print(\"No\")"
   ]
  },
  {
   "cell_type": "code",
   "execution_count": 1,
   "metadata": {},
   "outputs": [
    {
     "name": "stdout",
     "output_type": "stream",
     "text": [
      "There is a stiil to seat\n"
     ]
    }
   ],
   "source": [
    "seat_number = 15\n",
    "\n",
    "if seat_number > 5:\n",
    "    print(\"There is a stiil to seat\")"
   ]
  },
  {
   "cell_type": "code",
   "execution_count": 2,
   "metadata": {},
   "outputs": [
    {
     "data": {
      "text/plain": [
       "True"
      ]
     },
     "execution_count": 2,
     "metadata": {},
     "output_type": "execute_result"
    }
   ],
   "source": [
    "5 == 5"
   ]
  },
  {
   "cell_type": "code",
   "execution_count": 3,
   "metadata": {},
   "outputs": [
    {
     "data": {
      "text/plain": [
       "False"
      ]
     },
     "execution_count": 3,
     "metadata": {},
     "output_type": "execute_result"
    }
   ],
   "source": [
    "5 != 5"
   ]
  },
  {
   "cell_type": "code",
   "execution_count": 5,
   "metadata": {},
   "outputs": [
    {
     "ename": "SyntaxError",
     "evalue": "cannot assign to literal (<ipython-input-5-3b292c046153>, line 1)",
     "output_type": "error",
     "traceback": [
      "\u001b[1;36m  File \u001b[1;32m\"<ipython-input-5-3b292c046153>\"\u001b[1;36m, line \u001b[1;32m1\u001b[0m\n\u001b[1;33m    5 =get_ipython().getoutput(' 5')\u001b[0m\n\u001b[1;37m    ^\u001b[0m\n\u001b[1;31mSyntaxError\u001b[0m\u001b[1;31m:\u001b[0m cannot assign to literal\n"
     ]
    }
   ],
   "source": [
    "5 =! 5"
   ]
  },
  {
   "cell_type": "code",
   "execution_count": 6,
   "metadata": {},
   "outputs": [
    {
     "data": {
      "text/plain": [
       "True"
      ]
     },
     "execution_count": 6,
     "metadata": {},
     "output_type": "execute_result"
    }
   ],
   "source": [
    "6 != 8"
   ]
  },
  {
   "cell_type": "code",
   "execution_count": 7,
   "metadata": {},
   "outputs": [
    {
     "data": {
      "text/plain": [
       "False"
      ]
     },
     "execution_count": 7,
     "metadata": {},
     "output_type": "execute_result"
    }
   ],
   "source": [
    "18 >= 30"
   ]
  },
  {
   "cell_type": "code",
   "execution_count": 9,
   "metadata": {},
   "outputs": [
    {
     "name": "stdout",
     "output_type": "stream",
     "text": [
      "you guarnteed the job\n"
     ]
    }
   ],
   "source": [
    "course = \"clarusway\"\n",
    "\n",
    "if course == \"clarusway\":\n",
    "    print(\"you guarnteed the job\")\n",
    "else:\n",
    "    print(\"think aboub it again\")"
   ]
  },
  {
   "cell_type": "code",
   "execution_count": 10,
   "metadata": {},
   "outputs": [
    {
     "name": "stdout",
     "output_type": "stream",
     "text": [
      "Number is bigger than 5\n"
     ]
    }
   ],
   "source": [
    "number = 10\n",
    "if number <=5:\n",
    "    print(\"Number is samaller than or equal to 5\")\n",
    "else:\n",
    "    print(\"Number is bigger than 5\")"
   ]
  },
  {
   "cell_type": "code",
   "execution_count": 14,
   "metadata": {},
   "outputs": [
    {
     "name": "stdout",
     "output_type": "stream",
     "text": [
      "I can have a little \n"
     ]
    }
   ],
   "source": [
    "basket = ['apple', 'peach', 'blackberry']\n",
    "fruit = 'ananas'\n",
    "\n",
    "if fruit not in basket:\n",
    "    print(\"I can have a little \")\n",
    "else:\n",
    "    print(\"I have already\")"
   ]
  },
  {
   "cell_type": "code",
   "execution_count": 16,
   "metadata": {},
   "outputs": [
    {
     "name": "stdout",
     "output_type": "stream",
     "text": [
      "Enter Your Weight : 55\n",
      "That is too light\n"
     ]
    }
   ],
   "source": [
    "weight = float(input(\"Enter Your Weight : \"))\n",
    "\n",
    "if weight > 85:\n",
    "    print(\"That is too heav!\")\n",
    "elif weight > 65:\n",
    "    print(\"I can lift that!\")\n",
    "else:\n",
    "    print(\"That is too light\")"
   ]
  },
  {
   "cell_type": "code",
   "execution_count": 18,
   "metadata": {},
   "outputs": [
    {
     "name": "stdout",
     "output_type": "stream",
     "text": [
      "The number is equal or greater than 10\n"
     ]
    }
   ],
   "source": [
    "number = 23\n",
    "if number >= 10:\n",
    "    print(\"The number is equal or greater than 10\")\n",
    "elif number <= 10:\n",
    "    print(\"The number is less than 10\")"
   ]
  },
  {
   "cell_type": "code",
   "execution_count": 19,
   "metadata": {},
   "outputs": [
    {
     "name": "stdout",
     "output_type": "stream",
     "text": [
      "discounted price!\n"
     ]
    }
   ],
   "source": [
    "audience_group = 'kid', 'teen', 'adult'\n",
    "\n",
    "audience = \"teen\"\n",
    "\n",
    "if audience in audience_group:\n",
    "    if audience == \"kid\":\n",
    "        print(\"it is free to go to cinema\")\n",
    "    elif audience == \"teen\":\n",
    "        print(\"discounted price!\")\n",
    "    else: # audience == \"adult\":\n",
    "        print(\"normal price\")\n",
    "else:\n",
    "    print(\"No such audience, stay at your home!\")"
   ]
  },
  {
   "cell_type": "code",
   "execution_count": 20,
   "metadata": {},
   "outputs": [
    {
     "name": "stdout",
     "output_type": "stream",
     "text": [
      "Enter your score :15\n",
      "Your degree: below B\n"
     ]
    }
   ],
   "source": [
    "score = int (input(\"Enter your score :\"))\n",
    "\n",
    "if score >= 90:\n",
    "    if score >= 95:\n",
    "        Score_letter=\"A+\"\n",
    "    else:\n",
    "        Score_letter=\"A\"\n",
    "elif score >= 80:\n",
    "    if score >= 85:\n",
    "        Score_letter=\"B+\"\n",
    "    else:\n",
    "        Score_letter=\"B\"\n",
    "else:\n",
    "    Score_letter=\"below B\"\n",
    "\n",
    "print (\"Your degree: %s\" % Score_letter)"
   ]
  },
  {
   "cell_type": "code",
   "execution_count": null,
   "metadata": {},
   "outputs": [],
   "source": []
  },
  {
   "cell_type": "code",
   "execution_count": null,
   "metadata": {},
   "outputs": [],
   "source": []
  },
  {
   "cell_type": "code",
   "execution_count": null,
   "metadata": {},
   "outputs": [],
   "source": []
  }
 ],
 "metadata": {
  "kernelspec": {
   "display_name": "Python 3",
   "language": "python",
   "name": "python3"
  },
  "language_info": {
   "codemirror_mode": {
    "name": "ipython",
    "version": 3
   },
   "file_extension": ".py",
   "mimetype": "text/x-python",
   "name": "python",
   "nbconvert_exporter": "python",
   "pygments_lexer": "ipython3",
   "version": "3.8.5"
  }
 },
 "nbformat": 4,
 "nbformat_minor": 4
}
