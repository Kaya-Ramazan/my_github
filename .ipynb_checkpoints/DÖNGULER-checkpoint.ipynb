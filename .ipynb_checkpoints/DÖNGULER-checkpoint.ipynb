{
 "cells": [
  {
   "cell_type": "code",
   "execution_count": null,
   "metadata": {},
   "outputs": [],
   "source": [
    "minced = True\n",
    "bread = True\n",
    "\n",
    "#green\n",
    "lettuce = False\n",
    "pepper = False\n",
    "\n",
    "store = True\n"
   ]
  },
  {
   "cell_type": "code",
   "execution_count": null,
   "metadata": {},
   "outputs": [],
   "source": [
    "minced = True\n",
    "bread = True\n",
    "\n",
    "#green\n",
    "lettuce = True\n",
    "pepper = False\n",
    "\n",
    "store = True"
   ]
  },
  {
   "cell_type": "code",
   "execution_count": null,
   "metadata": {},
   "outputs": [],
   "source": [
    "hamburger = (minced and store and bread) and (lettuce or pepper)  # Task da olmazsa olmazlar True denildi ve and parametresi ile \n",
    "                                                                # baglandi cunku neticesini True istiyoruz Bir tane false olsa netice \n",
    "                                                                # false olur"
   ]
  },
  {
   "cell_type": "code",
   "execution_count": null,
   "metadata": {},
   "outputs": [],
   "source": [
    "hamburger\n"
   ]
  },
  {
   "cell_type": "code",
   "execution_count": null,
   "metadata": {},
   "outputs": [],
   "source": [
    "if hamburger : \n",
    "    print(\"Bon Apetite\")"
   ]
  },
  {
   "cell_type": "code",
   "execution_count": null,
   "metadata": {},
   "outputs": [],
   "source": [
    "print(1 == 1)\n",
    "print(12 > 12.1)\n",
    "print(\"Akif\" == \"Orhan\")\n",
    "print(15 <= 25)\n",
    "print(25 != 15)"
   ]
  },
  {
   "cell_type": "markdown",
   "metadata": {},
   "source": [
    "#### Task \n",
    "Create  two sets ( using set() function with the given srting values below\n",
    "Compare tehese sets and print out \"We are the same!\"if they are equal, do nothing if they are not.\n",
    "\n",
    "\"Twelveplus one\"\n",
    "\"Eleven Plus Two\""
   ]
  },
  {
   "cell_type": "code",
   "execution_count": null,
   "metadata": {},
   "outputs": [],
   "source": [
    "x = set(\"Twelve plus one\").\n",
    "y = set(\"Eleven Plus two\")\n",
    "\n",
    "x == y\n",
    "\n"
   ]
  },
  {
   "cell_type": "code",
   "execution_count": null,
   "metadata": {},
   "outputs": [],
   "source": [
    "sayilar = [7,22,3,8,5,7,3]  # sum()fonksiyonu toplama yapar \n",
    "print(sum(sayilar))"
   ]
  },
  {
   "cell_type": "code",
   "execution_count": null,
   "metadata": {},
   "outputs": [],
   "source": [
    "meyveler = [\"apple\", \"banana\", \"cherry\"]\n",
    "for meyve in meyveler:\n",
    "  print(meyve)"
   ]
  },
  {
   "cell_type": "code",
   "execution_count": null,
   "metadata": {},
   "outputs": [],
   "source": [
    "count = list(range(15))  # range ile siralama yaptik\n",
    "print(count)\n",
    "\n",
    "print(count[2:16:2])"
   ]
  },
  {
   "cell_type": "markdown",
   "metadata": {},
   "source": [
    "### TASK : write python program to Find the Largest Among Three Numbers\n",
    "Write a program that prints which of the three numbers the users entered is tehe largest\n",
    "print the  result such as :\"The largest number is 4\"   \n",
    "\n",
    "( SORUN: Üç Sayı Arasında En Büyük Olanı Bulmak için python programı yazın\n",
    "Kullanıcıların girdiği üç sayıdan hangisinin en büyük olduğunu yazdıran bir program yazın\n",
    "sonucu şu şekilde yazdırın: \"En büyük sayı 4\")"
   ]
  },
  {
   "cell_type": "code",
   "execution_count": null,
   "metadata": {},
   "outputs": [],
   "source": [
    "number1 = int(input(\"Enter the first number\"))\n",
    "number2 = int(input(\"Enter the second number\"))\n",
    "number3 = int(input(\"Enter the third number\"))\n",
    "\n",
    "if(number1 > number2) and (number1 > number2):\n",
    "    print(\"The largest number1\")\n",
    "elif(number2 > number1) and (number2 > number3):\n",
    "    print(\"The largest number2\")\n",
    "else:\n",
    "    print(\"The largest number3\")\n",
    "\n",
    "    "
   ]
  },
  {
   "cell_type": "code",
   "execution_count": null,
   "metadata": {},
   "outputs": [],
   "source": [
    "number1 = int(input(\"Enter the first number\"))\n",
    "number2 = int(input(\"Enter the second number\"))\n",
    "number3 = int(input(\"Enter the third number\"))\n",
    "\n",
    "if(number1 > number2) and (number1 > number2):\n",
    "    largest = number1\n",
    "elif(number2 > number1) and (number2 > number3):\n",
    "    largest = number2\n",
    "else:\n",
    "    largest = number3\n",
    "    print(\"The largest number is : \" , largest)"
   ]
  },
  {
   "cell_type": "markdown",
   "metadata": {},
   "source": [
    "###  Task : Write python årogram to check if a Number is Negative, Positive or zero.\n",
    "Write a program to check whether a numbedr entered by the user is negative, postive or zero\n",
    "print the result ssuch as :\" Negative number\" oo \" Zero\". "
   ]
  },
  {
   "cell_type": "code",
   "execution_count": null,
   "metadata": {},
   "outputs": [],
   "source": [
    "Degre = int(input(\"What is the wheatre Degre : \"))\n",
    "if Degre < 0:\n",
    "    degre = \"Negative\"\n",
    "elif Degre > 0:\n",
    "    degre = \"Positive\"\n",
    "else:\n",
    "    degre = 0\n",
    "print(\"The wheatre is : \",format(degre))    "
   ]
  },
  {
   "cell_type": "markdown",
   "metadata": {},
   "source": [
    "### Nested if - elif -else\n",
    "Lets write a program that asks you enter  your exam scoore and calculate is the range in which your degree is basde on your exam score .The output wpuld be :e.g., \"Your degre is B+\n",
    "\n",
    "95 and above --\"A+\"\n",
    "90-94 -- \"A\"\n",
    "85-89 --\"B+\"\n",
    "80-84 --\"B\"\n",
    "79 and below --\"Below B\" or \"B\"\n"
   ]
  },
  {
   "cell_type": "code",
   "execution_count": null,
   "metadata": {},
   "outputs": [],
   "source": [
    "score = int(input (\"Enter your score : \"))\n",
    "\n",
    "if score >= 90:\n",
    "    if score >= 95:\n",
    "        degre = \"A+\"\n",
    "    else:\n",
    "        score = \"A\"\n",
    "elif score >= 80:\n",
    "    if score >=85:\n",
    "        degre = \"B+\"\n",
    "    else:\n",
    "        degre = \"B\"\n",
    "else:\n",
    "    score = \"Below B\"\n",
    "\n",
    "print(\"Your degre is : \", degre)    "
   ]
  },
  {
   "cell_type": "markdown",
   "metadata": {},
   "source": [
    "### While  /for   loop \n"
   ]
  },
  {
   "cell_type": "code",
   "execution_count": null,
   "metadata": {},
   "outputs": [],
   "source": [
    "while 0 :    # 0 Falsy oldugu icin dönguye girmez bir siónraki satira gider\n",
    "    print(\"bir\")\n",
    "print(\"iki\")    "
   ]
  },
  {
   "cell_type": "code",
   "execution_count": null,
   "metadata": {},
   "outputs": [],
   "source": [
    "while[]:\n",
    "    print(\"while\")\n",
    "print(\"outside while\")    "
   ]
  },
  {
   "cell_type": "code",
   "execution_count": null,
   "metadata": {},
   "outputs": [],
   "source": [
    "number = 0\n",
    "\n",
    "while number < 6:\n",
    "    print(number)\n",
    "    number += 1           # dongunun ne zaman b itecegini belirliyor\n",
    "print(\"now, number is bigger or equal to 6\")"
   ]
  },
  {
   "cell_type": "code",
   "execution_count": null,
   "metadata": {},
   "outputs": [],
   "source": [
    "my_list = [ \"a\",\"b\",\"c\",\"d\",\"e\"]\n",
    "    \n",
    "a = 0 \n",
    "\n",
    "while a < len(my_list):\n",
    "    print(\"square of {} is : {}\".format(a,a**2))\n",
    "    a += 1      "
   ]
  },
  {
   "cell_type": "markdown",
   "metadata": {},
   "source": [
    "### Task . Take the age  of the user using Input(and while loop\n",
    "\n",
    "Write a program that;\n",
    "    Takes the age from users,\n",
    "    check the age if it is correct the numeric format"
   ]
  },
  {
   "cell_type": "code",
   "execution_count": null,
   "metadata": {},
   "outputs": [],
   "source": [
    "years = int(input(\"What is your age : \"))\n",
    "\n",
    "age = int\n",
    "\n",
    "while age == type(int()):\n",
    "    print(\"Great! You entered correct age: \", age)\n",
    "    age = \"it is not correct. Entered piease your age : \"\n",
    "\n"
   ]
  },
  {
   "cell_type": "code",
   "execution_count": null,
   "metadata": {},
   "outputs": [],
   "source": [
    "age = input(\"Enter your age : \")\n",
    "\n",
    "while not age.isdigit():\n",
    "    print(\"You entered incorrectly  : \")\n",
    "\n",
    "    age = input(\"Enter your age correctly please : \")\n",
    "    \n",
    "print(\"Great! You entered valid age : \", age )  \n"
   ]
  },
  {
   "cell_type": "code",
   "execution_count": null,
   "metadata": {},
   "outputs": [],
   "source": [
    "\"onalti\".isdigit()  # stringlere uygulanir sitring icerisine sayisal bir deger girerse True cikartit"
   ]
  },
  {
   "cell_type": "code",
   "execution_count": null,
   "metadata": {},
   "outputs": [],
   "source": [
    "\"16.0\".isdigit()"
   ]
  },
  {
   "cell_type": "code",
   "execution_count": null,
   "metadata": {},
   "outputs": [],
   "source": [
    "\"41\".isdigit()"
   ]
  },
  {
   "cell_type": "code",
   "execution_count": null,
   "metadata": {},
   "outputs": [],
   "source": [
    "While True:\n",
    "    print(\"Ayvayi yedik yandi gönlum\")\n",
    "    break"
   ]
  },
  {
   "cell_type": "markdown",
   "metadata": {},
   "source": [
    "###  Task : \n",
    "Lets play famous guessing number game using while loop\n",
    "\n",
    "write a program that;\n",
    "    Takes theh numbers from user,\n",
    "    Compares the number entered with the number you assigned and \n",
    "    then gives a message \"Little lower\" or \"Little heigher \" till the user knows it.\n",
    "    "
   ]
  },
  {
   "cell_type": "code",
   "execution_count": null,
   "metadata": {},
   "outputs": [],
   "source": [
    "number = int(input(\"Enter a number : \"))\n",
    "correct_number = 45\n",
    "\n",
    "while number != 45:\n",
    "    print(\"Your number is correct\")    "
   ]
  },
  {
   "cell_type": "code",
   "execution_count": null,
   "metadata": {},
   "outputs": [],
   "source": [
    "answer = 28      #  sayiyi bulana kadar sonosuz dönguye sokuyor  bildigimiz zaman break ile cikartiyor\n",
    "\n",
    "question = \"What a two -digit number am I think of? :  \"\n",
    "print(\"Lets play the guessing game!\")\n",
    "\n",
    "while True:\n",
    "    guess = int(input(question))\n",
    "    \n",
    "    if guess < answer:\n",
    "        print(\"Little higher\")\n",
    "    elif guess > answer:\n",
    "        print(\"Little lower\")\n",
    "    else:  #   guess == answer\n",
    "        print(\"Are you a MINDREADER!!!\")\n",
    "        break"
   ]
  },
  {
   "cell_type": "code",
   "execution_count": null,
   "metadata": {},
   "outputs": [],
   "source": [
    "numbers = [3,5,6,3,3,3,4,4,4,6,8,1,0,2,5,7]"
   ]
  },
  {
   "cell_type": "code",
   "execution_count": null,
   "metadata": {},
   "outputs": [],
   "source": [
    "numbers.count(3)  # saymamiza yariyor"
   ]
  },
  {
   "cell_type": "code",
   "execution_count": null,
   "metadata": {},
   "outputs": [],
   "source": [
    "max(1,2,3)\n"
   ]
  },
  {
   "cell_type": "code",
   "execution_count": null,
   "metadata": {},
   "outputs": [],
   "source": [
    "empty = []\n",
    "max(empty, default = True)"
   ]
  },
  {
   "cell_type": "code",
   "execution_count": null,
   "metadata": {},
   "outputs": [],
   "source": [
    "numbers = [3,5,6,3,3,3,4,4,4,6,8,1,0,2,5,7]"
   ]
  },
  {
   "cell_type": "code",
   "execution_count": null,
   "metadata": {},
   "outputs": [],
   "source": [
    "max(numbers)"
   ]
  },
  {
   "cell_type": "code",
   "execution_count": null,
   "metadata": {},
   "outputs": [],
   "source": [
    "numbers.count(8)"
   ]
  },
  {
   "cell_type": "code",
   "execution_count": null,
   "metadata": {},
   "outputs": [],
   "source": [
    "numbers.count(3)"
   ]
  },
  {
   "cell_type": "code",
   "execution_count": null,
   "metadata": {},
   "outputs": [],
   "source": [
    "item = max(numbers, key = numbers.count)  # key numbers in her bir elemanina uygulanir \n",
    "                                    # yani her bir elemanini count iel sayar"
   ]
  },
  {
   "cell_type": "code",
   "execution_count": null,
   "metadata": {},
   "outputs": [],
   "source": [
    "numbers.count(item)"
   ]
  },
  {
   "cell_type": "code",
   "execution_count": null,
   "metadata": {},
   "outputs": [],
   "source": [
    "numbers.count(max(numbers, key = numbers.count))"
   ]
  },
  {
   "cell_type": "code",
   "execution_count": null,
   "metadata": {},
   "outputs": [],
   "source": [
    "number = [15,25,3,6,8,6,7,9,9,45,5,6,4,2,1,8,7,9,5,8,4,6,2,5,48]"
   ]
  },
  {
   "cell_type": "code",
   "execution_count": null,
   "metadata": {
    "scrolled": false
   },
   "outputs": [],
   "source": [
    "max(number)"
   ]
  },
  {
   "cell_type": "code",
   "execution_count": null,
   "metadata": {},
   "outputs": [],
   "source": [
    "number.count(48)"
   ]
  },
  {
   "cell_type": "code",
   "execution_count": null,
   "metadata": {},
   "outputs": [],
   "source": [
    "item =(max(number, key =number.count))"
   ]
  },
  {
   "cell_type": "code",
   "execution_count": null,
   "metadata": {},
   "outputs": [],
   "source": [
    "item"
   ]
  },
  {
   "cell_type": "code",
   "execution_count": null,
   "metadata": {},
   "outputs": [],
   "source": [
    "number.count(item)"
   ]
  },
  {
   "cell_type": "markdown",
   "metadata": {},
   "source": [
    "### Mevcut Lıstemizi hepsini ayni islemi yaptiracak seye Döngu denir"
   ]
  },
  {
   "cell_type": "code",
   "execution_count": null,
   "metadata": {},
   "outputs": [],
   "source": [
    "liste = [1,2,3,4,5,6]"
   ]
  },
  {
   "cell_type": "code",
   "execution_count": null,
   "metadata": {},
   "outputs": [],
   "source": [
    "print(liste[0])\n",
    "print(liste[1])\n",
    "print(liste[2])\n",
    "print(liste[3])"
   ]
  },
  {
   "cell_type": "code",
   "execution_count": null,
   "metadata": {
    "scrolled": true
   },
   "outputs": [],
   "source": [
    "for rakam in liste:   # yukardaki ayri ayri yapmaktansa for döngusus ile bu islemi kisa olarak yaptik\n",
    "    print(rakam)      # rakam for döngusus icerisinde oldugu surece bana yazdir"
   ]
  },
  {
   "cell_type": "code",
   "execution_count": null,
   "metadata": {},
   "outputs": [],
   "source": [
    "for i in liste:\n",
    "    print(i)"
   ]
  },
  {
   "cell_type": "code",
   "execution_count": null,
   "metadata": {},
   "outputs": [],
   "source": [
    "isim = \"Ahmet\""
   ]
  },
  {
   "cell_type": "code",
   "execution_count": null,
   "metadata": {},
   "outputs": [],
   "source": [
    "for harf in isim:\n",
    "    print(harf)"
   ]
  },
  {
   "cell_type": "code",
   "execution_count": null,
   "metadata": {},
   "outputs": [],
   "source": [
    "for i in isim:\n",
    "    print(i)"
   ]
  },
  {
   "cell_type": "code",
   "execution_count": null,
   "metadata": {},
   "outputs": [],
   "source": [
    "demet = (1,2,3,4)"
   ]
  },
  {
   "cell_type": "code",
   "execution_count": null,
   "metadata": {},
   "outputs": [],
   "source": [
    "for i in demet:\n",
    "    print(i)"
   ]
  },
  {
   "cell_type": "code",
   "execution_count": null,
   "metadata": {},
   "outputs": [],
   "source": [
    "for i in range(0,10):   # range fonksiyonu 0 dan 10 a kazdar (10 -1 )sayilari yazdir demek\n",
    "    print(i)"
   ]
  },
  {
   "cell_type": "code",
   "execution_count": null,
   "metadata": {},
   "outputs": [],
   "source": [
    "for i in range(1,17,2):   # (star stop step)\n",
    "    print(i)"
   ]
  },
  {
   "cell_type": "code",
   "execution_count": null,
   "metadata": {},
   "outputs": [],
   "source": [
    "sonuc = 1\n",
    "for i in range(0,10):  # 0 dan 9 dahil e kadar 2 ile carpildi\n",
    "    sonuc *= 2\n",
    "print(sonuc)    "
   ]
  },
  {
   "cell_type": "code",
   "execution_count": null,
   "metadata": {},
   "outputs": [],
   "source": [
    "liste1 = [\"a\",\"b\",\"c\"]            # for dönguleri ic ice yazilimi\n",
    "liste2 = [1,2,3]\n",
    "\n",
    "for harf in liste1:\n",
    "    for rakam in liste2:\n",
    "        print(harf,rakam)"
   ]
  },
  {
   "cell_type": "code",
   "execution_count": null,
   "metadata": {},
   "outputs": [],
   "source": [
    "liste = [1,2,3,4,5,6]   # biz sunu dedik listemizde 3 e gelince atla yazdirma devam et bir sonraki adima gec demek\n",
    "\n",
    "for i in liste:\n",
    "    if i ==3:\n",
    "        continue\n",
    "    print(i)"
   ]
  },
  {
   "cell_type": "code",
   "execution_count": null,
   "metadata": {},
   "outputs": [],
   "source": [
    "liste = [1,2,3,4,5,6]   # break is e dönduyu sonlandiriyor\n",
    "\n",
    "for i in liste:\n",
    "    if i ==3:\n",
    "        break    \n",
    "    print(i)"
   ]
  },
  {
   "cell_type": "code",
   "execution_count": null,
   "metadata": {},
   "outputs": [],
   "source": [
    "liste = range(100)   # sayimin 3 e bölumunden kalan 0 dan farkli ise yani3 e tam bölunmuyorsa devam et "
   ]
  },
  {
   "cell_type": "code",
   "execution_count": null,
   "metadata": {},
   "outputs": [],
   "source": [
    "liste = range(100)\n",
    "\n",
    "for i in liste:\n",
    "    if i % 3 != 0:\n",
    "        continue\n",
    "    if i == 81:\n",
    "        break\n",
    "    print(i) "
   ]
  },
  {
   "cell_type": "markdown",
   "metadata": {},
   "source": [
    "###  While döngusu belirli bir kosul saglandigi surece devam eder"
   ]
  },
  {
   "cell_type": "code",
   "execution_count": null,
   "metadata": {},
   "outputs": [],
   "source": [
    "x = 2\n",
    "\n",
    "while x < 10:\n",
    "    print(x)\n",
    "    x +=1"
   ]
  },
  {
   "cell_type": "code",
   "execution_count": null,
   "metadata": {},
   "outputs": [],
   "source": [
    "x = 4\n",
    "y = 5\n",
    "\n",
    "while x * y < 1000:\n",
    "    print(x,y)\n",
    "    x +=4\n",
    "    y +=5\n",
    "    "
   ]
  },
  {
   "cell_type": "markdown",
   "metadata": {},
   "source": [
    "###  100 e kadar olan tek sayilarin while True döngusu ile bulunmasi\n"
   ]
  },
  {
   "cell_type": "code",
   "execution_count": null,
   "metadata": {
    "scrolled": true
   },
   "outputs": [],
   "source": [
    "i = 1\n",
    "while True:\n",
    "    if i %2 == 0:\n",
    "        i += 1\n",
    "        continue\n",
    "    print(i)\n",
    "    i += 1\n",
    "    if i == 100:\n",
    "        break"
   ]
  },
  {
   "cell_type": "code",
   "execution_count": null,
   "metadata": {},
   "outputs": [],
   "source": [
    "number = 0\n",
    "\n",
    "while number < 6:\n",
    "    print(number)\n",
    "    number += 1\n",
    "print(\"now, number is bigger or equal to 6\")    "
   ]
  },
  {
   "cell_type": "code",
   "execution_count": null,
   "metadata": {},
   "outputs": [],
   "source": [
    "answer = 40       # Tahmin ettigimiz sayiyi bulmasina yönelik program yaptik\n",
    "\n",
    "question = \"What number am I thinking of ? \"\n",
    "print(\"Lets play the guessing game\")\n",
    "\n",
    "while True:\n",
    "    guess = int(input(question))\n",
    "    \n",
    "    if guess < answer:\n",
    "        print(\"Little higher\")\n",
    "    elif guess > answer:\n",
    "        print(\"Little lower\")\n",
    "    else:\n",
    "        print(\"Are you a MINDREADER!!\")\n",
    "        break\n",
    "\n"
   ]
  },
  {
   "cell_type": "code",
   "execution_count": null,
   "metadata": {},
   "outputs": [],
   "source": [
    "flowers = ['Rose', 'Orchid', 'Tulip']\n",
    "count1 = len(flowers)\n",
    "count2 = 0\n",
    "\n",
    "while count1>0 :\n",
    "    print(flowers[count2])\n",
    "    count1 -= 1\n",
    "    count2 += 1"
   ]
  },
  {
   "cell_type": "code",
   "execution_count": null,
   "metadata": {},
   "outputs": [],
   "source": [
    "seasons = [\"sprıng\",\"summer\",\"autumun\",\"winter\"]\n",
    "\n",
    "for i in seasons:\n",
    "    print(i)"
   ]
  },
  {
   "cell_type": "code",
   "execution_count": null,
   "metadata": {},
   "outputs": [],
   "source": [
    "iterable = [1,2,3,4]\n",
    "for i in iterable:\n",
    "    square = i**2\n",
    "    print(i, \"squared is\" square)    \n",
    "print(\"The for loop is complate\")    \n",
    "    "
   ]
  },
  {
   "cell_type": "code",
   "execution_count": null,
   "metadata": {},
   "outputs": [],
   "source": [
    "for n in [0,1,2,3,4,5]:\n",
    "    square = n**2\n",
    "    print(n,'squared is',square)\n",
    "print('The for loop is complete!')"
   ]
  },
  {
   "cell_type": "code",
   "execution_count": null,
   "metadata": {},
   "outputs": [],
   "source": [
    "sentence = int(input(\"Enter a sentence please: \"))\n",
    "\n",
    "while True:\n",
    "    if the sentence"
   ]
  },
  {
   "cell_type": "code",
   "execution_count": null,
   "metadata": {},
   "outputs": [],
   "source": [
    "uzunluk = []\n",
    "kelime = input(\"lütfen bir cümle giriniz\").split()\n",
    "for i in kelime:\n",
    "    uzunluk.append(len(i))\n",
    "print(max(uzunluk))"
   ]
  },
  {
   "cell_type": "code",
   "execution_count": null,
   "metadata": {},
   "outputs": [],
   "source": [
    "sentence = input(\"Give me a sentence please: \")\n",
    "words = sentence.split() \n",
    "i = 0\n",
    "longest = 0\n",
    "\n",
    "while i < len(words):\n",
    "    if len(words[i]) > longest:\n",
    "        llongest = len(words[i])\n",
    "    i += 1\n",
    "print(\"the lengt of the longest word is : \", longest)    \n",
    "    \n",
    "    "
   ]
  },
  {
   "cell_type": "code",
   "execution_count": null,
   "metadata": {},
   "outputs": [],
   "source": [
    "\"ben bir cumle gvirmis olayim\".split()"
   ]
  },
  {
   "cell_type": "code",
   "execution_count": null,
   "metadata": {},
   "outputs": [],
   "source": [
    "sentence = input(\"give me a sentence :\")\n",
    "words = sentence.split()\n",
    "i = 0\n",
    "longest = 0\n",
    "while i < len(words) :\n",
    "    if len(words[i]) > longest :\n",
    "        longest = len(words[i])\n",
    "    i += 1\n",
    "print(\"the lengt of the longest word is :\", longest)"
   ]
  },
  {
   "cell_type": "code",
   "execution_count": null,
   "metadata": {},
   "outputs": [],
   "source": [
    "names = [“Ahmed”, “Aisha”, “Adam”, “Joseph”, “Gabriel”]\n",
    "\n",
    "for i name:\n",
    "    print(\"Hello\",i)"
   ]
  },
  {
   "cell_type": "code",
   "execution_count": null,
   "metadata": {},
   "outputs": [],
   "source": [
    "sayilar = []\n",
    "\n",
    "for i in range(1,6):\n",
    "    sayilar.append(i)\n",
    "print(sayilar)    "
   ]
  },
  {
   "cell_type": "code",
   "execution_count": null,
   "metadata": {},
   "outputs": [],
   "source": [
    "eleman =\"ahmet, -clazrusway[]\""
   ]
  },
  {
   "cell_type": "code",
   "execution_count": null,
   "metadata": {},
   "outputs": [],
   "source": [
    "for i in eleman :\n",
    "    print(i,end =\"//\")"
   ]
  },
  {
   "cell_type": "code",
   "execution_count": null,
   "metadata": {},
   "outputs": [],
   "source": [
    "word = input(\"Enter a word\") \n",
    "\n",
    "count = 0\n",
    "for i in word:\n",
    "    count += 0\n",
    "    if count < len(word):\n",
    "        i = i + \"-\"\n",
    "    print(i,end = \"\")    \n",
    "    \n",
    "    "
   ]
  },
  {
   "cell_type": "markdown",
   "metadata": {},
   "source": [
    "### Samanlıkta ıgne aramak "
   ]
  },
  {
   "cell_type": "code",
   "execution_count": null,
   "metadata": {},
   "outputs": [],
   "source": [
    "samanlik = [\"yumurta\",\"yaba\",\"igne\",\"saman\",\"tezek\",\"tirmik\"]"
   ]
  },
  {
   "cell_type": "code",
   "execution_count": null,
   "metadata": {},
   "outputs": [],
   "source": [
    "print(f\"igne {samanlik.index(\"igne\")} numaraliindexte)"
   ]
  },
  {
   "cell_type": "code",
   "execution_count": null,
   "metadata": {},
   "outputs": [],
   "source": [
    "samnanlik."
   ]
  },
  {
   "cell_type": "code",
   "execution_count": null,
   "metadata": {},
   "outputs": [],
   "source": [
    "v = (\"five\",5,True)\n",
    "(x,y,z) = v\n",
    "print(x,y,z)"
   ]
  },
  {
   "cell_type": "code",
   "execution_count": null,
   "metadata": {},
   "outputs": [],
   "source": [
    "a,b,c, = 1,2,3"
   ]
  },
  {
   "cell_type": "code",
   "execution_count": null,
   "metadata": {},
   "outputs": [],
   "source": [
    "(monday,tuesday,wednesday,thusday,friday,saturday,sunday) = tuple(range(1,8))"
   ]
  },
  {
   "cell_type": "code",
   "execution_count": null,
   "metadata": {},
   "outputs": [],
   "source": [
    "sunday\n"
   ]
  },
  {
   "cell_type": "code",
   "execution_count": null,
   "metadata": {},
   "outputs": [],
   "source": [
    "print([1,2,3,4] + [\"11\", \"22\" + 33])"
   ]
  },
  {
   "cell_type": "code",
   "execution_count": null,
   "metadata": {},
   "outputs": [],
   "source": [
    "tt = (1,2, [1,3,5])"
   ]
  },
  {
   "cell_type": "code",
   "execution_count": null,
   "metadata": {},
   "outputs": [],
   "source": [
    "tt[2].append(4)"
   ]
  },
  {
   "cell_type": "code",
   "execution_count": null,
   "metadata": {},
   "outputs": [],
   "source": [
    "tt"
   ]
  },
  {
   "cell_type": "code",
   "execution_count": null,
   "metadata": {},
   "outputs": [],
   "source": [
    "x,y = (10,20)"
   ]
  },
  {
   "cell_type": "code",
   "execution_count": null,
   "metadata": {},
   "outputs": [],
   "source": [
    "print(x)\n",
    "print(y)"
   ]
  },
  {
   "cell_type": "code",
   "execution_count": null,
   "metadata": {},
   "outputs": [],
   "source": [
    "a,b = (10,20,30,40)"
   ]
  },
  {
   "cell_type": "code",
   "execution_count": null,
   "metadata": {},
   "outputs": [],
   "source": [
    "a,_,b,_=  (10,20,30,40)   # _ hayali bir degisken"
   ]
  },
  {
   "cell_type": "code",
   "execution_count": null,
   "metadata": {},
   "outputs": [],
   "source": [
    "print(a,b)"
   ]
  },
  {
   "cell_type": "code",
   "execution_count": null,
   "metadata": {},
   "outputs": [],
   "source": [
    "x,y,z = (11,22,33,44,55)"
   ]
  },
  {
   "cell_type": "code",
   "execution_count": null,
   "metadata": {},
   "outputs": [],
   "source": [
    "x,y,*z =(11,22,33,44,55,66)  # * dan dolayi hapsini z nin icine attik list ile "
   ]
  },
  {
   "cell_type": "code",
   "execution_count": null,
   "metadata": {},
   "outputs": [],
   "source": [
    "print(x)\n",
    "print(y)\n",
    "print(z)\n"
   ]
  },
  {
   "cell_type": "code",
   "execution_count": null,
   "metadata": {},
   "outputs": [],
   "source": [
    "x,y,*_=[11,22,33,44,55,66]   # * ile coklu sdegre alabiliyor"
   ]
  },
  {
   "cell_type": "code",
   "execution_count": null,
   "metadata": {},
   "outputs": [],
   "source": [
    "x,y,*z,t = (11,22,33,44,55,66,77)"
   ]
  },
  {
   "cell_type": "code",
   "execution_count": null,
   "metadata": {},
   "outputs": [],
   "source": [
    "print(t)"
   ]
  },
  {
   "cell_type": "code",
   "execution_count": null,
   "metadata": {},
   "outputs": [],
   "source": [
    "print(z)"
   ]
  },
  {
   "cell_type": "code",
   "execution_count": null,
   "metadata": {},
   "outputs": [],
   "source": [
    "x,y,*_,t,w =(11,22,33,44,55,66,77)  # unpacking  "
   ]
  },
  {
   "cell_type": "code",
   "execution_count": null,
   "metadata": {},
   "outputs": [],
   "source": [
    "print(t)"
   ]
  },
  {
   "cell_type": "code",
   "execution_count": 11,
   "metadata": {},
   "outputs": [],
   "source": [
    "isimler = {\"ali\" : 33,\n",
    "          \"veli\" : 44,\n",
    "          \"ayse\" : 2}"
   ]
  },
  {
   "cell_type": "code",
   "execution_count": 8,
   "metadata": {},
   "outputs": [
    {
     "data": {
      "text/plain": [
       "dict_items([('ali', 33), ('veli', 44), ('ayse', 2)])"
      ]
     },
     "execution_count": 8,
     "metadata": {},
     "output_type": "execute_result"
    }
   ],
   "source": [
    "isimler.items()"
   ]
  },
  {
   "cell_type": "code",
   "execution_count": 14,
   "metadata": {},
   "outputs": [
    {
     "name": "stdout",
     "output_type": "stream",
     "text": [
      "ali 33\n",
      "veli 44\n",
      "ayse 2\n"
     ]
    }
   ],
   "source": [
    "for a,b in isimler.items():\n",
    "    print(a,b)"
   ]
  },
  {
   "cell_type": "code",
   "execution_count": 15,
   "metadata": {},
   "outputs": [
    {
     "ename": "TypeError",
     "evalue": "'builtin_function_or_method' object is not iterable",
     "output_type": "error",
     "traceback": [
      "\u001b[1;31m---------------------------------------------------------------------------\u001b[0m",
      "\u001b[1;31mTypeError\u001b[0m                                 Traceback (most recent call last)",
      "\u001b[1;32m<ipython-input-15-dd828634225c>\u001b[0m in \u001b[0;36m<module>\u001b[1;34m\u001b[0m\n\u001b[1;32m----> 1\u001b[1;33m \u001b[1;32mfor\u001b[0m \u001b[0mi\u001b[0m \u001b[1;32min\u001b[0m \u001b[0misimler\u001b[0m\u001b[1;33m.\u001b[0m\u001b[0mitems\u001b[0m\u001b[1;33m:\u001b[0m\u001b[1;33m\u001b[0m\u001b[1;33m\u001b[0m\u001b[0m\n\u001b[0m\u001b[0;32m      2\u001b[0m     \u001b[0mprint\u001b[0m\u001b[1;33m(\u001b[0m\u001b[0mi\u001b[0m\u001b[1;33m)\u001b[0m\u001b[1;33m\u001b[0m\u001b[1;33m\u001b[0m\u001b[0m\n\u001b[0;32m      3\u001b[0m \u001b[1;33m\u001b[0m\u001b[0m\n",
      "\u001b[1;31mTypeError\u001b[0m: 'builtin_function_or_method' object is not iterable"
     ]
    }
   ],
   "source": [
    "for i in isimler.items:\n",
    "    print(i)\n",
    "                    "
   ]
  },
  {
   "cell_type": "code",
   "execution_count": 20,
   "metadata": {},
   "outputs": [
    {
     "name": "stdout",
     "output_type": "stream",
     "text": [
      "Enter a number 1 -10 : 5\n"
     ]
    },
    {
     "ename": "NameError",
     "evalue": "name 'number' is not defined",
     "output_type": "error",
     "traceback": [
      "\u001b[1;31m---------------------------------------------------------------------------\u001b[0m",
      "\u001b[1;31mNameError\u001b[0m                                 Traceback (most recent call last)",
      "\u001b[1;32m<ipython-input-20-fbf0e1c83a17>\u001b[0m in \u001b[0;36m<module>\u001b[1;34m\u001b[0m\n\u001b[0;32m      2\u001b[0m \u001b[1;33m\u001b[0m\u001b[0m\n\u001b[0;32m      3\u001b[0m \u001b[1;32mfor\u001b[0m \u001b[0mi\u001b[0m \u001b[1;32min\u001b[0m \u001b[0mrange\u001b[0m\u001b[1;33m(\u001b[0m\u001b[1;36m11\u001b[0m\u001b[1;33m)\u001b[0m\u001b[1;33m:\u001b[0m\u001b[1;33m\u001b[0m\u001b[1;33m\u001b[0m\u001b[0m\n\u001b[1;32m----> 4\u001b[1;33m     \u001b[0mprint\u001b[0m\u001b[1;33m(\u001b[0m\u001b[1;34m\"{}x{} = \"\u001b[0m\u001b[1;33m.\u001b[0m\u001b[0mformat\u001b[0m\u001b[1;33m(\u001b[0m\u001b[0mnumber\u001b[0m\u001b[1;33m,\u001b[0m\u001b[0mi\u001b[0m\u001b[1;33m)\u001b[0m\u001b[1;33m,\u001b[0m \u001b[0mnumber\u001b[0m \u001b[1;33m*\u001b[0m \u001b[0mi\u001b[0m\u001b[1;33m)\u001b[0m\u001b[1;33m\u001b[0m\u001b[1;33m\u001b[0m\u001b[0m\n\u001b[0m",
      "\u001b[1;31mNameError\u001b[0m: name 'number' is not defined"
     ]
    }
   ],
   "source": [
    "num = int(input(\"Enter a number 1 -10 : \"))\n",
    "\n",
    "for i in range(11):\n",
    "    print(\"{}x{} = \".format(number,i), number * i)\n"
   ]
  },
  {
   "cell_type": "code",
   "execution_count": null,
   "metadata": {},
   "outputs": [],
   "source": [
    "seq = range()\n",
    "for o in range "
   ]
  },
  {
   "cell_type": "code",
   "execution_count": null,
   "metadata": {},
   "outputs": [],
   "source": []
  },
  {
   "cell_type": "code",
   "execution_count": 21,
   "metadata": {},
   "outputs": [
    {
     "name": "stdout",
     "output_type": "stream",
     "text": [
      "s e p e r a t e\n"
     ]
    }
   ],
   "source": [
    "print(* \"seperate\")  # onemli "
   ]
  },
  {
   "cell_type": "code",
   "execution_count": 32,
   "metadata": {},
   "outputs": [],
   "source": [
    "isimler = [\"tarik\",\"sevda\",\"selim\"]\n",
    "yaslar = [11,22,33]"
   ]
  },
  {
   "cell_type": "code",
   "execution_count": 33,
   "metadata": {},
   "outputs": [
    {
     "data": {
      "text/plain": [
       "<zip at 0x20b1c2d2400>"
      ]
     },
     "execution_count": 33,
     "metadata": {},
     "output_type": "execute_result"
    }
   ],
   "source": [
    "zip(isimler,yaslar)"
   ]
  },
  {
   "cell_type": "code",
   "execution_count": 34,
   "metadata": {},
   "outputs": [],
   "source": [
    "xx = zip(isimler,yaslar)\n"
   ]
  },
  {
   "cell_type": "code",
   "execution_count": 27,
   "metadata": {},
   "outputs": [
    {
     "name": "stdout",
     "output_type": "stream",
     "text": [
      "[('tarik', 11), ('sevda', 22), ('selim', 33)]\n"
     ]
    }
   ],
   "source": [
    "print(list(xx))"
   ]
  },
  {
   "cell_type": "code",
   "execution_count": 35,
   "metadata": {},
   "outputs": [
    {
     "name": "stdout",
     "output_type": "stream",
     "text": [
      "tarik 11\n",
      "sevda 22\n",
      "selim 33\n"
     ]
    }
   ],
   "source": [
    "for isim,yas in xx:\n",
    "    print(isim,yas)  # zip fonksiyonu ile icerisini bir defa actiktan sonra yapabiliyoruz"
   ]
  },
  {
   "cell_type": "markdown",
   "metadata": {},
   "source": [
    "### Find and print the length of the longest word.   ----  En uzun kelimenin uzunlugu ----\n",
    "write a program that ;\n",
    "\n",
    "Takes a string sentence consisting of a couple of words from the users,\n",
    "\n",
    "Compares and find out the longest word and prints the wholle sentence and the length of the longest word as int typen\n",
    "\n",
    "Use while loop.\n",
    "\n",
    "(bir program yazın;  Kullanıcılardan birkaç kelimeden oluşan bir dizi cümle alır, \n",
    "En uzun kelimeyi karşılaştırır ve bulur ve tüm cümleyi ve en uzun kelimenin uzunluğunu int typen olarak yazdırır\n",
    "\n",
    "döngü sırasında kullan )\n",
    " \n",
    " "
   ]
  },
  {
   "cell_type": "markdown",
   "metadata": {},
   "source": [
    "### string.split()   Syringi guruplara ayirir   siplit ; bolunme anlamina geliyor "
   ]
  },
  {
   "cell_type": "code",
   "execution_count": 1,
   "metadata": {},
   "outputs": [
    {
     "name": "stdout",
     "output_type": "stream",
     "text": [
      "Give me a sentence : Ramazan muberaek olsun herkese\n",
      "The length of the longest word is :  8\n"
     ]
    }
   ],
   "source": [
    "sentence = input(\"Give me a sentence : \")\n",
    "\n",
    "words = sentence.split()\n",
    "i = 0\n",
    "longest = 0\n",
    "\n",
    "while i < len(words):\n",
    "    if len(words[i]) > longest:\n",
    "        longest = len(words[i])\n",
    "    i += 1\n",
    "    \n",
    "print(\"The length of the longest word is : \", longest)    "
   ]
  },
  {
   "cell_type": "code",
   "execution_count": 2,
   "metadata": {},
   "outputs": [
    {
     "name": "stdout",
     "output_type": "stream",
     "text": [
      "lütfen bir cümle girinizbeu benim en uzun kelimem\n",
      "7\n"
     ]
    }
   ],
   "source": [
    "uzunluk = []\n",
    "kelime = input(\"lütfen bir cümle giriniz\").split()\n",
    "for i in kelime:\n",
    "    uzunluk.append(len(i))\n",
    "print(max(uzunluk))"
   ]
  },
  {
   "cell_type": "code",
   "execution_count": 5,
   "metadata": {},
   "outputs": [
    {
     "name": "stdout",
     "output_type": "stream",
     "text": [
      "Enter sentence: beu benim en uzun kelimem\n",
      "Longest word is:  kelimem\n",
      "And its length is:  7\n"
     ]
    }
   ],
   "source": [
    "sentence = input(\"Enter sentence: \")\n",
    "longest = max(sentence.split(), key=len)\n",
    "print(\"Longest word is: \", longest)\n",
    "print(\"And its length is: \", len(longest))"
   ]
  },
  {
   "cell_type": "code",
   "execution_count": null,
   "metadata": {},
   "outputs": [],
   "source": []
  },
  {
   "cell_type": "code",
   "execution_count": 2,
   "metadata": {},
   "outputs": [
    {
     "data": {
      "text/plain": [
       "['Yeni', 'bir', 'hayat', 'kurmaya', 'calisiyoruz', 'gardass']"
      ]
     },
     "execution_count": 2,
     "metadata": {},
     "output_type": "execute_result"
    }
   ],
   "source": [
    "\"Yeni bir hayat kurmaya calisiyoruz gardass\" . split()"
   ]
  },
  {
   "cell_type": "code",
   "execution_count": 3,
   "metadata": {},
   "outputs": [
    {
     "data": {
      "text/plain": [
       "['Hayat', 'sizin', 'ile', 'guzel', 'cocukalr']"
      ]
     },
     "execution_count": 3,
     "metadata": {},
     "output_type": "execute_result"
    }
   ],
   "source": [
    "\"Hayat sizin ile guzel cocukalr\".split()"
   ]
  },
  {
   "cell_type": "code",
   "execution_count": 4,
   "metadata": {},
   "outputs": [
    {
     "data": {
      "text/plain": [
       "['it', 'zahmetli', 'ama', 'neticesi', 'guzel', 'olacak', 'katlanmaya', 'deger']"
      ]
     },
     "execution_count": 4,
     "metadata": {},
     "output_type": "execute_result"
    }
   ],
   "source": [
    "\"it zahmetli ama neticesi guzel olacak katlanmaya deger\".split()"
   ]
  },
  {
   "cell_type": "code",
   "execution_count": null,
   "metadata": {},
   "outputs": [],
   "source": []
  },
  {
   "cell_type": "code",
   "execution_count": 6,
   "metadata": {},
   "outputs": [
    {
     "name": "stdout",
     "output_type": "stream",
     "text": [
      "1\n",
      "2\n",
      "3\n",
      "4\n",
      "5\n"
     ]
    }
   ],
   "source": [
    "for i in[1,2,3,4,5]:\n",
    "    print(i)"
   ]
  },
  {
   "cell_type": "code",
   "execution_count": 8,
   "metadata": {},
   "outputs": [
    {
     "name": "stdout",
     "output_type": "stream",
     "text": [
      "Spring\n",
      "Summer\n",
      "stumn\n",
      "winter\n"
     ]
    }
   ],
   "source": [
    "seasons = [\"Spring\", \"Summer\",\"stumn\", \"winter\"]\n",
    "\n",
    "for i in seasons:\n",
    "    print(i)"
   ]
  },
  {
   "cell_type": "markdown",
   "metadata": {},
   "source": [
    "### Task : Python Program to say \"hello name\"     \n",
    "\n",
    "Write a program to say \"Hello names \" from the followin list.\n",
    "\n",
    "Print the resault such as : \"hello Samuel\"\n",
    "                            \"hello Victor\""
   ]
  },
  {
   "cell_type": "code",
   "execution_count": 9,
   "metadata": {},
   "outputs": [
    {
     "name": "stdout",
     "output_type": "stream",
     "text": [
      "Hello Ahmet\n",
      "Hello Aisha\n",
      "Hello Adam\n",
      "Hello Joseph\n",
      "Hello Gabriel\n"
     ]
    }
   ],
   "source": [
    "names = [\"Ahmet\", \"Aisha\", \"Adam\", \"Joseph\", \"Gabriel\"]\n",
    "\n",
    "for i in names:\n",
    "    print(\"Hello {}\".format(i))"
   ]
  },
  {
   "cell_type": "code",
   "execution_count": 10,
   "metadata": {},
   "outputs": [
    {
     "name": "stdout",
     "output_type": "stream",
     "text": [
      "Hayirli Ramazanlar Ramazan\n",
      "Hayirli Ramazanlar Meral\n",
      "Hayirli Ramazanlar Akif\n",
      "Hayirli Ramazanlar Orhan\n",
      "Hayirli Ramazanlar Nihal\n"
     ]
    }
   ],
   "source": [
    "names = [\"Ramazan\", \"Meral\",\"Akif\", \"Orhan\", \"Nihal\"]\n",
    "\n",
    "for i in names :\n",
    "    print(\"Hayirli Ramazanlar {}\".format(i))"
   ]
  },
  {
   "cell_type": "markdown",
   "metadata": {},
   "source": [
    "## Task: Python program to create numbers usong range()\n",
    "\n",
    "write a program to create a list consisting of numbers from 1 to 5 \n",
    "\n",
    "print the result such as : [1,2,3,4,5,]"
   ]
  },
  {
   "cell_type": "code",
   "execution_count": 11,
   "metadata": {},
   "outputs": [
    {
     "name": "stdout",
     "output_type": "stream",
     "text": [
      "[1, 2, 3, 4, 5]\n"
     ]
    }
   ],
   "source": [
    "num = list(range(1,6))\n",
    "print(num)\n"
   ]
  },
  {
   "cell_type": "code",
   "execution_count": 16,
   "metadata": {},
   "outputs": [
    {
     "name": "stdout",
     "output_type": "stream",
     "text": [
      "[1, 2, 3, 4, 5]\n"
     ]
    }
   ],
   "source": [
    "sayilar = []   # bos liste olusturup daha sonra onun iscerisini dolduruyoruz  append metodu iel \n",
    "\n",
    "for i in range(1,6):\n",
    "    sayilar.append(i)\n",
    "    \n",
    "print(sayilar)    "
   ]
  },
  {
   "cell_type": "code",
   "execution_count": 19,
   "metadata": {},
   "outputs": [],
   "source": [
    "eleman = \"ahmet - claruway[]\""
   ]
  },
  {
   "cell_type": "code",
   "execution_count": 20,
   "metadata": {},
   "outputs": [
    {
     "name": "stdout",
     "output_type": "stream",
     "text": [
      "a-/-h-/-m-/-e-/-t-/- -/---/- -/-c-/-l-/-a-/-r-/-u-/-w-/-a-/-y-/-[-/-]-/-"
     ]
    }
   ],
   "source": [
    "for i in eleman :      #  string bir iterable elman dir.  stringi yani iterabil elemani ayirmis olduk\n",
    "    print(i, end = \"-/-\")     "
   ]
  },
  {
   "cell_type": "code",
   "execution_count": 24,
   "metadata": {},
   "outputs": [
    {
     "name": "stdout",
     "output_type": "stream",
     "text": [
      "Bugün günlerden Salı.\n"
     ]
    }
   ],
   "source": [
    "print(\"Bugün günlerden Salı\", end=\".\\n\")"
   ]
  },
  {
   "cell_type": "code",
   "execution_count": null,
   "metadata": {},
   "outputs": [],
   "source": [
    "sentence = \"Bugün günlerden Salı\""
   ]
  },
  {
   "cell_type": "code",
   "execution_count": 25,
   "metadata": {},
   "outputs": [
    {
     "name": "stdout",
     "output_type": "stream",
     "text": [
      "b**e**u** **b**e**n**i**m** **e**n** **u**z**u**n** **k**e**l**i**m**e**m**"
     ]
    }
   ],
   "source": [
    "for i in sentence:\n",
    "    print(i,end = \"**\")\n",
    "    "
   ]
  },
  {
   "cell_type": "markdown",
   "metadata": {},
   "source": [
    "#### TASK : python program to sperate the string into its characters.\n",
    "\n",
    "write a program to separate the string taken from thye user into its chractures using for loop\n",
    "print the result such as \n",
    "\n",
    "input :\"Clarusway\"\n",
    "desired output : c-l-a-r--u-s-w-ay-"
   ]
  },
  {
   "cell_type": "code",
   "execution_count": 27,
   "metadata": {},
   "outputs": [
    {
     "name": "stdout",
     "output_type": "stream",
     "text": [
      "C-l-a-r-u-s-w-a-y-"
     ]
    }
   ],
   "source": [
    "word = \"Clarusway\"\n",
    "\n",
    "for i in word:\n",
    "     print(i,end = \"-\")"
   ]
  },
  {
   "cell_type": "code",
   "execution_count": null,
   "metadata": {},
   "outputs": [],
   "source": [
    "\"clarusway\""
   ]
  },
  {
   "cell_type": "code",
   "execution_count": 28,
   "metadata": {},
   "outputs": [
    {
     "name": "stdout",
     "output_type": "stream",
     "text": [
      "Give me a word : Sehri Ramazan\n",
      "S-e-h-r-i- -R-a-m-a-z-a-n"
     ]
    }
   ],
   "source": [
    "word = input(\"Give me a word : \")\n",
    "\n",
    "\n",
    "count = 0\n",
    "for i in word :\n",
    "    \n",
    "    count += 1\n",
    "    if count < len(word) : \n",
    "        i = i + \"-\"\n",
    "    print(i, end = \"\")     "
   ]
  },
  {
   "cell_type": "code",
   "execution_count": 35,
   "metadata": {},
   "outputs": [
    {
     "name": "stdout",
     "output_type": "stream",
     "text": [
      "name\n",
      "surname\n",
      "age\n"
     ]
    }
   ],
   "source": [
    "user = {                        # sözluklerde  dict lerde sadece keyler cikti aliniyor          \n",
    "        \"name\" : \"Ramazan\",\n",
    "        \"surname\" : \"Kaya\",\n",
    "        \"age\" : 41\n",
    "}\n",
    "\n",
    "for attribute in user:\n",
    "    print((attribute))"
   ]
  },
  {
   "cell_type": "code",
   "execution_count": 36,
   "metadata": {},
   "outputs": [
    {
     "name": "stdout",
     "output_type": "stream",
     "text": [
      "name\n",
      "surname\n",
      "age\n"
     ]
    }
   ],
   "source": [
    "user = {                                   # sözluklerde   sadece keyler           \n",
    "        \"name\" : \"Ramazan\",\n",
    "        \"surname\" : \"Kaya\",\n",
    "        \"age\" : 41\n",
    "}\n",
    "\n",
    "for i in user:\n",
    "    print((i))"
   ]
  },
  {
   "cell_type": "markdown",
   "metadata": {},
   "source": [
    "### samanlikta igne arayalim mi ?   Lıstelerde ındexleme methodu   "
   ]
  },
  {
   "cell_type": "code",
   "execution_count": 5,
   "metadata": {},
   "outputs": [],
   "source": [
    "samanlik = [\"yumurta\", \"Yaba\", \"inek\", \"igne\",  \"Saman\", \"tezek\", \"tirmik\"]"
   ]
  },
  {
   "cell_type": "code",
   "execution_count": 15,
   "metadata": {},
   "outputs": [
    {
     "name": "stdout",
     "output_type": "stream",
     "text": [
      "igne 3 numarali indexte.\n"
     ]
    }
   ],
   "source": [
    "print(f\"igne {samanlik.index('igne')} numarali indexte.\")"
   ]
  },
  {
   "cell_type": "code",
   "execution_count": 19,
   "metadata": {},
   "outputs": [
    {
     "name": "stdout",
     "output_type": "stream",
     "text": [
      "ocak 3 evimizin olmaz ise olmazidir.\n"
     ]
    }
   ],
   "source": [
    "Evimiz = [\"Bilgisayar\", \"Buzdolabi\",\"Utu\",\"ocak\"]\n",
    "\n",
    "print(f\"ocak {Evimiz.index('ocak')} evimizin olmaz ise olmazidir.\")"
   ]
  },
  {
   "cell_type": "markdown",
   "metadata": {},
   "source": [
    "###  Tupple kullanarak coklu degedr assıgn etmek"
   ]
  },
  {
   "cell_type": "code",
   "execution_count": 21,
   "metadata": {},
   "outputs": [
    {
     "name": "stdout",
     "output_type": "stream",
     "text": [
      "five 5 True\n"
     ]
    }
   ],
   "source": [
    "v = (\"five\" , 5, True)    # unpackig ve packin yapiliyor yani Tuple \n",
    "                          # icerisindeki degedrlere dha sonra yeni ataamalar yaptik\n",
    "(x,y,z) = v\n",
    "print(x,y,z,)"
   ]
  },
  {
   "cell_type": "code",
   "execution_count": 29,
   "metadata": {},
   "outputs": [
    {
     "name": "stdout",
     "output_type": "stream",
     "text": [
      "Audi Toyota Nissan\n"
     ]
    }
   ],
   "source": [
    "araba = (\"Audi\", \"Toyota\", \"Nissan\") \n",
    "(A,M,Z) = araba\n",
    "print(A,M,Z)"
   ]
  },
  {
   "cell_type": "code",
   "execution_count": 34,
   "metadata": {},
   "outputs": [
    {
     "ename": "ValueError",
     "evalue": "too many values to unpack (expected 6)",
     "output_type": "error",
     "traceback": [
      "\u001b[1;31m---------------------------------------------------------------------------\u001b[0m",
      "\u001b[1;31mValueError\u001b[0m                                Traceback (most recent call last)",
      "\u001b[1;32m<ipython-input-34-ff34b3a4919c>\u001b[0m in \u001b[0;36m<module>\u001b[1;34m\u001b[0m\n\u001b[1;32m----> 1\u001b[1;33m \u001b[1;33m(\u001b[0m\u001b[0msunday\u001b[0m\u001b[1;33m,\u001b[0m\u001b[0mmonday\u001b[0m\u001b[1;33m,\u001b[0m\u001b[0mwenesday\u001b[0m\u001b[1;33m,\u001b[0m\u001b[0mthursday\u001b[0m\u001b[1;33m,\u001b[0m\u001b[0mfriday\u001b[0m\u001b[1;33m,\u001b[0m \u001b[0msaturday\u001b[0m\u001b[1;33m)\u001b[0m \u001b[1;33m=\u001b[0m \u001b[0mtuple\u001b[0m\u001b[1;33m(\u001b[0m\u001b[0mrange\u001b[0m\u001b[1;33m(\u001b[0m\u001b[1;36m1\u001b[0m\u001b[1;33m,\u001b[0m\u001b[1;36m8\u001b[0m\u001b[1;33m)\u001b[0m\u001b[1;33m)\u001b[0m\u001b[1;33m\u001b[0m\u001b[1;33m\u001b[0m\u001b[0m\n\u001b[0m",
      "\u001b[1;31mValueError\u001b[0m: too many values to unpack (expected 6)"
     ]
    }
   ],
   "source": [
    "(sunday,monday,wenesday,thursday,friday, saturday) = tuple(range(1,8))\n"
   ]
  },
  {
   "cell_type": "code",
   "execution_count": null,
   "metadata": {},
   "outputs": [],
   "source": []
  },
  {
   "cell_type": "code",
   "execution_count": null,
   "metadata": {},
   "outputs": [],
   "source": []
  },
  {
   "cell_type": "code",
   "execution_count": null,
   "metadata": {},
   "outputs": [],
   "source": []
  }
 ],
 "metadata": {
  "kernelspec": {
   "display_name": "Python 3",
   "language": "python",
   "name": "python3"
  },
  "language_info": {
   "codemirror_mode": {
    "name": "ipython",
    "version": 3
   },
   "file_extension": ".py",
   "mimetype": "text/x-python",
   "name": "python",
   "nbconvert_exporter": "python",
   "pygments_lexer": "ipython3",
   "version": "3.8.5"
  }
 },
 "nbformat": 4,
 "nbformat_minor": 4
}
