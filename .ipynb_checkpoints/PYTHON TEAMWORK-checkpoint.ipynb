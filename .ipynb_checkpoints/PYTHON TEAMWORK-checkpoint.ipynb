{
 "cells": [
  {
   "cell_type": "code",
   "execution_count": 1,
   "metadata": {},
   "outputs": [
    {
     "name": "stdout",
     "output_type": "stream",
     "text": [
      "[0, 1, 2, 3, 4, 5, 6, 7, 8, 9, 10, 11, 12, 13, 14]\n",
      "[2, 4, 6, 8, 10, 12, 14]\n"
     ]
    }
   ],
   "source": [
    "count = list(range(15))  # range ile siralama yaptik\n",
    "print(count)\n",
    "\n",
    "print(count[2:16:2])"
   ]
  },
  {
   "cell_type": "code",
   "execution_count": 2,
   "metadata": {},
   "outputs": [
    {
     "name": "stdout",
     "output_type": "stream",
     "text": [
      "apple\n",
      "banana\n",
      "cherry\n"
     ]
    }
   ],
   "source": [
    "meyveler = [\"apple\", \"banana\", \"cherry\"]\n",
    "for meyve in meyveler:\n",
    "  print(meyve)\n"
   ]
  },
  {
   "cell_type": "code",
   "execution_count": 3,
   "metadata": {},
   "outputs": [
    {
     "name": "stdout",
     "output_type": "stream",
     "text": [
      "[1, 3, 6, 10]\n"
     ]
    }
   ],
   "source": [
    "a = [1,2,3,4]\n",
    "b = [sum(a[0:x+1]) for x in range(0,len(a))]\n",
    "print(b)"
   ]
  },
  {
   "cell_type": "code",
   "execution_count": 4,
   "metadata": {},
   "outputs": [
    {
     "name": "stdout",
     "output_type": "stream",
     "text": [
      "11\n"
     ]
    }
   ],
   "source": [
    "L1 = []\n",
    "L1.append([1,[2,3],4])\n",
    "L1.extend([7,8,9])\n",
    "print(L1[0][1][1] + L1[2])\n",
    "\n"
   ]
  },
  {
   "cell_type": "code",
   "execution_count": 5,
   "metadata": {},
   "outputs": [
    {
     "ename": "SyntaxError",
     "evalue": "invalid character in identifier (<ipython-input-5-38ca60536a84>, line 1)",
     "output_type": "error",
     "traceback": [
      "\u001b[1;36m  File \u001b[1;32m\"<ipython-input-5-38ca60536a84>\"\u001b[1;36m, line \u001b[1;32m1\u001b[0m\n\u001b[1;33m    liste=[“eat”, “tea”, “tan”, “ate”, “nat”, “bat”]\u001b[0m\n\u001b[1;37m               ^\u001b[0m\n\u001b[1;31mSyntaxError\u001b[0m\u001b[1;31m:\u001b[0m invalid character in identifier\n"
     ]
    }
   ],
   "source": [
    "liste=[\"eat\", \"tea\", \"tan\", \"ate\", \"nat\", \"bat\"]\n",
    "sorted_list=[]\n",
    "sonuc=[]\n",
    "for i in liste:\n",
    "  if sorted(i) not in sorted_list:\n",
    "    sorted_list.append(sorted(i))\n",
    "for a in range(len(sorted_list)):\n",
    "  sonuc.append([i for i in liste if sorted(i)==sorted_list[a]])"
   ]
  },
  {
   "cell_type": "code",
   "execution_count": 6,
   "metadata": {},
   "outputs": [
    {
     "name": "stdout",
     "output_type": "stream",
     "text": [
      "[['ate', 'eat', 'tea'], ['nat', 'tan'], ['bat']]\n"
     ]
    }
   ],
   "source": [
    "list1=[\"eat\", \"tea\", \"tan\", \"ate\", \"nat\", \"bat\"]\n",
    "list2=[list1[3],list1[0],list1[1]]\n",
    "list3=[list1[4],list1[2]]\n",
    "list4=[list1[5]]\n",
    "liste=[]\n",
    "liste.append(list2)\n",
    "liste.append(list3)\n",
    "liste.append(list4)\n",
    "print(liste)"
   ]
  },
  {
   "cell_type": "code",
   "execution_count": 7,
   "metadata": {},
   "outputs": [
    {
     "name": "stdout",
     "output_type": "stream",
     "text": [
      "['eat', 'tea', 'ate']\n",
      "['tan', 'nat']\n",
      "['bat']\n"
     ]
    }
   ],
   "source": [
    "words=[\"eat\", \"tea\", \"tan\", \"ate\", \"nat\", \"bat\"]\n",
    "list1 =[]\n",
    "list2=[]\n",
    "list3=[]\n",
    "\n",
    "for i in words:\n",
    "    for k in i:\n",
    "        if k==\"e\":\n",
    "            list1.append(i)\n",
    "        elif k==\"n\":\n",
    "            list2.append(i)\n",
    "        elif k==\"b\":\n",
    "            list3.append(i)\n",
    "print (list1, list2, list3, sep=\"\\n\")"
   ]
  },
  {
   "cell_type": "code",
   "execution_count": 11,
   "metadata": {},
   "outputs": [
    {
     "name": "stdout",
     "output_type": "stream",
     "text": [
      "Kac dilim pizza istersiniz? :  5\n",
      "1 . dilim pizzaniz afiyet olsun\n",
      "2 . dilim pizzaniz afiyet olsun\n",
      "3 . dilim pizzaniz afiyet olsun\n",
      "4 . dilim pizzaniz afiyet olsun\n",
      "5 . dilim pizzaniz afiyet olsun\n"
     ]
    }
   ],
   "source": [
    "adet = int(input(\"Kac dilim pizza istersiniz? : \"))  # for döngusunde kac kere yiyecegi bellidir\n",
    "for kere in range (1,adet+1):                        # \"range \" rakamlari siralar (varsayılan olarak 0 dan başlayarak ve\n",
    "                                                     # 1 artırarak (varsayılan olarak) bir sayı dizisi döndürür)\n",
    "    print(kere,\". dilim pizzaniz afiyet olsun\") \n",
    "    "
   ]
  },
  {
   "cell_type": "code",
   "execution_count": null,
   "metadata": {},
   "outputs": [
    {
     "name": "stdout",
     "output_type": "stream",
     "text": [
      " Pizzaniz Afiyet olsun\n"
     ]
    }
   ],
   "source": [
    "doymak = \"hayir\"\n",
    "print(\" Pizzaniz Afiyet olsun\")\n",
    "\n",
    "while doymak == \"hayir\":\n",
    "    doymak = input(\"bir dilim daha pizza istermisiniz ?\")\n",
    "    if cevap == \"evet\":\n",
    "        continue\n",
    "    else:\n",
    "        doymak == \"evet\""
   ]
  },
  {
   "cell_type": "code",
   "execution_count": 3,
   "metadata": {},
   "outputs": [
    {
     "name": "stdout",
     "output_type": "stream",
     "text": [
      "range(0, 6)\n"
     ]
    }
   ],
   "source": [
    "x = range(0,6)\n",
    "print(x)"
   ]
  },
  {
   "cell_type": "code",
   "execution_count": 5,
   "metadata": {},
   "outputs": [
    {
     "name": "stdout",
     "output_type": "stream",
     "text": [
      "[0, 1, 2, 3, 4, 5, 6]\n"
     ]
    }
   ],
   "source": [
    "print(list(range(7)))"
   ]
  },
  {
   "cell_type": "code",
   "execution_count": 7,
   "metadata": {},
   "outputs": [
    {
     "name": "stdout",
     "output_type": "stream",
     "text": [
      "[0, 2, 4, 6]\n"
     ]
    }
   ],
   "source": [
    "print(list(range(0,8,2)))"
   ]
  },
  {
   "cell_type": "code",
   "execution_count": 9,
   "metadata": {},
   "outputs": [
    {
     "name": "stdout",
     "output_type": "stream",
     "text": [
      "range(0, 8, 2)\n"
     ]
    }
   ],
   "source": [
    "print(range(0,8,2))   # range ( star stop step-1)"
   ]
  },
  {
   "cell_type": "code",
   "execution_count": 16,
   "metadata": {},
   "outputs": [
    {
     "ename": "SyntaxError",
     "evalue": "Missing parentheses in call to 'print'. Did you mean print(i)? (<ipython-input-16-8de3c8bb6aee>, line 2)",
     "output_type": "error",
     "traceback": [
      "\u001b[1;36m  File \u001b[1;32m\"<ipython-input-16-8de3c8bb6aee>\"\u001b[1;36m, line \u001b[1;32m2\u001b[0m\n\u001b[1;33m    print i\u001b[0m\n\u001b[1;37m          ^\u001b[0m\n\u001b[1;31mSyntaxError\u001b[0m\u001b[1;31m:\u001b[0m Missing parentheses in call to 'print'. Did you mean print(i)?\n"
     ]
    }
   ],
   "source": [
    "for i in (*range(5)):\n",
    "    print i "
   ]
  },
  {
   "cell_type": "code",
   "execution_count": 11,
   "metadata": {},
   "outputs": [
    {
     "name": "stdout",
     "output_type": "stream",
     "text": [
      "R\n",
      "a\n",
      "m\n",
      "a\n",
      "n\n",
      "z\n",
      "a\n",
      "n\n"
     ]
    }
   ],
   "source": [
    "name= \"Ramanzan\"\n",
    "\n",
    "for i in name:\n",
    "    print(i)\n",
    "\n"
   ]
  },
  {
   "cell_type": "code",
   "execution_count": 14,
   "metadata": {},
   "outputs": [
    {
     "name": "stdout",
     "output_type": "stream",
     "text": [
      "Elma\n",
      "Armut\n",
      "Kiraz\n"
     ]
    }
   ],
   "source": [
    "liste = [\"Elma\",\"Armut\",\"Kiraz\"]\n",
    "\n",
    "for i in liste:\n",
    "    print(i)"
   ]
  },
  {
   "cell_type": "code",
   "execution_count": 17,
   "metadata": {},
   "outputs": [
    {
     "name": "stdout",
     "output_type": "stream",
     "text": [
      "0 1 2 3 4 5 6 7 8 9\n"
     ]
    }
   ],
   "source": [
    "print(*range(10)) "
   ]
  },
  {
   "cell_type": "code",
   "execution_count": 18,
   "metadata": {},
   "outputs": [
    {
     "name": "stdout",
     "output_type": "stream",
     "text": [
      "2 5 8 11 14 17 20 23 26 29\n"
     ]
    }
   ],
   "source": [
    "print(*range(2,30,3))"
   ]
  },
  {
   "cell_type": "code",
   "execution_count": 20,
   "metadata": {},
   "outputs": [
    {
     "name": "stdout",
     "output_type": "stream",
     "text": [
      "1\n",
      "2\n",
      "3\n",
      "4\n",
      "5\n",
      "6\n",
      "7\n",
      "8\n",
      "9\n"
     ]
    }
   ],
   "source": [
    "for i in range(1,10):\n",
    "    print(i)"
   ]
  },
  {
   "cell_type": "code",
   "execution_count": 21,
   "metadata": {},
   "outputs": [
    {
     "name": "stdout",
     "output_type": "stream",
     "text": [
      "*\n",
      "**\n",
      "***\n",
      "****\n",
      "*****\n",
      "******\n",
      "*******\n",
      "********\n",
      "*********\n"
     ]
    }
   ],
   "source": [
    "for i in range(1,10):\n",
    "    print(i * \"*\")"
   ]
  },
  {
   "cell_type": "code",
   "execution_count": 23,
   "metadata": {},
   "outputs": [
    {
     "name": "stdout",
     "output_type": "stream",
     "text": [
      "i nin degeri 0\n",
      "i nin degeri 2\n",
      "i nin degeri 4\n",
      "i nin degeri 6\n",
      "i nin degeri 8\n"
     ]
    }
   ],
   "source": [
    "i = 0\n",
    "while(i<10):\n",
    "    print(\"i nin degeri\", i)\n",
    "    i = i+2"
   ]
  },
  {
   "cell_type": "code",
   "execution_count": 24,
   "metadata": {},
   "outputs": [
    {
     "name": "stdout",
     "output_type": "stream",
     "text": [
      "i nin degeri 0\n",
      "i nin degeri 1\n",
      "i nin degeri 2\n",
      "i nin degeri 3\n",
      "i nin degeri 4\n",
      "i nin degeri 5\n",
      "i nin degeri 6\n",
      "i nin degeri 7\n",
      "i nin degeri 8\n",
      "i nin degeri 9\n"
     ]
    }
   ],
   "source": [
    "i = 0\n",
    "while(i<10):\n",
    "    print(\"i nin degeri\", i)\n",
    "    i += 1"
   ]
  },
  {
   "cell_type": "code",
   "execution_count": 26,
   "metadata": {},
   "outputs": [
    {
     "name": "stdout",
     "output_type": "stream",
     "text": [
      "1\n",
      "2\n",
      "3\n",
      "4\n"
     ]
    }
   ],
   "source": [
    "liste =[1,2,3,4]   # listenin icerisinde rakam oldugu suerce yazdir\n",
    "\n",
    "for rakam in liste:\n",
    "    print(rakam)"
   ]
  },
  {
   "cell_type": "code",
   "execution_count": 29,
   "metadata": {},
   "outputs": [
    {
     "name": "stdout",
     "output_type": "stream",
     "text": [
      "R\n",
      "a\n",
      "m\n",
      "a\n",
      "z\n",
      "a\n",
      "n\n"
     ]
    }
   ],
   "source": [
    "isim = \"Ramazan\"\n",
    "\n",
    "for harf in isim:\n",
    "    print(harf)"
   ]
  },
  {
   "cell_type": "code",
   "execution_count": 30,
   "metadata": {},
   "outputs": [
    {
     "name": "stdout",
     "output_type": "stream",
     "text": [
      "1\n",
      "2\n",
      "3\n",
      "4\n"
     ]
    }
   ],
   "source": [
    "demet = (1,2,3,4)\n",
    "\n",
    "for i in demet:\n",
    "    print(i)"
   ]
  },
  {
   "cell_type": "code",
   "execution_count": 35,
   "metadata": {},
   "outputs": [
    {
     "name": "stdout",
     "output_type": "stream",
     "text": [
      "1\n",
      "6\n",
      "11\n",
      "16\n"
     ]
    }
   ],
   "source": [
    "for i in range(1,17,5):\n",
    "    print(i)"
   ]
  },
  {
   "cell_type": "code",
   "execution_count": 36,
   "metadata": {},
   "outputs": [
    {
     "name": "stdout",
     "output_type": "stream",
     "text": [
      "1024\n"
     ]
    }
   ],
   "source": [
    "sonuc = 1\n",
    "for i in range(0,10):\n",
    "    sonuc *= 2\n",
    "    \n",
    "print(sonuc)"
   ]
  },
  {
   "cell_type": "code",
   "execution_count": 38,
   "metadata": {},
   "outputs": [
    {
     "name": "stdout",
     "output_type": "stream",
     "text": [
      "a 1\n",
      "a 2\n",
      "a 3\n",
      "b 1\n",
      "b 2\n",
      "b 3\n",
      "c 1\n",
      "c 2\n",
      "c 3\n"
     ]
    }
   ],
   "source": [
    "liste1 = [\"a\",\"b\",\"c\"]\n",
    "liste2 = [1,2,3]\n",
    "\n",
    "for harf in liste1:\n",
    "    for rakam in liste2:\n",
    "        print(harf,rakam)\n",
    "        "
   ]
  },
  {
   "cell_type": "code",
   "execution_count": 39,
   "metadata": {},
   "outputs": [
    {
     "name": "stdout",
     "output_type": "stream",
     "text": [
      "1\n",
      "2\n",
      "4\n",
      "5\n",
      "6\n",
      "7\n",
      "8\n",
      "9\n"
     ]
    }
   ],
   "source": [
    "liste = [1,2,3,4,5,6,7,8,9]  # continue döngude bir sonrakine gecmesini sagliyor\n",
    "\n",
    "for i in liste:\n",
    "    if i == 3:\n",
    "        continue\n",
    "    print(i)"
   ]
  },
  {
   "cell_type": "code",
   "execution_count": 46,
   "metadata": {},
   "outputs": [
    {
     "name": "stdout",
     "output_type": "stream",
     "text": [
      "1\n",
      "2\n"
     ]
    }
   ],
   "source": [
    "liste = [1,2,3,4,5,6,7,8,9]  # break dönguyu sonlandiriyor\n",
    "\n",
    "for i in liste:\n",
    "    if i == 3:\n",
    "        break\n",
    "    print(i)"
   ]
  },
  {
   "cell_type": "code",
   "execution_count": 51,
   "metadata": {},
   "outputs": [
    {
     "name": "stdout",
     "output_type": "stream",
     "text": [
      "0\n",
      "3\n",
      "6\n",
      "9\n",
      "12\n",
      "15\n",
      "18\n"
     ]
    }
   ],
   "source": [
    "liste =range(33)\n",
    "\n",
    "for i in liste:\n",
    "    if i % 3 != 0:\n",
    "        continue\n",
    "    if i == 21:\n",
    "        break\n",
    "    print(i)    "
   ]
  },
  {
   "cell_type": "code",
   "execution_count": 3,
   "metadata": {},
   "outputs": [
    {
     "name": "stdout",
     "output_type": "stream",
     "text": [
      "2\n",
      "3\n",
      "4\n",
      "5\n",
      "6\n",
      "7\n",
      "8\n",
      "9\n",
      "x =  10\n"
     ]
    }
   ],
   "source": [
    "x = 2\n",
    "\n",
    "while x < 10:\n",
    "    print(x)\n",
    "    x += 1\n",
    "print(\"x = \", x)    "
   ]
  },
  {
   "cell_type": "code",
   "execution_count": 4,
   "metadata": {},
   "outputs": [
    {
     "name": "stdout",
     "output_type": "stream",
     "text": [
      "2 3\n",
      "4 5\n",
      "6 7\n",
      "8 9\n",
      "10 11\n",
      "12 13\n",
      "14 15\n",
      "16 17\n",
      "18 19\n",
      "20 21\n",
      "22 23\n",
      "24 25\n",
      "26 27\n",
      "28 29\n",
      "30 31\n"
     ]
    }
   ],
   "source": [
    "x = 2\n",
    "y = 3 \n",
    "\n",
    "while x * y < 1000:\n",
    "    print(x,y)\n",
    "    x += 2\n",
    "    y += 2"
   ]
  },
  {
   "cell_type": "code",
   "execution_count": 2,
   "metadata": {},
   "outputs": [
    {
     "name": "stdout",
     "output_type": "stream",
     "text": [
      "1\n",
      "2\n",
      "3\n",
      "4\n",
      "5\n",
      "6\n",
      "7\n",
      "8\n",
      "9\n"
     ]
    }
   ],
   "source": [
    "i = 1\n",
    "while True:      # While True ile sonsuza kadar yazdirabilir Break ile de bunu ne zaman \n",
    "                # sonlandirdigimizi belirtiriz\n",
    "    print(i)\n",
    "    i += 1\n",
    "    if i == 10:\n",
    "        break\n",
    "         "
   ]
  },
  {
   "cell_type": "code",
   "execution_count": 4,
   "metadata": {},
   "outputs": [
    {
     "name": "stdout",
     "output_type": "stream",
     "text": [
      "1\n",
      "3\n",
      "5\n",
      "7\n",
      "9\n",
      "11\n"
     ]
    }
   ],
   "source": [
    "i = 1\n",
    "while True:        # While döngusu sonsuz olarak kullaniliyor  12 ye kadar \n",
    "    if i %2 == 0:     # tek sayilari nulduk \n",
    "        i += 1\n",
    "        continue\n",
    "    print(i)\n",
    "    i += 1\n",
    "    if i == 12:\n",
    "        break\n",
    "   "
   ]
  },
  {
   "cell_type": "markdown",
   "metadata": {},
   "source": [
    "### faktöriyelini bulma   2*6 = "
   ]
  },
  {
   "cell_type": "code",
   "execution_count": 1,
   "metadata": {},
   "outputs": [
    {
     "name": "stdout",
     "output_type": "stream",
     "text": [
      "Bir sayi giriniz: 6\n",
      "6! = 720\n"
     ]
    }
   ],
   "source": [
    "sayi = int(input(\"Bir sayi giriniz: \"))\n",
    "\n",
    "faktoriyel = 1\n",
    "\n",
    "for i in range(1, sayi + 1):\n",
    "    faktoriyel *= i\n",
    "print(f\"{sayi}! = {faktoriyel}\")    "
   ]
  },
  {
   "cell_type": "code",
   "execution_count": 2,
   "metadata": {},
   "outputs": [
    {
     "ename": "SyntaxError",
     "evalue": "invalid syntax (<ipython-input-2-04f0a25f6e50>, line 2)",
     "output_type": "error",
     "traceback": [
      "\u001b[1;36m  File \u001b[1;32m\"<ipython-input-2-04f0a25f6e50>\"\u001b[1;36m, line \u001b[1;32m2\u001b[0m\n\u001b[1;33m    while i <= 2 sayi:\u001b[0m\n\u001b[1;37m                 ^\u001b[0m\n\u001b[1;31mSyntaxError\u001b[0m\u001b[1;31m:\u001b[0m invalid syntax\n"
     ]
    }
   ],
   "source": [
    "i = 2\n",
    "while i <= 2 sayi:\n",
    "    faktoriyel *= i\n",
    "    i += 1\n",
    "print(f\"{sayi}! = {faktoriyel}\")     "
   ]
  },
  {
   "cell_type": "code",
   "execution_count": 1,
   "metadata": {},
   "outputs": [
    {
     "name": "stdout",
     "output_type": "stream",
     "text": [
      "{'r', 'w', 'y', 'l', 'a', 'c', 's', 'u'}\n",
      "False\n",
      "True\n",
      "False\n",
      "False\n",
      "True\n"
     ]
    }
   ],
   "source": [
    "sol_el = set(\"qwertasdfgzxcvb\")\n",
    "sag_el = set(\"yuiophjklnm\")\n",
    "kelime = set(\"clarusway\")\n",
    "kelime1 = set(\"polly\")\n",
    "kelime2 = set(\"tester\")\n",
    "print(kelime)\n",
    "z = kelime.isdisjoint((sol_el))\n",
    "print(z)\n",
    "m = kelime.issubset((sag_el)|(sol_el))\n",
    "print(m)\n",
    "t= kelime1.issubset(sol_el)\n",
    "print(t)\n",
    "k = kelime2.issubset(sag_el)\n",
    "print(k)\n",
    "ä = kelime.issubset((sag_el)|(sol_el))\n",
    "print(ä)"
   ]
  },
  {
   "cell_type": "code",
   "execution_count": 4,
   "metadata": {},
   "outputs": [
    {
     "name": "stdout",
     "output_type": "stream",
     "text": [
      "The number is less than 10\n"
     ]
    }
   ],
   "source": [
    "#number = 23\n",
    "#number = 8\n",
    "number = -5\n",
    "#number = 10\n",
    "if number >= 10:\n",
    "    print(\"The number is equal or greater than 10\")\n",
    "elif number <= 10:\n",
    "    print(\"The number is less than 10\")\n",
    "\n"
   ]
  },
  {
   "cell_type": "code",
   "execution_count": 1,
   "metadata": {},
   "outputs": [
    {
     "name": "stdout",
     "output_type": "stream",
     "text": [
      "Enter your score :87\n",
      "Your degree: B+\n"
     ]
    }
   ],
   "source": [
    "score = int (input(\"Enter your score :\"))\n",
    "\n",
    "if score >= 90:\n",
    "    if score >= 95:\n",
    "        Score_letter=\"A+\"\n",
    "    else:\n",
    "        Score_letter=\"A\"\n",
    "elif score >= 80:\n",
    "    if score >= 85:\n",
    "        Score_letter=\"B+\"\n",
    "    else:\n",
    "        Score_letter=\"B\"\n",
    "else:\n",
    "    Score_letter=\"below B\"\n",
    "\n",
    "print (\"Your degree: %s\" % Score_letter)"
   ]
  },
  {
   "cell_type": "code",
   "execution_count": 2,
   "metadata": {},
   "outputs": [
    {
     "name": "stdout",
     "output_type": "stream",
     "text": [
      "0\n",
      "1\n",
      "2\n",
      "3\n",
      "4\n",
      "5\n",
      "now, number is bigger or equal to 6\n"
     ]
    }
   ],
   "source": [
    "number = 0\n",
    "\n",
    "while number < 6:\n",
    "    print(number)\n",
    "    number += 1\n",
    "print('now, number is bigger or equal to 6')\n"
   ]
  },
  {
   "cell_type": "code",
   "execution_count": null,
   "metadata": {},
   "outputs": [],
   "source": [
    "nub1 = float (input(\"Enter tehe first number : \"))\n",
    "nub2 = float (input(\"Enter tehe second number : \"))\n",
    "nub3 = float (input(\"Enter tehe third number : \"))"
   ]
  },
  {
   "cell_type": "code",
   "execution_count": 6,
   "metadata": {},
   "outputs": [
    {
     "ename": "IndentationError",
     "evalue": "expected an indented block (<ipython-input-6-0755658bdac0>, line 8)",
     "output_type": "error",
     "traceback": [
      "\u001b[1;36m  File \u001b[1;32m\"<ipython-input-6-0755658bdac0>\"\u001b[1;36m, line \u001b[1;32m8\u001b[0m\n\u001b[1;33m    else:\u001b[0m\n\u001b[1;37m    ^\u001b[0m\n\u001b[1;31mIndentationError\u001b[0m\u001b[1;31m:\u001b[0m expected an indented block\n"
     ]
    }
   ],
   "source": [
    "nub1 = float (input(\"Enter tehe first number : \"))\n",
    "nub2 = float (input(\"Enter tehe second number : \"))\n",
    "nub3 = float (input(\"Enter tehe third number : \"))\n",
    "\n",
    "if (num1 > num2) and (num1 > num3) : \n",
    "    largest = num1\n",
    "elif(num2 > num1) and (num2 > num3 ) :\n",
    "else:\n",
    "    largest = num3\n",
    "print()"
   ]
  },
  {
   "cell_type": "code",
   "execution_count": null,
   "metadata": {},
   "outputs": [],
   "source": [
    "number = int(input(\"Enter a number: \"))\n",
    "if number < 0:\n",
    "  print(\"It's negative\")\n",
    "elif number == 0:\n",
    "  print(\"It is equal to zero\")\n",
    "else:\n",
    "  print(\"It's positive\")  "
   ]
  },
  {
   "cell_type": "code",
   "execution_count": 1,
   "metadata": {},
   "outputs": [],
   "source": [
    "num  = float(input(\"Enter a number: \"))\n",
    "if num > 0:\n",
    "    print(\"posiiive number\")\n",
    "elif num == 0:\n",
    "    print(\"Zerro\"):\n",
    "else: \n",
    "    print(\"Negative nimber\")  "
   ]
  },
  {
   "cell_type": "code",
   "execution_count": 2,
   "metadata": {},
   "outputs": [
    {
     "name": "stdout",
     "output_type": "stream",
     "text": [
      "discounted price!\n"
     ]
    }
   ],
   "source": [
    "audience_group = 'kid', 'teen', 'adult'\n",
    "audience = \"teen\"\n",
    "if audience in audience_group:\n",
    "    if audience == \"kid\":\n",
    "        print(\"it is free to go to cinema\")\n",
    "    elif audience == \"teen\":\n",
    "        print(\"discounted price!\")\n",
    "    else: # audience == \"adult\":\n",
    "        print(\"normal price\")\n",
    "else:\n",
    "    print(\"No such audience, stay at your home!\")"
   ]
  },
  {
   "cell_type": "code",
   "execution_count": null,
   "metadata": {},
   "outputs": [],
   "source": [
    "score = int (input(\"Enter your score :\"))\n",
    "\n",
    "if score >= 95:\n",
    "    if score >= 95:\n",
    "        Score_letter=\"A+\"\n",
    "    else:\n",
    "        Score_letter=\"A\"\n",
    "elif score >= 80:\n",
    "    if score >= 85:\n",
    "        Score_letter=\"B+\"\n",
    "    else:\n",
    "        Score_letter=\"B\"\n",
    "else:\n",
    "    Score_letter=\"below B\"\n",
    "\n",
    "print (\"Your degree: %s\" % Score_letter)"
   ]
  },
  {
   "cell_type": "code",
   "execution_count": null,
   "metadata": {},
   "outputs": [],
   "source": [
    "score = int(input(\"Enter your score : \"))\n",
    "\n",
    "if score >= 90:\n",
    "    if score >= 95:\n",
    "        degre = \"A+\"\n",
    "    else:\n",
    "        degre = \"A\"\n",
    "elif score >= 80:\n",
    "    if score >= 85:\n",
    "        degre = \"B+\"\n",
    "    else:\n",
    "        degre = \"B\"\n",
    "    \n",
    "else:\n",
    "    degre = \"B-\"\n",
    "\n",
    "print(\"Your degre is : \", degre)    \n",
    "    "
   ]
  },
  {
   "cell_type": "code",
   "execution_count": 2,
   "metadata": {},
   "outputs": [
    {
     "name": "stdout",
     "output_type": "stream",
     "text": [
      "2\n"
     ]
    }
   ],
   "source": [
    "while 0 :\n",
    "    print(\"bir\")\n",
    "print(2)    "
   ]
  },
  {
   "cell_type": "code",
   "execution_count": null,
   "metadata": {},
   "outputs": [],
   "source": [
    "while None :\n",
    "    print(\"None\")"
   ]
  },
  {
   "cell_type": "code",
   "execution_count": 9,
   "metadata": {},
   "outputs": [
    {
     "name": "stdout",
     "output_type": "stream",
     "text": [
      "0\n",
      "now number is biggere or equal to 6\n",
      "1\n",
      "now number is biggere or equal to 6\n",
      "2\n",
      "now number is biggere or equal to 6\n",
      "3\n",
      "now number is biggere or equal to 6\n",
      "4\n",
      "now number is biggere or equal to 6\n",
      "5\n",
      "now number is biggere or equal to 6\n"
     ]
    }
   ],
   "source": [
    "number = 0\n",
    "while number < 6:\n",
    "    print(number)\n",
    "    number += 1\n",
    "    print(\"now number is biggere or equal to 6\")"
   ]
  },
  {
   "cell_type": "code",
   "execution_count": 5,
   "metadata": {},
   "outputs": [
    {
     "name": "stdout",
     "output_type": "stream",
     "text": [
      "0\n",
      "1\n",
      "2\n",
      "3\n",
      "4\n",
      "5\n",
      "now, number is bigger or equal to 6\n"
     ]
    }
   ],
   "source": [
    "number = 0\n",
    "while number < 6:\n",
    "    print(number)\n",
    "    number += 1\n",
    "print('now, number is bigger or equal to 6')"
   ]
  },
  {
   "cell_type": "code",
   "execution_count": 12,
   "metadata": {},
   "outputs": [
    {
     "name": "stdout",
     "output_type": "stream",
     "text": [
      "Enter your age : 31.5\n",
      "You enterede in correctly: \n",
      "Enter your age correctly please: l54\n",
      "You enterede in correctly: \n",
      "Enter your age correctly please: 45\n",
      "Great ! You entered valid age :  45\n"
     ]
    }
   ],
   "source": [
    "age = input(\"Enter your age : \")\n",
    "\n",
    "while not age.isdigit():\n",
    "    print(\"You enterede in correctly: \")\n",
    "    age = input(\"Enter your age correctly please: \")\n",
    "    \n",
    "print(\"Great ! You entered valid age : \", age)    \n",
    "    \n",
    "    \n",
    "    "
   ]
  },
  {
   "cell_type": "code",
   "execution_count": 1,
   "metadata": {},
   "outputs": [
    {
     "data": {
      "text/plain": [
       "False"
      ]
     },
     "execution_count": 1,
     "metadata": {},
     "output_type": "execute_result"
    }
   ],
   "source": [
    "\"onbes\".isdigit()   # stringlere uygulanan bir uygulama \n"
   ]
  },
  {
   "cell_type": "code",
   "execution_count": 3,
   "metadata": {},
   "outputs": [
    {
     "data": {
      "text/plain": [
       "True"
      ]
     },
     "execution_count": 3,
     "metadata": {},
     "output_type": "execute_result"
    }
   ],
   "source": [
    "\"16\".isdigit()"
   ]
  },
  {
   "cell_type": "code",
   "execution_count": null,
   "metadata": {},
   "outputs": [],
   "source": [
    "answer = 44\n",
    "question = int(Input(\"Enter a number: \"))\n",
    "\n",
    "while answer\n",
    "\n",
    "if sayi == 40:\n",
    "    print(\"You are correct\")\n",
    " \n",
    "    "
   ]
  },
  {
   "cell_type": "code",
   "execution_count": 13,
   "metadata": {},
   "outputs": [
    {
     "ename": "SyntaxError",
     "evalue": "invalid character in identifier (<ipython-input-13-025a8deb297b>, line 2)",
     "output_type": "error",
     "traceback": [
      "\u001b[1;36m  File \u001b[1;32m\"<ipython-input-13-025a8deb297b>\"\u001b[1;36m, line \u001b[1;32m2\u001b[0m\n\u001b[1;33m    b =int(input(“Enter a number :“))\u001b[0m\n\u001b[1;37m                      ^\u001b[0m\n\u001b[1;31mSyntaxError\u001b[0m\u001b[1;31m:\u001b[0m invalid character in identifier\n"
     ]
    }
   ],
   "source": [
    "a = 45\n",
    "b = int(input(“Enter a number :“))\n",
    "while b=a :\n",
    "    if b>a :\n",
    "        print(“Little lower”)\n",
    "        b =int(input(“Enter a number :“))\n",
    "    else :\n",
    "        print(“Little higher”)\n",
    "        b =int(input(“Enter a number :“))\n",
    "print(“Your are a mindreader”)"
   ]
  },
  {
   "cell_type": "markdown",
   "metadata": {},
   "source": [
    "### The most frequent number"
   ]
  },
  {
   "cell_type": "code",
   "execution_count": null,
   "metadata": {},
   "outputs": [],
   "source": [
    "numbers = [-1,3,7,4,3,7,0,8,16,3,7,0,1]"
   ]
  },
  {
   "cell_type": "code",
   "execution_count": 14,
   "metadata": {},
   "outputs": [
    {
     "data": {
      "text/plain": [
       "3"
      ]
     },
     "execution_count": 14,
     "metadata": {},
     "output_type": "execute_result"
    }
   ],
   "source": [
    "max(1,2,3)"
   ]
  },
  {
   "cell_type": "code",
   "execution_count": 16,
   "metadata": {},
   "outputs": [
    {
     "data": {
      "text/plain": [
       "True"
      ]
     },
     "execution_count": 16,
     "metadata": {},
     "output_type": "execute_result"
    }
   ],
   "source": [
    "empty = []\n",
    "\n",
    "max(empty, default = True)"
   ]
  },
  {
   "cell_type": "code",
   "execution_count": 18,
   "metadata": {},
   "outputs": [
    {
     "data": {
      "text/plain": [
       "'bos'"
      ]
     },
     "execution_count": 18,
     "metadata": {},
     "output_type": "execute_result"
    }
   ],
   "source": [
    "empty = ()\n",
    "\n",
    "max(empty, default = \"bos\")"
   ]
  },
  {
   "cell_type": "code",
   "execution_count": 19,
   "metadata": {},
   "outputs": [
    {
     "data": {
      "text/plain": [
       "4"
      ]
     },
     "execution_count": 19,
     "metadata": {},
     "output_type": "execute_result"
    }
   ],
   "source": [
    "sequence = [1,1,1,1,1,1,2,2,2,2,3,3,3,4]\n",
    "max(sequence)"
   ]
  },
  {
   "cell_type": "code",
   "execution_count": 23,
   "metadata": {},
   "outputs": [
    {
     "data": {
      "text/plain": [
       "1"
      ]
     },
     "execution_count": 23,
     "metadata": {},
     "output_type": "execute_result"
    }
   ],
   "source": [
    "sequence.count(4) # 4 den kac adet var\n",
    "\n"
   ]
  },
  {
   "cell_type": "code",
   "execution_count": 22,
   "metadata": {},
   "outputs": [
    {
     "data": {
      "text/plain": [
       "3"
      ]
     },
     "execution_count": 22,
     "metadata": {},
     "output_type": "execute_result"
    }
   ],
   "source": [
    "sequence.count(3)"
   ]
  },
  {
   "cell_type": "code",
   "execution_count": 24,
   "metadata": {},
   "outputs": [
    {
     "data": {
      "text/plain": [
       "6"
      ]
     },
     "execution_count": 24,
     "metadata": {},
     "output_type": "execute_result"
    }
   ],
   "source": [
    "sequence.count(1)"
   ]
  },
  {
   "cell_type": "code",
   "execution_count": 27,
   "metadata": {},
   "outputs": [],
   "source": [
    "numbers = [-1,3,7,4,3,7,0,8,16,3,7,0,1]"
   ]
  },
  {
   "cell_type": "code",
   "execution_count": 28,
   "metadata": {},
   "outputs": [
    {
     "data": {
      "text/plain": [
       "16"
      ]
     },
     "execution_count": 28,
     "metadata": {},
     "output_type": "execute_result"
    }
   ],
   "source": [
    "max(numbers) "
   ]
  },
  {
   "cell_type": "markdown",
   "metadata": {},
   "source": []
  },
  {
   "cell_type": "raw",
   "metadata": {},
   "source": []
  },
  {
   "cell_type": "code",
   "execution_count": null,
   "metadata": {},
   "outputs": [],
   "source": []
  },
  {
   "cell_type": "code",
   "execution_count": null,
   "metadata": {},
   "outputs": [],
   "source": []
  },
  {
   "cell_type": "code",
   "execution_count": null,
   "metadata": {},
   "outputs": [],
   "source": []
  },
  {
   "cell_type": "code",
   "execution_count": null,
   "metadata": {},
   "outputs": [],
   "source": []
  },
  {
   "cell_type": "code",
   "execution_count": null,
   "metadata": {},
   "outputs": [],
   "source": []
  }
 ],
 "metadata": {
  "kernelspec": {
   "display_name": "Python 3",
   "language": "python",
   "name": "python3"
  },
  "language_info": {
   "codemirror_mode": {
    "name": "ipython",
    "version": 3
   },
   "file_extension": ".py",
   "mimetype": "text/x-python",
   "name": "python",
   "nbconvert_exporter": "python",
   "pygments_lexer": "ipython3",
   "version": "3.8.5"
  }
 },
 "nbformat": 4,
 "nbformat_minor": 4
}
